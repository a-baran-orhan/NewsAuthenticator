{
  "metadata": {
    "kernelspec": {
      "language": "python",
      "display_name": "Python 3",
      "name": "python3"
    },
    "language_info": {
      "name": "python",
      "version": "3.10.10",
      "mimetype": "text/x-python",
      "codemirror_mode": {
        "name": "ipython",
        "version": 3
      },
      "pygments_lexer": "ipython3",
      "nbconvert_exporter": "python",
      "file_extension": ".py"
    },
    "colab": {
      "provenance": [],
      "toc_visible": true
    }
  },
  "nbformat_minor": 0,
  "nbformat": 4,
  "cells": [
    {
      "cell_type": "code",
      "source": [
        "# This Python 3 environment comes with many helpful analytics libraries installed\n",
        "# It is defined by the kaggle/python Docker image: https://github.com/kaggle/docker-python\n",
        "# For example, here's several helpful packages to load\n",
        "\n",
        "import numpy as np # linear algebra\n",
        "import pandas as pd # data processing, CSV file I/O (e.g. pd.read_csv)\n",
        "import seaborn as sns\n",
        "\"\"\"pd.set_option(\"display.max_columns\", None)\n",
        "pd.set_option(\"display.max_rows\", None)\n",
        "pd.set_option(\"display.width\", None)\n",
        "pd.set_option(\"display.max_colwidth\", None)\"\"\"\n",
        "# Input data files are available in the read-only \"../input/\" directory\n",
        "# For example, running this (by clicking run or pressing Shift+Enter) will list all files under the input directory\n",
        "\n",
        "import os\n",
        "for dirname, _, filenames in os.walk('/kaggle/input'):\n",
        "    for filename in filenames:\n",
        "        print(os.path.join(dirname, filename))\n",
        "\n",
        "# You can write up to 20GB to the current directory (/kaggle/working/) that gets preserved as output when you create a version using \"Save & Run All\" \n",
        "# You can also write temporary files to /kaggle/temp/, but they won't be saved outside of the current session"
      ],
      "metadata": {
        "_uuid": "8f2839f25d086af736a60e9eeb907d3b93b6e0e5",
        "_cell_guid": "b1076dfc-b9ad-4769-8c92-a6c4dae69d19",
        "execution": {
          "iopub.status.busy": "2023-05-31T22:55:38.102551Z",
          "iopub.execute_input": "2023-05-31T22:55:38.102922Z",
          "iopub.status.idle": "2023-05-31T22:55:38.117572Z",
          "shell.execute_reply.started": "2023-05-31T22:55:38.102895Z",
          "shell.execute_reply": "2023-05-31T22:55:38.116429Z"
        },
        "trusted": true,
        "id": "65OXAB8Yd5M-",
        "outputId": "476af138-66d1-4a2b-a100-867ae13e1106"
      },
      "execution_count": null,
      "outputs": [
        {
          "name": "stdout",
          "text": "/kaggle/input/fake-and-real-news-dataset/True.csv\n/kaggle/input/fake-and-real-news-dataset/Fake.csv\n",
          "output_type": "stream"
        }
      ]
    },
    {
      "cell_type": "markdown",
      "source": [
        "# Dataset and Details"
      ],
      "metadata": {
        "id": "jXkTSH6Sd5NA"
      }
    },
    {
      "cell_type": "code",
      "source": [
        "true_news = pd.read_csv(\"../input/fake-and-real-news-dataset/True.csv\")\n",
        "false_news = pd.read_csv(\"../input/fake-and-real-news-dataset/Fake.csv\")"
      ],
      "metadata": {
        "execution": {
          "iopub.status.busy": "2023-05-31T22:55:38.120071Z",
          "iopub.execute_input": "2023-05-31T22:55:38.120753Z",
          "iopub.status.idle": "2023-05-31T22:55:39.277278Z",
          "shell.execute_reply.started": "2023-05-31T22:55:38.120710Z",
          "shell.execute_reply": "2023-05-31T22:55:39.275817Z"
        },
        "trusted": true,
        "id": "Be3pYqBPd5NB"
      },
      "execution_count": null,
      "outputs": []
    },
    {
      "cell_type": "code",
      "source": [
        "true_news.head()"
      ],
      "metadata": {
        "execution": {
          "iopub.status.busy": "2023-05-31T22:55:39.279514Z",
          "iopub.execute_input": "2023-05-31T22:55:39.279905Z",
          "iopub.status.idle": "2023-05-31T22:55:39.293395Z",
          "shell.execute_reply.started": "2023-05-31T22:55:39.279871Z",
          "shell.execute_reply": "2023-05-31T22:55:39.292208Z"
        },
        "trusted": true,
        "id": "nXvd1ucAd5NB",
        "outputId": "524f155c-5bef-44d5-8b79-b55c8836e2dd"
      },
      "execution_count": null,
      "outputs": [
        {
          "execution_count": 90,
          "output_type": "execute_result",
          "data": {
            "text/plain": "                                               title  \\\n0  As U.S. budget fight looms, Republicans flip t...   \n1  U.S. military to accept transgender recruits o...   \n2  Senior U.S. Republican senator: 'Let Mr. Muell...   \n3  FBI Russia probe helped by Australian diplomat...   \n4  Trump wants Postal Service to charge 'much mor...   \n\n                                                text       subject  \\\n0  WASHINGTON (Reuters) - The head of a conservat...  politicsNews   \n1  WASHINGTON (Reuters) - Transgender people will...  politicsNews   \n2  WASHINGTON (Reuters) - The special counsel inv...  politicsNews   \n3  WASHINGTON (Reuters) - Trump campaign adviser ...  politicsNews   \n4  SEATTLE/WASHINGTON (Reuters) - President Donal...  politicsNews   \n\n                 date  \n0  December 31, 2017   \n1  December 29, 2017   \n2  December 31, 2017   \n3  December 30, 2017   \n4  December 29, 2017   ",
            "text/html": "<div>\n<style scoped>\n    .dataframe tbody tr th:only-of-type {\n        vertical-align: middle;\n    }\n\n    .dataframe tbody tr th {\n        vertical-align: top;\n    }\n\n    .dataframe thead th {\n        text-align: right;\n    }\n</style>\n<table border=\"1\" class=\"dataframe\">\n  <thead>\n    <tr style=\"text-align: right;\">\n      <th></th>\n      <th>title</th>\n      <th>text</th>\n      <th>subject</th>\n      <th>date</th>\n    </tr>\n  </thead>\n  <tbody>\n    <tr>\n      <th>0</th>\n      <td>As U.S. budget fight looms, Republicans flip t...</td>\n      <td>WASHINGTON (Reuters) - The head of a conservat...</td>\n      <td>politicsNews</td>\n      <td>December 31, 2017</td>\n    </tr>\n    <tr>\n      <th>1</th>\n      <td>U.S. military to accept transgender recruits o...</td>\n      <td>WASHINGTON (Reuters) - Transgender people will...</td>\n      <td>politicsNews</td>\n      <td>December 29, 2017</td>\n    </tr>\n    <tr>\n      <th>2</th>\n      <td>Senior U.S. Republican senator: 'Let Mr. Muell...</td>\n      <td>WASHINGTON (Reuters) - The special counsel inv...</td>\n      <td>politicsNews</td>\n      <td>December 31, 2017</td>\n    </tr>\n    <tr>\n      <th>3</th>\n      <td>FBI Russia probe helped by Australian diplomat...</td>\n      <td>WASHINGTON (Reuters) - Trump campaign adviser ...</td>\n      <td>politicsNews</td>\n      <td>December 30, 2017</td>\n    </tr>\n    <tr>\n      <th>4</th>\n      <td>Trump wants Postal Service to charge 'much mor...</td>\n      <td>SEATTLE/WASHINGTON (Reuters) - President Donal...</td>\n      <td>politicsNews</td>\n      <td>December 29, 2017</td>\n    </tr>\n  </tbody>\n</table>\n</div>"
          },
          "metadata": {}
        }
      ]
    },
    {
      "cell_type": "code",
      "source": [
        "false_news.head()"
      ],
      "metadata": {
        "execution": {
          "iopub.status.busy": "2023-05-31T22:55:39.294560Z",
          "iopub.execute_input": "2023-05-31T22:55:39.294835Z",
          "iopub.status.idle": "2023-05-31T22:55:39.312527Z",
          "shell.execute_reply.started": "2023-05-31T22:55:39.294811Z",
          "shell.execute_reply": "2023-05-31T22:55:39.310976Z"
        },
        "trusted": true,
        "id": "kseUEUDId5NC",
        "outputId": "2f5cd56e-c8f3-462d-ac2e-5096fb78da04"
      },
      "execution_count": null,
      "outputs": [
        {
          "execution_count": 91,
          "output_type": "execute_result",
          "data": {
            "text/plain": "                                               title  \\\n0   Donald Trump Sends Out Embarrassing New Year’...   \n1   Drunk Bragging Trump Staffer Started Russian ...   \n2   Sheriff David Clarke Becomes An Internet Joke...   \n3   Trump Is So Obsessed He Even Has Obama’s Name...   \n4   Pope Francis Just Called Out Donald Trump Dur...   \n\n                                                text subject  \\\n0  Donald Trump just couldn t wish all Americans ...    News   \n1  House Intelligence Committee Chairman Devin Nu...    News   \n2  On Friday, it was revealed that former Milwauk...    News   \n3  On Christmas day, Donald Trump announced that ...    News   \n4  Pope Francis used his annual Christmas Day mes...    News   \n\n                date  \n0  December 31, 2017  \n1  December 31, 2017  \n2  December 30, 2017  \n3  December 29, 2017  \n4  December 25, 2017  ",
            "text/html": "<div>\n<style scoped>\n    .dataframe tbody tr th:only-of-type {\n        vertical-align: middle;\n    }\n\n    .dataframe tbody tr th {\n        vertical-align: top;\n    }\n\n    .dataframe thead th {\n        text-align: right;\n    }\n</style>\n<table border=\"1\" class=\"dataframe\">\n  <thead>\n    <tr style=\"text-align: right;\">\n      <th></th>\n      <th>title</th>\n      <th>text</th>\n      <th>subject</th>\n      <th>date</th>\n    </tr>\n  </thead>\n  <tbody>\n    <tr>\n      <th>0</th>\n      <td>Donald Trump Sends Out Embarrassing New Year’...</td>\n      <td>Donald Trump just couldn t wish all Americans ...</td>\n      <td>News</td>\n      <td>December 31, 2017</td>\n    </tr>\n    <tr>\n      <th>1</th>\n      <td>Drunk Bragging Trump Staffer Started Russian ...</td>\n      <td>House Intelligence Committee Chairman Devin Nu...</td>\n      <td>News</td>\n      <td>December 31, 2017</td>\n    </tr>\n    <tr>\n      <th>2</th>\n      <td>Sheriff David Clarke Becomes An Internet Joke...</td>\n      <td>On Friday, it was revealed that former Milwauk...</td>\n      <td>News</td>\n      <td>December 30, 2017</td>\n    </tr>\n    <tr>\n      <th>3</th>\n      <td>Trump Is So Obsessed He Even Has Obama’s Name...</td>\n      <td>On Christmas day, Donald Trump announced that ...</td>\n      <td>News</td>\n      <td>December 29, 2017</td>\n    </tr>\n    <tr>\n      <th>4</th>\n      <td>Pope Francis Just Called Out Donald Trump Dur...</td>\n      <td>Pope Francis used his annual Christmas Day mes...</td>\n      <td>News</td>\n      <td>December 25, 2017</td>\n    </tr>\n  </tbody>\n</table>\n</div>"
          },
          "metadata": {}
        }
      ]
    },
    {
      "cell_type": "code",
      "source": [
        "true_news['category'] = 1\n",
        "false_news['category'] = 0"
      ],
      "metadata": {
        "execution": {
          "iopub.status.busy": "2023-05-31T22:55:39.315364Z",
          "iopub.execute_input": "2023-05-31T22:55:39.316099Z",
          "iopub.status.idle": "2023-05-31T22:55:39.325666Z",
          "shell.execute_reply.started": "2023-05-31T22:55:39.316063Z",
          "shell.execute_reply": "2023-05-31T22:55:39.324425Z"
        },
        "trusted": true,
        "id": "VXZjp4_9d5NC"
      },
      "execution_count": null,
      "outputs": []
    },
    {
      "cell_type": "code",
      "source": [
        "all_news = pd.concat([true_news, false_news])\n",
        "all_news.head()"
      ],
      "metadata": {
        "execution": {
          "iopub.status.busy": "2023-05-31T22:55:39.327256Z",
          "iopub.execute_input": "2023-05-31T22:55:39.327616Z",
          "iopub.status.idle": "2023-05-31T22:55:39.348582Z",
          "shell.execute_reply.started": "2023-05-31T22:55:39.327590Z",
          "shell.execute_reply": "2023-05-31T22:55:39.346479Z"
        },
        "trusted": true,
        "id": "VOAAi3sMd5ND",
        "outputId": "b165d05f-f177-458e-d07f-f34516a37fce"
      },
      "execution_count": null,
      "outputs": [
        {
          "execution_count": 93,
          "output_type": "execute_result",
          "data": {
            "text/plain": "                                               title  \\\n0  As U.S. budget fight looms, Republicans flip t...   \n1  U.S. military to accept transgender recruits o...   \n2  Senior U.S. Republican senator: 'Let Mr. Muell...   \n3  FBI Russia probe helped by Australian diplomat...   \n4  Trump wants Postal Service to charge 'much mor...   \n\n                                                text       subject  \\\n0  WASHINGTON (Reuters) - The head of a conservat...  politicsNews   \n1  WASHINGTON (Reuters) - Transgender people will...  politicsNews   \n2  WASHINGTON (Reuters) - The special counsel inv...  politicsNews   \n3  WASHINGTON (Reuters) - Trump campaign adviser ...  politicsNews   \n4  SEATTLE/WASHINGTON (Reuters) - President Donal...  politicsNews   \n\n                 date  category  \n0  December 31, 2017          1  \n1  December 29, 2017          1  \n2  December 31, 2017          1  \n3  December 30, 2017          1  \n4  December 29, 2017          1  ",
            "text/html": "<div>\n<style scoped>\n    .dataframe tbody tr th:only-of-type {\n        vertical-align: middle;\n    }\n\n    .dataframe tbody tr th {\n        vertical-align: top;\n    }\n\n    .dataframe thead th {\n        text-align: right;\n    }\n</style>\n<table border=\"1\" class=\"dataframe\">\n  <thead>\n    <tr style=\"text-align: right;\">\n      <th></th>\n      <th>title</th>\n      <th>text</th>\n      <th>subject</th>\n      <th>date</th>\n      <th>category</th>\n    </tr>\n  </thead>\n  <tbody>\n    <tr>\n      <th>0</th>\n      <td>As U.S. budget fight looms, Republicans flip t...</td>\n      <td>WASHINGTON (Reuters) - The head of a conservat...</td>\n      <td>politicsNews</td>\n      <td>December 31, 2017</td>\n      <td>1</td>\n    </tr>\n    <tr>\n      <th>1</th>\n      <td>U.S. military to accept transgender recruits o...</td>\n      <td>WASHINGTON (Reuters) - Transgender people will...</td>\n      <td>politicsNews</td>\n      <td>December 29, 2017</td>\n      <td>1</td>\n    </tr>\n    <tr>\n      <th>2</th>\n      <td>Senior U.S. Republican senator: 'Let Mr. Muell...</td>\n      <td>WASHINGTON (Reuters) - The special counsel inv...</td>\n      <td>politicsNews</td>\n      <td>December 31, 2017</td>\n      <td>1</td>\n    </tr>\n    <tr>\n      <th>3</th>\n      <td>FBI Russia probe helped by Australian diplomat...</td>\n      <td>WASHINGTON (Reuters) - Trump campaign adviser ...</td>\n      <td>politicsNews</td>\n      <td>December 30, 2017</td>\n      <td>1</td>\n    </tr>\n    <tr>\n      <th>4</th>\n      <td>Trump wants Postal Service to charge 'much mor...</td>\n      <td>SEATTLE/WASHINGTON (Reuters) - President Donal...</td>\n      <td>politicsNews</td>\n      <td>December 29, 2017</td>\n      <td>1</td>\n    </tr>\n  </tbody>\n</table>\n</div>"
          },
          "metadata": {}
        }
      ]
    },
    {
      "cell_type": "code",
      "source": [
        "true_news.info()"
      ],
      "metadata": {
        "execution": {
          "iopub.status.busy": "2023-05-31T22:55:39.350429Z",
          "iopub.execute_input": "2023-05-31T22:55:39.351249Z",
          "iopub.status.idle": "2023-05-31T22:55:39.380589Z",
          "shell.execute_reply.started": "2023-05-31T22:55:39.351214Z",
          "shell.execute_reply": "2023-05-31T22:55:39.379078Z"
        },
        "trusted": true,
        "id": "EVGlxAgFd5ND",
        "outputId": "1c2cb88c-d768-47e5-d793-d502406fab1c"
      },
      "execution_count": null,
      "outputs": [
        {
          "name": "stdout",
          "text": "<class 'pandas.core.frame.DataFrame'>\nRangeIndex: 21417 entries, 0 to 21416\nData columns (total 5 columns):\n #   Column    Non-Null Count  Dtype \n---  ------    --------------  ----- \n 0   title     21417 non-null  object\n 1   text      21417 non-null  object\n 2   subject   21417 non-null  object\n 3   date      21417 non-null  object\n 4   category  21417 non-null  int64 \ndtypes: int64(1), object(4)\nmemory usage: 836.7+ KB\n",
          "output_type": "stream"
        }
      ]
    },
    {
      "cell_type": "code",
      "source": [
        "true_news.subject.value_counts()"
      ],
      "metadata": {
        "execution": {
          "iopub.status.busy": "2023-05-31T22:55:39.382042Z",
          "iopub.execute_input": "2023-05-31T22:55:39.382728Z",
          "iopub.status.idle": "2023-05-31T22:55:39.393011Z",
          "shell.execute_reply.started": "2023-05-31T22:55:39.382685Z",
          "shell.execute_reply": "2023-05-31T22:55:39.391796Z"
        },
        "trusted": true,
        "id": "DJfX_KAvd5ND",
        "outputId": "f2301b0d-621c-4663-b4e9-ebda056e57d6"
      },
      "execution_count": null,
      "outputs": [
        {
          "execution_count": 95,
          "output_type": "execute_result",
          "data": {
            "text/plain": "politicsNews    11272\nworldnews       10145\nName: subject, dtype: int64"
          },
          "metadata": {}
        }
      ]
    },
    {
      "cell_type": "code",
      "source": [
        "false_news.info()"
      ],
      "metadata": {
        "execution": {
          "iopub.status.busy": "2023-05-31T22:55:39.394931Z",
          "iopub.execute_input": "2023-05-31T22:55:39.395416Z",
          "iopub.status.idle": "2023-05-31T22:55:39.430804Z",
          "shell.execute_reply.started": "2023-05-31T22:55:39.395373Z",
          "shell.execute_reply": "2023-05-31T22:55:39.429796Z"
        },
        "trusted": true,
        "id": "WJNAznF4d5NE",
        "outputId": "9be950e1-3620-4aea-9523-0035704569e7"
      },
      "execution_count": null,
      "outputs": [
        {
          "name": "stdout",
          "text": "<class 'pandas.core.frame.DataFrame'>\nRangeIndex: 23481 entries, 0 to 23480\nData columns (total 5 columns):\n #   Column    Non-Null Count  Dtype \n---  ------    --------------  ----- \n 0   title     23481 non-null  object\n 1   text      23481 non-null  object\n 2   subject   23481 non-null  object\n 3   date      23481 non-null  object\n 4   category  23481 non-null  int64 \ndtypes: int64(1), object(4)\nmemory usage: 917.4+ KB\n",
          "output_type": "stream"
        }
      ]
    },
    {
      "cell_type": "code",
      "source": [
        "false_news.subject.value_counts()"
      ],
      "metadata": {
        "execution": {
          "iopub.status.busy": "2023-05-31T22:55:39.431995Z",
          "iopub.execute_input": "2023-05-31T22:55:39.432745Z",
          "iopub.status.idle": "2023-05-31T22:55:39.443132Z",
          "shell.execute_reply.started": "2023-05-31T22:55:39.432709Z",
          "shell.execute_reply": "2023-05-31T22:55:39.441305Z"
        },
        "trusted": true,
        "id": "D303uJopd5NE",
        "outputId": "397dae9a-8b77-4fc0-cdbc-30fed62ea529"
      },
      "execution_count": null,
      "outputs": [
        {
          "execution_count": 97,
          "output_type": "execute_result",
          "data": {
            "text/plain": "News               9050\npolitics           6841\nleft-news          4459\nGovernment News    1570\nUS_News             783\nMiddle-east         778\nName: subject, dtype: int64"
          },
          "metadata": {}
        }
      ]
    },
    {
      "cell_type": "markdown",
      "source": [
        "Right now this class imbalance is not considered high skewed. After getting the results if I get not accurate results, I will consider some approaches for imbalance."
      ],
      "metadata": {
        "id": "moGVomj_d5NE"
      }
    },
    {
      "cell_type": "code",
      "source": [
        "all_news.info()"
      ],
      "metadata": {
        "execution": {
          "iopub.status.busy": "2023-05-31T22:55:39.448255Z",
          "iopub.execute_input": "2023-05-31T22:55:39.448619Z",
          "iopub.status.idle": "2023-05-31T22:55:39.494373Z",
          "shell.execute_reply.started": "2023-05-31T22:55:39.448590Z",
          "shell.execute_reply": "2023-05-31T22:55:39.492813Z"
        },
        "trusted": true,
        "id": "dsTq3kO3d5NE",
        "outputId": "f6c1ed5c-940f-4e0e-93f0-b58732889a11"
      },
      "execution_count": null,
      "outputs": [
        {
          "name": "stdout",
          "text": "<class 'pandas.core.frame.DataFrame'>\nInt64Index: 44898 entries, 0 to 23480\nData columns (total 5 columns):\n #   Column    Non-Null Count  Dtype \n---  ------    --------------  ----- \n 0   title     44898 non-null  object\n 1   text      44898 non-null  object\n 2   subject   44898 non-null  object\n 3   date      44898 non-null  object\n 4   category  44898 non-null  int64 \ndtypes: int64(1), object(4)\nmemory usage: 2.1+ MB\n",
          "output_type": "stream"
        }
      ]
    },
    {
      "cell_type": "code",
      "source": [
        "all_news.isna().sum()"
      ],
      "metadata": {
        "execution": {
          "iopub.status.busy": "2023-05-31T22:55:39.496956Z",
          "iopub.execute_input": "2023-05-31T22:55:39.497341Z",
          "iopub.status.idle": "2023-05-31T22:55:39.544293Z",
          "shell.execute_reply.started": "2023-05-31T22:55:39.497307Z",
          "shell.execute_reply": "2023-05-31T22:55:39.542616Z"
        },
        "trusted": true,
        "id": "DohcRprsd5NF",
        "outputId": "bb84e48a-1033-4aad-8a8a-151ec58322ba"
      },
      "execution_count": null,
      "outputs": [
        {
          "execution_count": 99,
          "output_type": "execute_result",
          "data": {
            "text/plain": "title       0\ntext        0\nsubject     0\ndate        0\ncategory    0\ndtype: int64"
          },
          "metadata": {}
        }
      ]
    },
    {
      "cell_type": "code",
      "source": [
        "all_news.subject.value_counts()"
      ],
      "metadata": {
        "execution": {
          "iopub.status.busy": "2023-05-31T22:55:39.545650Z",
          "iopub.execute_input": "2023-05-31T22:55:39.546193Z",
          "iopub.status.idle": "2023-05-31T22:55:39.563164Z",
          "shell.execute_reply.started": "2023-05-31T22:55:39.546160Z",
          "shell.execute_reply": "2023-05-31T22:55:39.562108Z"
        },
        "trusted": true,
        "id": "UJYPau5Od5NF",
        "outputId": "9c6db956-7c69-4a0e-ea19-9a1d1c351b3b"
      },
      "execution_count": null,
      "outputs": [
        {
          "execution_count": 100,
          "output_type": "execute_result",
          "data": {
            "text/plain": "politicsNews       11272\nworldnews          10145\nNews                9050\npolitics            6841\nleft-news           4459\nGovernment News     1570\nUS_News              783\nMiddle-east          778\nName: subject, dtype: int64"
          },
          "metadata": {}
        }
      ]
    },
    {
      "cell_type": "code",
      "source": [
        "all_news.head()"
      ],
      "metadata": {
        "execution": {
          "iopub.status.busy": "2023-05-31T22:55:39.565036Z",
          "iopub.execute_input": "2023-05-31T22:55:39.565374Z",
          "iopub.status.idle": "2023-05-31T22:55:39.582168Z",
          "shell.execute_reply.started": "2023-05-31T22:55:39.565329Z",
          "shell.execute_reply": "2023-05-31T22:55:39.581170Z"
        },
        "trusted": true,
        "id": "OtEuA0mad5NF",
        "outputId": "497ae662-7e8a-430b-c64a-fee8bcca7d77"
      },
      "execution_count": null,
      "outputs": [
        {
          "execution_count": 101,
          "output_type": "execute_result",
          "data": {
            "text/plain": "                                               title  \\\n0  As U.S. budget fight looms, Republicans flip t...   \n1  U.S. military to accept transgender recruits o...   \n2  Senior U.S. Republican senator: 'Let Mr. Muell...   \n3  FBI Russia probe helped by Australian diplomat...   \n4  Trump wants Postal Service to charge 'much mor...   \n\n                                                text       subject  \\\n0  WASHINGTON (Reuters) - The head of a conservat...  politicsNews   \n1  WASHINGTON (Reuters) - Transgender people will...  politicsNews   \n2  WASHINGTON (Reuters) - The special counsel inv...  politicsNews   \n3  WASHINGTON (Reuters) - Trump campaign adviser ...  politicsNews   \n4  SEATTLE/WASHINGTON (Reuters) - President Donal...  politicsNews   \n\n                 date  category  \n0  December 31, 2017          1  \n1  December 29, 2017          1  \n2  December 31, 2017          1  \n3  December 30, 2017          1  \n4  December 29, 2017          1  ",
            "text/html": "<div>\n<style scoped>\n    .dataframe tbody tr th:only-of-type {\n        vertical-align: middle;\n    }\n\n    .dataframe tbody tr th {\n        vertical-align: top;\n    }\n\n    .dataframe thead th {\n        text-align: right;\n    }\n</style>\n<table border=\"1\" class=\"dataframe\">\n  <thead>\n    <tr style=\"text-align: right;\">\n      <th></th>\n      <th>title</th>\n      <th>text</th>\n      <th>subject</th>\n      <th>date</th>\n      <th>category</th>\n    </tr>\n  </thead>\n  <tbody>\n    <tr>\n      <th>0</th>\n      <td>As U.S. budget fight looms, Republicans flip t...</td>\n      <td>WASHINGTON (Reuters) - The head of a conservat...</td>\n      <td>politicsNews</td>\n      <td>December 31, 2017</td>\n      <td>1</td>\n    </tr>\n    <tr>\n      <th>1</th>\n      <td>U.S. military to accept transgender recruits o...</td>\n      <td>WASHINGTON (Reuters) - Transgender people will...</td>\n      <td>politicsNews</td>\n      <td>December 29, 2017</td>\n      <td>1</td>\n    </tr>\n    <tr>\n      <th>2</th>\n      <td>Senior U.S. Republican senator: 'Let Mr. Muell...</td>\n      <td>WASHINGTON (Reuters) - The special counsel inv...</td>\n      <td>politicsNews</td>\n      <td>December 31, 2017</td>\n      <td>1</td>\n    </tr>\n    <tr>\n      <th>3</th>\n      <td>FBI Russia probe helped by Australian diplomat...</td>\n      <td>WASHINGTON (Reuters) - Trump campaign adviser ...</td>\n      <td>politicsNews</td>\n      <td>December 30, 2017</td>\n      <td>1</td>\n    </tr>\n    <tr>\n      <th>4</th>\n      <td>Trump wants Postal Service to charge 'much mor...</td>\n      <td>SEATTLE/WASHINGTON (Reuters) - President Donal...</td>\n      <td>politicsNews</td>\n      <td>December 29, 2017</td>\n      <td>1</td>\n    </tr>\n  </tbody>\n</table>\n</div>"
          },
          "metadata": {}
        }
      ]
    },
    {
      "cell_type": "code",
      "source": [
        "print(all_news.duplicated().sum())\n",
        "all_news.drop_duplicates(inplace = True)"
      ],
      "metadata": {
        "execution": {
          "iopub.status.busy": "2023-05-31T22:55:39.583290Z",
          "iopub.execute_input": "2023-05-31T22:55:39.583678Z",
          "iopub.status.idle": "2023-05-31T22:55:40.113376Z",
          "shell.execute_reply.started": "2023-05-31T22:55:39.583647Z",
          "shell.execute_reply": "2023-05-31T22:55:40.112417Z"
        },
        "trusted": true,
        "id": "555JDOMkd5NG",
        "outputId": "07251fe6-29d3-41b3-fc02-0211672d57d4"
      },
      "execution_count": null,
      "outputs": [
        {
          "name": "stdout",
          "text": "209\n",
          "output_type": "stream"
        }
      ]
    },
    {
      "cell_type": "code",
      "source": [
        "import matplotlib.pyplot as plt\n",
        "import seaborn as sns\n",
        "\n",
        "plt.figure(figsize=(12, 8))\n",
        "sns.set(style=\"whitegrid\", font_scale=1.2)\n",
        "chart = sns.countplot(x=\"subject\", hue=\"category\", data=all_news, palette=\"Set2\")\n",
        "chart.set_xticklabels(chart.get_xticklabels(), rotation=45, ha=\"right\")\n",
        "chart.legend(title=\"Category\", loc=\"upper right\")\n",
        "\n",
        "plt.title(\"Distribution of Subjects by Category\")\n",
        "plt.xlabel(\"Subject\")\n",
        "plt.ylabel(\"Count\")\n",
        "\n",
        "sns.despine()\n",
        "\n",
        "plt.tight_layout()\n",
        "plt.show()\n"
      ],
      "metadata": {
        "execution": {
          "iopub.status.busy": "2023-06-01T12:57:06.816647Z",
          "iopub.execute_input": "2023-06-01T12:57:06.817109Z",
          "iopub.status.idle": "2023-06-01T12:57:07.501026Z",
          "shell.execute_reply.started": "2023-06-01T12:57:06.817074Z",
          "shell.execute_reply": "2023-06-01T12:57:07.499554Z"
        },
        "trusted": true,
        "id": "bpD2d5lhd5NG"
      },
      "execution_count": null,
      "outputs": []
    },
    {
      "cell_type": "code",
      "source": [
        "all_news['text'] = all_news['title']+ \"---\" +  all_news['text'] \n",
        "del all_news['title']\n",
        "del all_news['subject']\n",
        "del all_news['date']"
      ],
      "metadata": {
        "execution": {
          "iopub.status.busy": "2023-05-31T22:55:40.507448Z",
          "iopub.execute_input": "2023-05-31T22:55:40.508311Z",
          "iopub.status.idle": "2023-05-31T22:55:40.603343Z",
          "shell.execute_reply.started": "2023-05-31T22:55:40.508276Z",
          "shell.execute_reply": "2023-05-31T22:55:40.601753Z"
        },
        "trusted": true,
        "id": "Zxy0JRPdd5NG"
      },
      "execution_count": null,
      "outputs": []
    },
    {
      "cell_type": "code",
      "source": [
        "all_news.head()"
      ],
      "metadata": {
        "execution": {
          "iopub.status.busy": "2023-05-31T22:55:40.604917Z",
          "iopub.execute_input": "2023-05-31T22:55:40.605920Z",
          "iopub.status.idle": "2023-05-31T22:55:40.616888Z",
          "shell.execute_reply.started": "2023-05-31T22:55:40.605876Z",
          "shell.execute_reply": "2023-05-31T22:55:40.615870Z"
        },
        "trusted": true,
        "id": "x8fHnfO-d5NG",
        "outputId": "86d7da91-84e9-44bc-b972-954b7f7f9bf2"
      },
      "execution_count": null,
      "outputs": [
        {
          "execution_count": 105,
          "output_type": "execute_result",
          "data": {
            "text/plain": "                                                text  category\n0  As U.S. budget fight looms, Republicans flip t...         1\n1  U.S. military to accept transgender recruits o...         1\n2  Senior U.S. Republican senator: 'Let Mr. Muell...         1\n3  FBI Russia probe helped by Australian diplomat...         1\n4  Trump wants Postal Service to charge 'much mor...         1",
            "text/html": "<div>\n<style scoped>\n    .dataframe tbody tr th:only-of-type {\n        vertical-align: middle;\n    }\n\n    .dataframe tbody tr th {\n        vertical-align: top;\n    }\n\n    .dataframe thead th {\n        text-align: right;\n    }\n</style>\n<table border=\"1\" class=\"dataframe\">\n  <thead>\n    <tr style=\"text-align: right;\">\n      <th></th>\n      <th>text</th>\n      <th>category</th>\n    </tr>\n  </thead>\n  <tbody>\n    <tr>\n      <th>0</th>\n      <td>As U.S. budget fight looms, Republicans flip t...</td>\n      <td>1</td>\n    </tr>\n    <tr>\n      <th>1</th>\n      <td>U.S. military to accept transgender recruits o...</td>\n      <td>1</td>\n    </tr>\n    <tr>\n      <th>2</th>\n      <td>Senior U.S. Republican senator: 'Let Mr. Muell...</td>\n      <td>1</td>\n    </tr>\n    <tr>\n      <th>3</th>\n      <td>FBI Russia probe helped by Australian diplomat...</td>\n      <td>1</td>\n    </tr>\n    <tr>\n      <th>4</th>\n      <td>Trump wants Postal Service to charge 'much mor...</td>\n      <td>1</td>\n    </tr>\n  </tbody>\n</table>\n</div>"
          },
          "metadata": {}
        }
      ]
    },
    {
      "cell_type": "markdown",
      "source": [
        "#Preprocess"
      ],
      "metadata": {
        "id": "gV8a-Nn6d5NH"
      }
    },
    {
      "cell_type": "code",
      "source": [
        "import nltk\n",
        "from nltk.corpus import stopwords\n",
        "import string\n",
        "\n",
        "stop = set(stopwords.words('english'))\n",
        "punctuation = list(string.punctuation)\n",
        "stop.update(punctuation)\n",
        "\n"
      ],
      "metadata": {
        "execution": {
          "iopub.status.busy": "2023-05-31T22:55:40.618529Z",
          "iopub.execute_input": "2023-05-31T22:55:40.618825Z",
          "iopub.status.idle": "2023-05-31T22:55:40.628793Z",
          "shell.execute_reply.started": "2023-05-31T22:55:40.618799Z",
          "shell.execute_reply": "2023-05-31T22:55:40.627757Z"
        },
        "trusted": true,
        "id": "d9BWby5ud5NH"
      },
      "execution_count": null,
      "outputs": []
    },
    {
      "cell_type": "markdown",
      "source": [
        "Cleaning\n"
      ],
      "metadata": {
        "id": "r0GjePwbd5NH"
      }
    },
    {
      "cell_type": "code",
      "source": [
        "import re\n",
        "from bs4 import BeautifulSoup\n",
        "import requests  # Import the requests library\n",
        "import nltk\n",
        "from nltk.corpus import stopwords\n",
        "\n",
        "nltk.download('stopwords')\n",
        "\n",
        "\n",
        "def strip_html(text):\n",
        "    if text.startswith('http://') or text.startswith('https://'):\n",
        "        response = requests.get(text)\n",
        "        soup = BeautifulSoup(response.content, 'html.parser')\n",
        "        return soup.get_text()\n",
        "    else:\n",
        "        soup = BeautifulSoup(text, 'html.parser')\n",
        "        return soup.get_text()\n",
        "\n",
        "#Removing the square brackets\n",
        "def remove_between_square_brackets(text):\n",
        "    return re.sub('\\[[^]]*\\]', '', text)\n",
        "# Removing URL's\n",
        "def remove_url(text):\n",
        "    return re.sub(r'http\\S+', '', text)\n",
        "\n",
        "def remove_stopwords(text):\n",
        "    final_text = []\n",
        "    for word in text.split():\n",
        "        if word.strip().lower() not in stop:\n",
        "            final_text.append(word.strip())\n",
        "    return \" \".join(final_text)\n",
        "\n",
        "def denoise_text(text):\n",
        "    text = strip_html(text)\n",
        "    text = remove_between_square_brackets(text)\n",
        "    text = remove_url(text)\n",
        "    text = remove_stopwords(text)\n",
        "    return text\n",
        "\n",
        "\n",
        "\n",
        "all_news['text'] = all_news['text'].apply(denoise_text)\n"
      ],
      "metadata": {
        "execution": {
          "iopub.status.busy": "2023-05-31T22:55:40.630550Z",
          "iopub.execute_input": "2023-05-31T22:55:40.631455Z",
          "iopub.status.idle": "2023-05-31T22:55:52.393869Z",
          "shell.execute_reply.started": "2023-05-31T22:55:40.631418Z",
          "shell.execute_reply": "2023-05-31T22:55:52.392546Z"
        },
        "trusted": true,
        "id": "zQ7YWMk-d5NH",
        "outputId": "36f69bde-e469-44dd-d24f-d21ff009f06f"
      },
      "execution_count": null,
      "outputs": [
        {
          "name": "stdout",
          "text": "[nltk_data] Downloading package stopwords to /usr/share/nltk_data...\n[nltk_data]   Package stopwords is already up-to-date!\n",
          "output_type": "stream"
        },
        {
          "name": "stderr",
          "text": "/tmp/ipykernel_34/794439218.py:16: MarkupResemblesLocatorWarning: The input looks more like a filename than markup. You may want to open this file and pass the filehandle into Beautiful Soup.\n  soup = BeautifulSoup(text, 'html.parser')\n",
          "output_type": "stream"
        }
      ]
    },
    {
      "cell_type": "code",
      "source": [
        "all_news.head()"
      ],
      "metadata": {
        "execution": {
          "iopub.status.busy": "2023-05-31T22:55:52.395344Z",
          "iopub.execute_input": "2023-05-31T22:55:52.395718Z",
          "iopub.status.idle": "2023-05-31T22:55:52.405273Z",
          "shell.execute_reply.started": "2023-05-31T22:55:52.395686Z",
          "shell.execute_reply": "2023-05-31T22:55:52.404288Z"
        },
        "trusted": true,
        "id": "NlUiPXO7d5NI",
        "outputId": "1a668eb5-36dc-4220-b27b-4368d0710574"
      },
      "execution_count": null,
      "outputs": [
        {
          "execution_count": 108,
          "output_type": "execute_result",
          "data": {
            "text/plain": "                                                text  category\n0  U.S. budget fight looms, Republicans flip fisc...         1\n1  U.S. military accept transgender recruits Mond...         1\n2  Senior U.S. Republican senator: 'Let Mr. Muell...         1\n3  FBI Russia probe helped Australian diplomat ti...         1\n4  Trump wants Postal Service charge 'much more' ...         1",
            "text/html": "<div>\n<style scoped>\n    .dataframe tbody tr th:only-of-type {\n        vertical-align: middle;\n    }\n\n    .dataframe tbody tr th {\n        vertical-align: top;\n    }\n\n    .dataframe thead th {\n        text-align: right;\n    }\n</style>\n<table border=\"1\" class=\"dataframe\">\n  <thead>\n    <tr style=\"text-align: right;\">\n      <th></th>\n      <th>text</th>\n      <th>category</th>\n    </tr>\n  </thead>\n  <tbody>\n    <tr>\n      <th>0</th>\n      <td>U.S. budget fight looms, Republicans flip fisc...</td>\n      <td>1</td>\n    </tr>\n    <tr>\n      <th>1</th>\n      <td>U.S. military accept transgender recruits Mond...</td>\n      <td>1</td>\n    </tr>\n    <tr>\n      <th>2</th>\n      <td>Senior U.S. Republican senator: 'Let Mr. Muell...</td>\n      <td>1</td>\n    </tr>\n    <tr>\n      <th>3</th>\n      <td>FBI Russia probe helped Australian diplomat ti...</td>\n      <td>1</td>\n    </tr>\n    <tr>\n      <th>4</th>\n      <td>Trump wants Postal Service charge 'much more' ...</td>\n      <td>1</td>\n    </tr>\n  </tbody>\n</table>\n</div>"
          },
          "metadata": {}
        }
      ]
    },
    {
      "cell_type": "markdown",
      "source": [
        "Wordcloud"
      ],
      "metadata": {
        "id": "DbYobnKld5NI"
      }
    },
    {
      "cell_type": "markdown",
      "source": [
        "True class"
      ],
      "metadata": {
        "id": "60oCrWDnd5NI"
      }
    },
    {
      "cell_type": "code",
      "source": [
        "from wordcloud import WordCloud, STOPWORDS \n",
        "\n",
        "import matplotlib.pyplot as plt\n",
        "\n",
        "texts = all_news[all_news.category == 1].text\n",
        "\n",
        "# Create the WordCloud object with custom settings\n",
        "wc = WordCloud(\n",
        "    max_words=2000,\n",
        "    width=1600,\n",
        "    height=800,\n",
        "    stopwords=STOPWORDS,  # Use STOPWORDS\n",
        "    background_color='white',\n",
        "    colormap='viridis',\n",
        "    random_state=42\n",
        ").generate(\" \".join(texts))\n",
        "\n",
        "# Create a figure and axis objects\n",
        "fig, ax = plt.subplots(figsize=(12, 8))\n",
        "\n",
        "# Display the WordCloud on the axis\n",
        "ax.imshow(wc, interpolation='bilinear')\n",
        "ax.set_axis_off()\n",
        "\n",
        "ax.set_title(\"Word Cloud - Texts Belonging to Category 1\", fontsize=18, fontweight='bold')\n",
        "\n",
        "plt.tight_layout()\n",
        "\n",
        "plt.show()\n"
      ],
      "metadata": {
        "execution": {
          "iopub.status.busy": "2023-05-31T22:55:52.406561Z",
          "iopub.execute_input": "2023-05-31T22:55:52.406879Z",
          "iopub.status.idle": "2023-05-31T22:55:52.424427Z",
          "shell.execute_reply.started": "2023-05-31T22:55:52.406852Z",
          "shell.execute_reply": "2023-05-31T22:55:52.423294Z"
        },
        "trusted": true,
        "id": "8joATOHKd5NI",
        "outputId": "dd9d193e-9d77-4979-f262-0d3893f28478"
      },
      "execution_count": null,
      "outputs": [
        {
          "execution_count": 109,
          "output_type": "execute_result",
          "data": {
            "text/plain": "'\\n# Filter the DataFrame to select only the texts belonging to the category \"1\"\\ntexts = all_news[all_news.category == 1].text\\n\\n# Create the WordCloud object with custom settings\\nwc = WordCloud(\\n    max_words=2000,\\n    width=1600,\\n    height=800,\\n    stopwords=STOPWORDS,  # Use STOPWORDS\\n    background_color=\\'white\\',\\n    colormap=\\'viridis\\',\\n    random_state=42\\n).generate(\" \".join(texts))\\n\\n# Create a figure and axis objects\\nfig, ax = plt.subplots(figsize=(12, 8))\\n\\n# Display the WordCloud on the axis\\nax.imshow(wc, interpolation=\\'bilinear\\')\\nax.set_axis_off()\\n\\n# Add a title to the plot\\nax.set_title(\"Word Cloud - Texts Belonging to Category 1\", fontsize=18, fontweight=\\'bold\\')\\n\\n# Adjust the layout to prevent clipping of the title\\nplt.tight_layout()\\n\\n# Show the plot\\nplt.show()'"
          },
          "metadata": {}
        }
      ]
    },
    {
      "cell_type": "markdown",
      "source": [
        "Fake class"
      ],
      "metadata": {
        "id": "013-POJtVKBJ"
      }
    },
    {
      "cell_type": "code",
      "source": [
        "\n",
        "texts = all_news[all_news.category == 0].text\n",
        "\n",
        "wc = WordCloud(\n",
        "    max_words=2000,\n",
        "    width=1600,\n",
        "    height=800,\n",
        "    stopwords=STOPWORDS,  \n",
        "    background_color='white',\n",
        "    colormap='viridis',\n",
        "    random_state=42\n",
        ").generate(\" \".join(texts))\n",
        "\n",
        "# Create a figure and axis objects\n",
        "fig, ax = plt.subplots(figsize=(12, 8))\n",
        "\n",
        "# Display the WordCloud on the axis\n",
        "ax.imshow(wc, interpolation='bilinear')\n",
        "ax.set_axis_off()\n",
        "\n",
        "ax.set_title(\"Word Cloud - Texts Belonging to Category 0\", fontsize=18, fontweight='bold')\n",
        "\n",
        "plt.tight_layout()\n",
        "\n",
        "plt.show()"
      ],
      "metadata": {
        "execution": {
          "iopub.status.busy": "2023-05-31T22:55:52.427141Z",
          "iopub.execute_input": "2023-05-31T22:55:52.427828Z",
          "iopub.status.idle": "2023-05-31T22:55:52.446073Z",
          "shell.execute_reply.started": "2023-05-31T22:55:52.427786Z",
          "shell.execute_reply": "2023-05-31T22:55:52.444765Z"
        },
        "trusted": true,
        "id": "ypwjlvsud5NI",
        "outputId": "1096e967-203a-4ad2-f927-3f9fabbac091"
      },
      "execution_count": null,
      "outputs": [
        {
          "execution_count": 110,
          "output_type": "execute_result",
          "data": {
            "text/plain": "'\\n# Filter the DataFrame to select only the texts belonging to the category \"1\"\\ntexts = all_news[all_news.category == 0].text\\n\\n# Create the WordCloud object with custom settings\\nwc = WordCloud(\\n    max_words=2000,\\n    width=1600,\\n    height=800,\\n    stopwords=STOPWORDS,  # Use STOPWORDS\\n    background_color=\\'white\\',\\n    colormap=\\'viridis\\',\\n    random_state=42\\n).generate(\" \".join(texts))\\n\\n# Create a figure and axis objects\\nfig, ax = plt.subplots(figsize=(12, 8))\\n\\n# Display the WordCloud on the axis\\nax.imshow(wc, interpolation=\\'bilinear\\')\\nax.set_axis_off()\\n\\n# Add a title to the plot\\nax.set_title(\"Word Cloud - Texts Belonging to Category 0\", fontsize=18, fontweight=\\'bold\\')\\n\\n# Adjust the layout to prevent clipping of the title\\nplt.tight_layout()\\n\\n# Show the plot\\nplt.show()'"
          },
          "metadata": {}
        }
      ]
    },
    {
      "cell_type": "markdown",
      "source": [
        "distribution of average word lengths in two categories of text: \"Original text\" and \"Fake text\""
      ],
      "metadata": {
        "id": "w_FXViVpd5NJ"
      }
    },
    {
      "cell_type": "code",
      "source": [
        "import matplotlib.pyplot as plt\n",
        "import seaborn as sns\n",
        "import numpy as np\n",
        "\n",
        "fig, (ax1, ax2) = plt.subplots(1, 2, figsize=(20, 10))\n",
        "\n",
        "# Extract word lengths for \"Original text\" category\n",
        "word_original = all_news[all_news['category'] == 1]['text'].str.split().apply(lambda x: np.mean([len(i) for i in x]))\n",
        "\n",
        "sns.distplot(word_original, ax=ax1, color='red')\n",
        "ax1.set_title('Original text')\n",
        "\n",
        "# Extract word lengths for \"Fake text\" category\n",
        "word_fake = all_news[all_news['category'] == 0]['text'].str.split().apply(lambda x: np.mean([len(i) for i in x]))\n",
        "\n",
        "sns.distplot(word_fake, ax=ax2, color='green')\n",
        "ax2.set_title('Fake text')\n",
        "\n",
        "fig.suptitle('Average word length in each text')\n",
        "\n",
        "plt.show()\n"
      ],
      "metadata": {
        "execution": {
          "iopub.status.busy": "2023-05-31T22:55:52.447671Z",
          "iopub.execute_input": "2023-05-31T22:55:52.448340Z",
          "iopub.status.idle": "2023-05-31T22:55:56.809862Z",
          "shell.execute_reply.started": "2023-05-31T22:55:52.448268Z",
          "shell.execute_reply": "2023-05-31T22:55:56.809031Z"
        },
        "trusted": true,
        "id": "EtL3ZcARd5NJ",
        "outputId": "10dc8100-d5b8-410e-e411-5063c0bed60e"
      },
      "execution_count": null,
      "outputs": [
        {
          "name": "stderr",
          "text": "/tmp/ipykernel_34/2899360862.py:12: UserWarning: \n\n`distplot` is a deprecated function and will be removed in seaborn v0.14.0.\n\nPlease adapt your code to use either `displot` (a figure-level function with\nsimilar flexibility) or `histplot` (an axes-level function for histograms).\n\nFor a guide to updating your code to use the new functions, please see\nhttps://gist.github.com/mwaskom/de44147ed2974457ad6372750bbe5751\n\n  sns.distplot(word_original, ax=ax1, color='red')\n/tmp/ipykernel_34/2899360862.py:19: UserWarning: \n\n`distplot` is a deprecated function and will be removed in seaborn v0.14.0.\n\nPlease adapt your code to use either `displot` (a figure-level function with\nsimilar flexibility) or `histplot` (an axes-level function for histograms).\n\nFor a guide to updating your code to use the new functions, please see\nhttps://gist.github.com/mwaskom/de44147ed2974457ad6372750bbe5751\n\n  sns.distplot(word_fake, ax=ax2, color='green')\n",
          "output_type": "stream"
        },
        {
          "output_type": "display_data",
          "data": {
            "text/plain": "<Figure size 2000x1000 with 2 Axes>",
            "image/png": "[encoded data removed]"
          },
          "metadata": {}
        }
      ]
    },
    {
      "cell_type": "code",
      "source": [
        "# Compute the maximum and minimum word lengths for each category\n",
        "max_len_original = np.max(word_original)\n",
        "min_len_original = np.min(word_original)\n",
        "\n",
        "max_len_fake = np.max(word_fake)\n",
        "min_len_fake = np.min(word_fake)\n",
        "\n",
        "print(\"Original text - Maximum word length:\", max_len_original)\n",
        "print(\"Original text - Minimum word length:\", min_len_original)\n",
        "\n",
        "print(\"Fake text - Maximum word length:\", max_len_fake)\n",
        "print(\"Fake text - Minimum word length:\", min_len_fake)\n"
      ],
      "metadata": {
        "execution": {
          "iopub.status.busy": "2023-05-31T22:55:56.811049Z",
          "iopub.execute_input": "2023-05-31T22:55:56.811930Z",
          "iopub.status.idle": "2023-05-31T22:55:56.820041Z",
          "shell.execute_reply.started": "2023-05-31T22:55:56.811872Z",
          "shell.execute_reply": "2023-05-31T22:55:56.818697Z"
        },
        "trusted": true,
        "id": "bd7fHVDJd5NJ",
        "outputId": "0df8257e-4f29-4d31-e5e0-c4c4c11ddb9a"
      },
      "execution_count": null,
      "outputs": [
        {
          "name": "stdout",
          "text": "Original text - Maximum word length: 9.192307692307692\nOriginal text - Minimum word length: 4.696153846153846\nFake text - Maximum word length: 25.153846153846153\nFake text - Minimum word length: 4.22737819025522\n",
          "output_type": "stream"
        }
      ]
    },
    {
      "cell_type": "markdown",
      "source": [
        "# Creating Corpus"
      ],
      "metadata": {
        "id": "AVi43vlnd5NJ"
      }
    },
    {
      "cell_type": "code",
      "source": [
        "from collections import Counter\n",
        "\n",
        "corpus = all_news['text'].str.split().explode().tolist()\n",
        "import re\n",
        "\n",
        "pattern = r\"[-]\"\n",
        "\n",
        "# Remove the hyphens from the corpus using regular expressions and filter out empty strings\n",
        "corpus = [re.sub(pattern, \"\", word) for word in corpus if word.strip()]\n",
        "\n",
        "\n",
        "word_counts = Counter(corpus)\n",
        "\n",
        "print(\"First 10 words:\")\n",
        "print(corpus[:10])\n",
        "\n",
        "most_common_words = word_counts.most_common(10)\n",
        "print(\"\\n10 most frequent words with their frequencies:\")\n",
        "for word, frequency in most_common_words:\n",
        "    print(f\"{word}: {frequency}\")\n",
        "\n",
        "# Display the 10 least frequent words with their frequencies\n",
        "least_common_words = word_counts.most_common()[-10:]\n",
        "print(\"\\n10 least frequent words with their frequencies:\")\n",
        "for word, frequency in least_common_words:\n",
        "    print(f\"{word}: {frequency}\")"
      ],
      "metadata": {
        "execution": {
          "iopub.status.busy": "2023-05-31T22:55:56.821400Z",
          "iopub.execute_input": "2023-05-31T22:55:56.821657Z",
          "iopub.status.idle": "2023-05-31T22:56:12.087300Z",
          "shell.execute_reply.started": "2023-05-31T22:55:56.821635Z",
          "shell.execute_reply": "2023-05-31T22:56:12.085760Z"
        },
        "trusted": true,
        "id": "gErF0F4Gd5NK",
        "outputId": "36bf4a27-54a7-4b32-ea5f-a2341a1c5fe4"
      },
      "execution_count": null,
      "outputs": [
        {
          "name": "stdout",
          "text": "First 10 words:\n['U.S.', 'budget', 'fight', 'looms,', 'Republicans', 'flip', 'fiscal', 'scriptWASHINGTON', '(Reuters)', 'head']\n\n10 most frequent words with their frequencies:\nTrump: 110279\nsaid: 92292\nwould: 54252\nU.S.: 49883\npeople: 32958\nPresident: 32746\nalso: 30125\none: 29248\nDonald: 26613\nsaid.: 25930\n\n10 least frequent words with their frequencies:\ngrandmother.Last: 1\nKEEP:: 1\nEmanuel.Currently: 1\n(regardless,: 1\nscary).: 1\nDUAL: 1\nLOYALTIES:: 1\nMondoweiss,: 1\nIDF.: 1\noverdrive.READ: 1\n",
          "output_type": "stream"
        }
      ]
    },
    {
      "cell_type": "markdown",
      "source": [
        "# Bigrams, Trigrams, Fourgrams"
      ],
      "metadata": {
        "id": "W2axLp03d5NK"
      }
    },
    {
      "cell_type": "code",
      "source": [
        "import matplotlib.pyplot as plt\n",
        "from collections import Counter\n",
        "\n",
        "def get_top_text_ngrams(corpus, n, g):\n",
        "    all_ngrams = []\n",
        "    for text in corpus:\n",
        "        words = text.split()\n",
        "        for i in range(len(words) - g + 1):\n",
        "            ngram = \" \".join(words[i:i+g])\n",
        "            all_ngrams.append(ngram)\n",
        "    \n",
        "    ngram_counts = Counter(all_ngrams)\n",
        "    top_ngrams = ngram_counts.most_common(n)\n",
        "    \n",
        "    return top_ngrams\n",
        "\n",
        "plt.figure(figsize=(16, 9))\n",
        "\n",
        "# Top 10 Bigrams\n",
        "most_common_bi = get_top_text_ngrams(all_news.text, 10, 2)\n",
        "most_common_bi = dict(most_common_bi)\n",
        "\n",
        "labels = list(most_common_bi.keys())\n",
        "values = list(most_common_bi.values())\n",
        "\n",
        "plt.subplot(1, 3, 1)\n",
        "plt.barh(range(len(labels)), values)\n",
        "plt.yticks(range(len(labels)), labels)\n",
        "plt.xlabel('Frequency')\n",
        "plt.ylabel('Bigram')\n",
        "plt.title('Top 10 Bigrams')\n",
        "\n",
        "# Top 10 Trigrams\n",
        "most_common_tri = get_top_text_ngrams(all_news.text, 10, 3)\n",
        "most_common_tri = dict(most_common_tri)\n",
        "\n",
        "labels_tri = list(most_common_tri.keys())\n",
        "values_tri = list(most_common_tri.values())\n",
        "\n",
        "plt.figure(figsize=(16, 9))\n",
        "plt.subplot(1, 3, 2)\n",
        "plt.barh(range(len(labels_tri)), values_tri)\n",
        "plt.yticks(range(len(labels_tri)), labels_tri)\n",
        "plt.xlabel('Frequency')\n",
        "plt.ylabel('Trigram')\n",
        "plt.title('Top 10 Trigrams')\n",
        "\n",
        "# Top 10 Fourgrams\n",
        "most_common_four = get_top_text_ngrams(all_news.text, 10, 4)\n",
        "most_common_four = dict(most_common_four)\n",
        "\n",
        "labels_four = list(most_common_four.keys())\n",
        "values_four = list(most_common_four.values())\n",
        "\n",
        "plt.figure(figsize=(16, 9))\n",
        "plt.subplot(1, 3, 3)\n",
        "plt.barh(range(len(labels_four)), values_four)\n",
        "plt.yticks(range(len(labels_four)), labels_four)\n",
        "plt.xlabel('Frequency')\n",
        "plt.ylabel('Fourgram')\n",
        "plt.title('Top 10 Fourgrams')\n",
        "\n",
        "plt.tight_layout()\n",
        "plt.show()\n"
      ],
      "metadata": {
        "execution": {
          "iopub.status.busy": "2023-05-31T22:56:12.088417Z",
          "iopub.execute_input": "2023-05-31T22:56:12.088694Z",
          "iopub.status.idle": "2023-05-31T22:56:12.097971Z",
          "shell.execute_reply.started": "2023-05-31T22:56:12.088670Z",
          "shell.execute_reply": "2023-05-31T22:56:12.096884Z"
        },
        "trusted": true,
        "id": "dyWwpy0ld5NK"
      },
      "execution_count": null,
      "outputs": []
    },
    {
      "cell_type": "markdown",
      "source": [
        "# Train Test Split"
      ],
      "metadata": {
        "id": "sRIfekY8d5NL"
      }
    },
    {
      "cell_type": "code",
      "source": [
        "from sklearn.model_selection import train_test_split\n",
        "x_train,x_test,y_train,y_test = train_test_split(all_news.text,all_news.category,random_state = 42)\n"
      ],
      "metadata": {
        "execution": {
          "iopub.status.busy": "2023-05-31T22:56:12.099647Z",
          "iopub.execute_input": "2023-05-31T22:56:12.100240Z",
          "iopub.status.idle": "2023-05-31T22:56:12.124409Z",
          "shell.execute_reply.started": "2023-05-31T22:56:12.100200Z",
          "shell.execute_reply": "2023-05-31T22:56:12.122706Z"
        },
        "trusted": true,
        "id": "A6HJwsPBd5NL"
      },
      "execution_count": null,
      "outputs": []
    },
    {
      "cell_type": "code",
      "source": [
        "x_train"
      ],
      "metadata": {
        "execution": {
          "iopub.status.busy": "2023-05-31T22:56:12.131188Z",
          "iopub.execute_input": "2023-05-31T22:56:12.131626Z",
          "iopub.status.idle": "2023-05-31T22:56:12.141721Z",
          "shell.execute_reply.started": "2023-05-31T22:56:12.131593Z",
          "shell.execute_reply": "2023-05-31T22:56:12.140270Z"
        },
        "trusted": true,
        "id": "X79E45zYd5NT",
        "outputId": "69fd9115-af0d-4524-9520-57c68086e9e1"
      },
      "execution_count": null,
      "outputs": [
        {
          "execution_count": 116,
          "output_type": "execute_result",
          "data": {
            "text/plain": "6236     Obama says reducing leaker Chelsea Manning's p...\n19898    Mexico-U.S. trade would survive NAFTA rupture:...\n21258    Japan's Aso retracts Hitler comment criticism-...\n15133    Japan's biggest warship drill U.S. carriers ne...\n9134     Justice Department analyze Dow-DuPont deal: se...\n                               ...                        \n6302     Germany's Schaeuble warns Trump protectionism:...\n11347    Twenty-eight arrests Venezuela looting, violen...\n16950    FBI Cracked Terror Plot Black Friday May Worse...\n862      U.S. tax plan threatens Wall Street's Bermuda ...\n15975    Asylum seekers refuse leave Papua New Guinea c...\nName: text, Length: 33516, dtype: object"
          },
          "metadata": {}
        }
      ]
    },
    {
      "cell_type": "code",
      "source": [
        "x_test"
      ],
      "metadata": {
        "execution": {
          "iopub.status.busy": "2023-05-31T22:56:12.143937Z",
          "iopub.execute_input": "2023-05-31T22:56:12.144402Z",
          "iopub.status.idle": "2023-05-31T22:56:12.156922Z",
          "shell.execute_reply.started": "2023-05-31T22:56:12.144361Z",
          "shell.execute_reply": "2023-05-31T22:56:12.155494Z"
        },
        "trusted": true,
        "id": "RGo8S5EBd5NU",
        "outputId": "3101c465-5fab-488c-82de-c542b5bc1425"
      },
      "execution_count": null,
      "outputs": [
        {
          "execution_count": 117,
          "output_type": "execute_result",
          "data": {
            "text/plain": "18085    Merkel, Juncker discuss Catalan crisis: EU off...\n18274    LIBERAL HACK KATIE COURIC Says Fake News “Tear...\n15065    TRUMP RIGHT! Audit Reveals State Dept. Cyberse...\n550      Clay Aiken Says ‘F*****g Dumbass’ Thinking Tru...\n7599     U.S. militia girds trouble presidential electi...\n                               ...                        \n1803     Pope hopes Trump re-thinks DACA decision immig...\n17331    BEWARE UNITED NATIONS PUSH “GLOBAL GOVERNANCE”...\n20354    China's big banks halt services North Koreans,...\n5567     Canada foreign minister oppose U.S. border tar...\n6348     Trump blames 'both Democrats Republicans' alle...\nName: text, Length: 11173, dtype: object"
          },
          "metadata": {}
        }
      ]
    },
    {
      "cell_type": "markdown",
      "source": [
        "RandomizedSearchCV from sklearn library which implements random search with cross-validation. It tends to be faster than grid search because it doesn't try all combinations, but a random subset of them."
      ],
      "metadata": {
        "id": "GHBeuW2Fd5NU"
      }
    },
    {
      "cell_type": "code",
      "source": [
        "from tensorflow.keras.preprocessing.text import Tokenizer\n",
        "from tensorflow.keras.preprocessing.sequence import pad_sequences\n",
        "import matplotlib.pyplot as plt\n",
        "\n",
        "tokenizer = Tokenizer(num_words=None)\n",
        "tokenizer.fit_on_texts(x_train)\n",
        "tokenized_train = tokenizer.texts_to_sequences(x_train)\n",
        "\n",
        "# Count the number of unique tokens\n",
        "num_unique_tokens = len(tokenizer.word_index)\n",
        "print(f\"Number of unique tokens: {num_unique_tokens}\")\n",
        "\n",
        "\n",
        "sequence_lengths = [len(seq) for seq in tokenized_train]\n",
        "\n",
        "plt.figure(figsize=(10,6)) \n",
        "plt.hist(sequence_lengths, bins=100, range=(0,1000)) \n",
        "plt.xlabel('Sequence Length')\n",
        "plt.ylabel('Frequency')\n",
        "plt.title('Histogram of Sequence Lengths')\n",
        "\n",
        "plt.xlim(0, 1000)\n",
        "\n",
        "# Customize x-axis for more detail\n",
        "start, end = plt.xlim()\n",
        "plt.xticks(np.arange(start, end, step=50))\n",
        "\n",
        "plt.show()\n",
        "\n",
        "\n",
        "# Based on the histogram, I choosed a maxlen value that covers most of the samples.\n"
      ],
      "metadata": {
        "execution": {
          "iopub.status.busy": "2023-05-31T22:56:12.158759Z",
          "iopub.execute_input": "2023-05-31T22:56:12.159082Z",
          "iopub.status.idle": "2023-05-31T22:56:34.598165Z",
          "shell.execute_reply.started": "2023-05-31T22:56:12.159054Z",
          "shell.execute_reply": "2023-05-31T22:56:34.596774Z"
        },
        "trusted": true,
        "id": "nghpLrcud5NU",
        "outputId": "d1e08bb5-a89c-444a-ca73-78111c2271fa"
      },
      "execution_count": null,
      "outputs": [
        {
          "name": "stdout",
          "text": "Number of unique tokens: 125718\n",
          "output_type": "stream"
        },
        {
          "output_type": "display_data",
          "data": {
            "text/plain": "<Figure size 1000x600 with 1 Axes>",
            "image/png": "[encoded data removed]"
          },
          "metadata": {}
        }
      ]
    },
    {
      "cell_type": "code",
      "source": [
        "maxlen = 200"
      ],
      "metadata": {
        "execution": {
          "iopub.status.busy": "2023-05-31T22:56:34.600116Z",
          "iopub.execute_input": "2023-05-31T22:56:34.600452Z",
          "iopub.status.idle": "2023-05-31T22:56:34.604572Z",
          "shell.execute_reply.started": "2023-05-31T22:56:34.600426Z",
          "shell.execute_reply": "2023-05-31T22:56:34.603702Z"
        },
        "trusted": true,
        "id": "KndVDGqid5NU"
      },
      "execution_count": null,
      "outputs": []
    },
    {
      "cell_type": "markdown",
      "source": [
        "Selecting max_features is a bit more nuanced. In general, the max_features parameter in the tokenizer refers to the maximum number of words to keep, based on the frequency of words. Only the most common max_features words will be kept."
      ],
      "metadata": {
        "id": "i3Aa3Khwd5NV"
      }
    },
    {
      "cell_type": "code",
      "source": [
        "num_unique_tokens = len(tokenizer.word_index)\n",
        "print(f\"Number of unique tokens: {num_unique_tokens}\")\n"
      ],
      "metadata": {
        "execution": {
          "iopub.status.busy": "2023-05-31T22:56:34.605542Z",
          "iopub.execute_input": "2023-05-31T22:56:34.605782Z",
          "iopub.status.idle": "2023-05-31T22:56:34.623594Z",
          "shell.execute_reply.started": "2023-05-31T22:56:34.605760Z",
          "shell.execute_reply": "2023-05-31T22:56:34.622406Z"
        },
        "trusted": true,
        "id": "Ns3oMyVid5NV",
        "outputId": "7699d733-5dd9-49c8-9aa4-7469e5a7e4a4"
      },
      "execution_count": null,
      "outputs": [
        {
          "name": "stdout",
          "text": "Number of unique tokens: 125718\n",
          "output_type": "stream"
        }
      ]
    },
    {
      "cell_type": "markdown",
      "source": [
        " set max_features equal to num_unique_tokens, it means you're using all the words in your corpus to train your model.\n",
        " However, not all words are equally important. Some words might appear only a few times, and they might not contribute much to understanding the general sentiment of a text \n",
        " \n",
        " "
      ],
      "metadata": {
        "id": "aw_x7SDFd5NV"
      }
    },
    {
      "cell_type": "code",
      "source": [
        "from tensorflow.keras.models import Sequential\n",
        "from tensorflow.keras.layers import Embedding, LSTM, Dense\n",
        "from tensorflow.keras.preprocessing.text import Tokenizer\n",
        "from tensorflow.keras.preprocessing.sequence import pad_sequences\n",
        "\n",
        "# Define your model architecture (This should be your model)\n",
        "def create_model():\n",
        "    model = Sequential()\n",
        "    model.add(Embedding(max_features, 128))\n",
        "    model.add(LSTM(128, dropout=0.2, recurrent_dropout=0.2))\n",
        "    model.add(Dense(1, activation='sigmoid'))\n",
        "    model.compile(loss='binary_crossentropy', optimizer='adam', metrics=['accuracy'])\n",
        "    return model\n",
        "\n",
        "# Define a list of max_features to try\n",
        "max_features_options = [5000, 10000, 15000, 20000]\n",
        "\n",
        "# Loop over max_features_options\n",
        "for max_features in max_features_options:\n",
        "    # Tokenization and sequence padding\n",
        "    tokenizer = Tokenizer(num_words=max_features)\n",
        "    tokenizer.fit_on_texts(x_train)\n",
        "    tokenized_train = tokenizer.texts_to_sequences(x_train)\n",
        "    X_train = pad_sequences(tokenized_train, maxlen=maxlen)\n",
        "    tokenized_test = tokenizer.texts_to_sequences(x_test)\n",
        "    X_test = pad_sequences(tokenized_test, maxlen=maxlen)\n",
        "\n",
        "    # Model creation\n",
        "    model = create_model()\n",
        "\n",
        "    # Model training\n",
        "    model.fit(X_train, y_train, batch_size=32, epochs=5, validation_data=(X_test, y_test))\n",
        "\n",
        "    # Model evaluation\n",
        "    score, acc = model.evaluate(X_test, y_test, batch_size=32)\n",
        "    print(f'Test score for max_features={max_features}: {score}')\n",
        "    print(f'Test accuracy for max_features={max_features}: {acc}')\n"
      ],
      "metadata": {
        "execution": {
          "iopub.status.busy": "2023-05-31T22:56:34.625338Z",
          "iopub.execute_input": "2023-05-31T22:56:34.626036Z",
          "iopub.status.idle": "2023-05-31T22:56:34.642559Z",
          "shell.execute_reply.started": "2023-05-31T22:56:34.626003Z",
          "shell.execute_reply": "2023-05-31T22:56:34.640737Z"
        },
        "trusted": true,
        "id": "SLiJyBIUd5NV"
      },
      "execution_count": null,
      "outputs": []
    },
    {
      "cell_type": "code",
      "source": [
        "max_features = 15000"
      ],
      "metadata": {
        "execution": {
          "iopub.status.busy": "2023-05-31T22:56:59.340534Z",
          "iopub.execute_input": "2023-05-31T22:56:59.340885Z",
          "iopub.status.idle": "2023-05-31T22:56:59.345714Z",
          "shell.execute_reply.started": "2023-05-31T22:56:59.340859Z",
          "shell.execute_reply": "2023-05-31T22:56:59.344412Z"
        },
        "trusted": true,
        "id": "HJXalsFKd5NV"
      },
      "execution_count": null,
      "outputs": []
    },
    {
      "cell_type": "markdown",
      "source": [
        "# Tokenizing"
      ],
      "metadata": {
        "id": "fJUe5fDzd5NW"
      }
    },
    {
      "cell_type": "code",
      "source": [
        "tokenizer = text.Tokenizer(num_words=max_features)\n",
        "tokenizer.fit_on_texts(x_train)\n",
        "\n",
        "# Tokenize and pad the training data\n",
        "x_train_tokenized = tokenizer.texts_to_sequences(x_train)\n",
        "x_train_padded = sequence.pad_sequences(x_train_tokenized, maxlen=maxlen)\n",
        "\n",
        "# Tokenize and pad the test data\n",
        "x_test_tokenized = tokenizer.texts_to_sequences(x_test)\n",
        "x_test_padded = sequence.pad_sequences(x_test_tokenized, maxlen=maxlen)"
      ],
      "metadata": {
        "execution": {
          "iopub.status.busy": "2023-05-31T22:57:22.145738Z",
          "iopub.execute_input": "2023-05-31T22:57:22.146125Z",
          "iopub.status.idle": "2023-05-31T22:57:48.336898Z",
          "shell.execute_reply.started": "2023-05-31T22:57:22.146093Z",
          "shell.execute_reply": "2023-05-31T22:57:48.335782Z"
        },
        "trusted": true,
        "id": "E3bR-ZI-d5NW"
      },
      "execution_count": null,
      "outputs": []
    },
    {
      "cell_type": "markdown",
      "source": [
        "# Glove\n",
        "GloVe (Global Vectors for Word Representation) is an unsupervised learning algorithm for obtaining vector representations of words. It is a popular word embedding technique that captures semantic relationships between words by training on large-scale textual data. The GloVe algorithm combines the advantages of global matrix factorization and local context window methods to create word embeddings that represent the meaning and relationships of words in a vector space.\n",
        "\n",
        "The key idea behind GloVe is to create a word-word co-occurrence matrix based on the statistics of word co-occurrences within a given corpus. The matrix represents the frequency of word pairs occurring together in a specific context window. GloVe then factorizes this co-occurrence matrix to obtain word embeddings that capture the statistical relationships between words.\n",
        "\n",
        "During training, the GloVe algorithm iteratively updates the word vectors to minimize a loss function that measures the discrepancy between the dot products of word vectors and the logarithm of their co-occurrence probabilities. This optimization process results in word vectors that encode both global semantic information and local contextual information.\n",
        "\n",
        "The trained GloVe word vectors can be used in various natural language processing tasks, such as text classification, sentiment analysis, machine translation, and information retrieval. By leveraging the semantic relationships captured in the vector space, GloVe embeddings can help improve the performance of these tasks by enabling models to understand and generalize word meanings based on their contextual usage.\n",
        "\n",
        "GloVe embeddings are typically pre-trained on large text corpora, such as Wikipedia or Common Crawl, and are available in different dimensions (e.g., 50, 100, 200, 300). Researchers and practitioners can use pre-trained GloVe embeddings or fine-tune them on their specific tasks to leverage the semantic knowledge encoded in these word vectors."
      ],
      "metadata": {
        "id": "r8vg3fd2d5NW"
      }
    },
    {
      "cell_type": "markdown",
      "source": [
        "The choice of which GloVe embedding file to use depends on the specific requirements of your task and the trade-off between embedding dimensionality and computational resources. Here's an overview of the different GloVe embedding files you have:"
      ],
      "metadata": {
        "id": "465r1huud5NW"
      }
    },
    {
      "cell_type": "markdown",
      "source": [
        "glove.twitter.27B.25d.txt: This file contains GloVe embeddings with a dimensionality of 25. Embeddings with lower dimensions are computationally less expensive and have fewer parameters, but they may capture less semantic information and may not perform as well on tasks that require fine-grained representation.\n",
        "\n",
        "glove.twitter.27B.50d.txt: This file contains GloVe embeddings with a dimensionality of 50. This dimensionality strikes a balance between capturing more semantic information than lower dimensions while still being relatively lightweight compared to higher dimensions.\n",
        "\n",
        "glove.twitter.27B.100d.txt: This file contains GloVe embeddings with a dimensionality of 100. Embeddings with 100 dimensions are commonly used and provide a good balance between capturing semantic information and computational efficiency.\n",
        "\n",
        "glove.twitter.27B.200d.txt: This file contains GloVe embeddings with a dimensionality of 200. Higher-dimensional embeddings have the potential to capture more fine-grained semantic information but come at the cost of increased computational requirements."
      ],
      "metadata": {
        "id": "cEDSE4qjd5NW"
      }
    },
    {
      "cell_type": "markdown",
      "source": [
        "I am choosing the 50d because strikes a balance between capturing more semantic information than lower dimensions while still being relatively lightweight compared to higher dimensions."
      ],
      "metadata": {
        "id": "8CLPz9cxd5NW"
      }
    },
    {
      "cell_type": "code",
      "source": [
        "glove_emb_file = '/kaggle/input/glovetwitter27b50d/glove.twitter.27B.50d.txt'\n",
        "#glove_emb_file = 'glove.twitter.27B.50d.txt'\n"
      ],
      "metadata": {
        "execution": {
          "iopub.status.busy": "2023-05-31T23:17:02.930636Z",
          "iopub.execute_input": "2023-05-31T23:17:02.931031Z",
          "iopub.status.idle": "2023-05-31T23:17:02.936186Z",
          "shell.execute_reply.started": "2023-05-31T23:17:02.931001Z",
          "shell.execute_reply": "2023-05-31T23:17:02.935387Z"
        },
        "trusted": true,
        "id": "xHC0V60ad5NW"
      },
      "execution_count": null,
      "outputs": []
    },
    {
      "cell_type": "markdown",
      "source": [
        "\n",
        "\n",
        "The get_coefs function is updated to split each line based on spaces and extract the word and embedding vector separately.\n",
        "\n",
        "The GloVe embeddings are loaded into the embeddings_index dictionary using a with statement to open the embedding file.\n",
        "\n",
        "The all_embs array is created by converting the values of embeddings_index into a NumPy array.\n",
        "\n",
        "The emb_mean and emb_std are computed using the mean and std methods on all_embs.\n",
        "\n",
        "The embed_size is obtained from the shape of all_embs.\n",
        "\n",
        "The embedding matrix embedding_matrix is initialized using np.random.normal with the calculated mean and standard deviation.\n",
        "\n",
        "The code iterates over the word_index to populate the embedding matrix with the GloVe embeddings."
      ],
      "metadata": {
        "id": "mrEdQtzXd5NX"
      }
    },
    {
      "cell_type": "markdown",
      "source": [
        "The emb_mean and emb_std are computed using the mean and standard deviation methods (mean and std) on the all_embs array, which contains all the embedding vectors from the pre-trained GloVe embeddings.\n",
        "\n",
        "Calculating the mean and standard deviation of the embedding vectors allows us to understand the distribution of the embeddings in terms of their values and variations. These statistics provide insight into the typical range and spread of the embedding values, which can be useful for initializing the embedding matrix."
      ],
      "metadata": {
        "id": "krFQ2Zv9d5NX"
      }
    },
    {
      "cell_type": "code",
      "source": [
        "# Function to extract word and embedding vector from a line in the embedding file\n",
        "def get_coefs(line):\n",
        "    parts = line.rstrip().split(' ')\n",
        "    word = parts[0]\n",
        "    vector = np.asarray(parts[1:], dtype='float32')\n",
        "    return word, vector\n",
        "\n",
        "# Load the GloVe embeddings into a dictionary\n",
        "embeddings_index = {}\n",
        "with open(glove_emb_file, 'r') as file:\n",
        "    for line in file:\n",
        "        word, vector = get_coefs(line)\n",
        "        embeddings_index[word] = vector\n",
        "\n",
        "# Compute mean and standard deviation of the embedding vectors\n",
        "all_embs = np.array(list(embeddings_index.values()))\n",
        "emb_mean, emb_std = all_embs.mean(), all_embs.std()\n",
        "\n",
        "# Get the embedding size\n",
        "embed_size = all_embs.shape[1]\n",
        "\n",
        "# Create the embedding matrix\n",
        "word_index = tokenizer.word_index\n",
        "nb_words = min(max_features, len(word_index))\n",
        "embedding_matrix = np.random.normal(emb_mean, emb_std, (nb_words, embed_size))\n",
        "\n",
        "# Populate the embedding matrix with GloVe embeddings\n",
        "for word, i in word_index.items():\n",
        "    if i >= max_features:\n",
        "        continue\n",
        "    embedding_vector = embeddings_index.get(word)\n",
        "    if embedding_vector is not None:\n",
        "        embedding_matrix[i] = embedding_vector"
      ],
      "metadata": {
        "execution": {
          "iopub.status.busy": "2023-05-31T23:26:56.564947Z",
          "iopub.execute_input": "2023-05-31T23:26:56.565410Z",
          "iopub.status.idle": "2023-05-31T23:27:09.363045Z",
          "shell.execute_reply.started": "2023-05-31T23:26:56.565376Z",
          "shell.execute_reply": "2023-05-31T23:27:09.361454Z"
        },
        "trusted": true,
        "id": "o8-DSKtKd5NX"
      },
      "execution_count": null,
      "outputs": []
    },
    {
      "cell_type": "code",
      "source": [
        "import numpy as np\n",
        "import tensorflow as tf\n",
        "from tensorflow import keras\n",
        "from tensorflow.keras.models import Sequential\n",
        "from tensorflow.keras.layers import Embedding, LSTM, Dense\n",
        "from tensorflow.keras.preprocessing import sequence, text\n",
        "from tensorflow.keras.callbacks import ReduceLROnPlateau\n",
        "from kerastuner import RandomSearch\n",
        "from kerastuner.engine.hyperparameters import HyperParameters\n",
        "from sklearn.metrics import classification_report, confusion_matrix\n",
        "from keras_tuner import RandomSearch\n",
        "\n",
        "import seaborn as sns\n",
        "import matplotlib.pyplot as plt"
      ],
      "metadata": {
        "execution": {
          "iopub.status.busy": "2023-05-31T23:33:40.412781Z",
          "iopub.execute_input": "2023-05-31T23:33:40.413168Z",
          "iopub.status.idle": "2023-05-31T23:33:40.420669Z",
          "shell.execute_reply.started": "2023-05-31T23:33:40.413138Z",
          "shell.execute_reply": "2023-05-31T23:33:40.419373Z"
        },
        "trusted": true,
        "id": "eL2njN4wd5NX"
      },
      "execution_count": null,
      "outputs": []
    },
    {
      "cell_type": "markdown",
      "source": [
        "#  Model"
      ],
      "metadata": {
        "id": "R5zhzQnsWwES"
      }
    },
    {
      "cell_type": "code",
      "source": [
        "\n",
        "def build_model(hp):\n",
        "    model = Sequential()\n",
        "    model.add(Embedding(max_features, output_dim=embed_size, weights=[embedding_matrix],\n",
        "                        input_length=maxlen, trainable=False))\n",
        "    model.add(LSTM(units=hp.Int('lstm_units', min_value=32, max_value=128, step=32),\n",
        "                   return_sequences=True, recurrent_dropout=0.25, dropout=0.25))\n",
        "    model.add(LSTM(units=hp.Int('lstm_units', min_value=32, max_value=128, step=32),\n",
        "                   recurrent_dropout=0.1, dropout=0.1))\n",
        "    model.add(Dense(units=32, activation='relu'))\n",
        "    model.add(Dense(1, activation='sigmoid'))\n",
        "    model.compile(optimizer=keras.optimizers.Adam(lr=0.01),\n",
        "                  loss='binary_crossentropy', metrics=['accuracy'])\n",
        "    return model"
      ],
      "metadata": {
        "execution": {
          "iopub.status.busy": "2023-05-31T23:33:57.065837Z",
          "iopub.execute_input": "2023-05-31T23:33:57.066212Z",
          "iopub.status.idle": "2023-05-31T23:33:57.074859Z",
          "shell.execute_reply.started": "2023-05-31T23:33:57.066180Z",
          "shell.execute_reply": "2023-05-31T23:33:57.073262Z"
        },
        "trusted": true,
        "id": "1kzKvjnBd5NX"
      },
      "execution_count": null,
      "outputs": []
    },
    {
      "cell_type": "code",
      "source": [
        "hyperparameters = HyperParameters()\n",
        "hyperparameters.Choice('lstm_units', [32, 64, 128])\n",
        "\n",
        "# Perform random search for hyperparameter tuning\n",
        "tuner = RandomSearch(build_model, objective='val_accuracy', max_trials=5, hyperparameters=hyperparameters)\n",
        "tuner.search(x_train_padded, y_train, validation_data=(x_test_padded, y_test), epochs=10, batch_size=256)\n"
      ],
      "metadata": {
        "execution": {
          "iopub.status.busy": "2023-05-31T23:34:09.439065Z",
          "iopub.execute_input": "2023-05-31T23:34:09.439498Z",
          "iopub.status.idle": "2023-06-01T00:42:14.101170Z",
          "shell.execute_reply.started": "2023-05-31T23:34:09.439468Z",
          "shell.execute_reply": "2023-06-01T00:42:14.099637Z"
        },
        "trusted": true,
        "id": "guEAQ71Ld5NY",
        "outputId": "5dc39bde-0d5e-49c4-c8c6-e3a13be798ad"
      },
      "execution_count": null,
      "outputs": [
        {
          "name": "stdout",
          "text": "Trial 3 Complete [00h 42m 28s]\nval_accuracy: 0.9914973378181458\n\nBest val_accuracy So Far: 0.9914973378181458\nTotal elapsed time: 01h 08m 04s\n",
          "output_type": "stream"
        }
      ]
    },
    {
      "cell_type": "code",
      "source": [
        "best_model = tuner.get_best_models(num_models=1)[0]\n",
        "best_model.summary()\n",
        "\n",
        "best_model.fit(x_train_padded, y_train, validation_data=(x_test_padded, y_test), epochs=10, batch_size=256)\n"
      ],
      "metadata": {
        "execution": {
          "iopub.status.busy": "2023-06-01T01:25:40.800610Z",
          "iopub.execute_input": "2023-06-01T01:25:40.800985Z",
          "iopub.status.idle": "2023-06-01T02:09:23.298023Z",
          "shell.execute_reply.started": "2023-06-01T01:25:40.800962Z",
          "shell.execute_reply": "2023-06-01T02:09:23.293890Z"
        },
        "trusted": true,
        "id": "xF79Pjssd5NY",
        "outputId": "3e69b537-caaf-4000-e0a1-6c2c651e984a"
      },
      "execution_count": null,
      "outputs": [
        {
          "name": "stdout",
          "text": "Model: \"sequential\"\n_________________________________________________________________\n Layer (type)                Output Shape              Param #   \n=================================================================\n embedding (Embedding)       (None, 200, 50)           500000    \n                                                                 \n lstm (LSTM)                 (None, 200, 128)          91648     \n                                                                 \n lstm_1 (LSTM)               (None, 128)               131584    \n                                                                 \n dense (Dense)               (None, 32)                4128      \n                                                                 \n dense_1 (Dense)             (None, 1)                 33        \n                                                                 \n=================================================================\nTotal params: 727,393\nTrainable params: 227,393\nNon-trainable params: 500,000\n_________________________________________________________________\nEpoch 1/10\n131/131 [==============================] - 253s 2s/step - loss: 0.0285 - accuracy: 0.9904 - val_loss: 0.0223 - val_accuracy: 0.9924\nEpoch 2/10\n131/131 [==============================] - 261s 2s/step - loss: 0.0240 - accuracy: 0.9920 - val_loss: 0.0339 - val_accuracy: 0.9915\nEpoch 3/10\n131/131 [==============================] - 267s 2s/step - loss: 0.0264 - accuracy: 0.9904 - val_loss: 0.0210 - val_accuracy: 0.9929\nEpoch 4/10\n131/131 [==============================] - 268s 2s/step - loss: 0.0195 - accuracy: 0.9935 - val_loss: 0.0230 - val_accuracy: 0.9926\nEpoch 5/10\n131/131 [==============================] - 253s 2s/step - loss: 0.0171 - accuracy: 0.9944 - val_loss: 0.0207 - val_accuracy: 0.9937\nEpoch 6/10\n131/131 [==============================] - 255s 2s/step - loss: 0.0184 - accuracy: 0.9931 - val_loss: 0.0185 - val_accuracy: 0.9945\nEpoch 7/10\n131/131 [==============================] - 262s 2s/step - loss: 0.0192 - accuracy: 0.9935 - val_loss: 0.0199 - val_accuracy: 0.9931\nEpoch 8/10\n131/131 [==============================] - 262s 2s/step - loss: 0.0151 - accuracy: 0.9948 - val_loss: 0.0179 - val_accuracy: 0.9948\nEpoch 9/10\n131/131 [==============================] - 274s 2s/step - loss: 0.0125 - accuracy: 0.9961 - val_loss: 0.0191 - val_accuracy: 0.9938\nEpoch 10/10\n131/131 [==============================] - 266s 2s/step - loss: 0.0110 - accuracy: 0.9966 - val_loss: 0.0196 - val_accuracy: 0.9947\n",
          "output_type": "stream"
        },
        {
          "execution_count": 139,
          "output_type": "execute_result",
          "data": {
            "text/plain": "<keras.callbacks.History at 0x7a7a70afaa40>"
          },
          "metadata": {}
        }
      ]
    },
    {
      "cell_type": "markdown",
      "source": [
        "# Results"
      ],
      "metadata": {
        "id": "78cXqIKPXT4M"
      }
    },
    {
      "cell_type": "code",
      "source": [
        "loss, accuracy = best_model.evaluate(x_test_padded, y_test)\n",
        "print(\"Test loss:\", loss)\n",
        "print(\"Test accuracy:\", accuracy)"
      ],
      "metadata": {
        "trusted": true,
        "id": "Ad6n_NNWd5NY",
        "outputId": "924cd89b-f1bf-4c44-da49-2cae9b0aacc2"
      },
      "execution_count": null,
      "outputs": [
        {
          "name": "stdout",
          "text": "350/350 [==============================] - 25s 71ms/step - loss: 0.0196 - accuracy: 0.9947\nTest loss: 0.01962781697511673\nTest accuracy: 0.994719386100769\n",
          "output_type": "stream"
        }
      ]
    },
    {
      "cell_type": "code",
      "source": [
        "epochs = range(1, 11)\n",
        "fig, ax = plt.subplots(1, 2, figsize=(20, 10))\n",
        "ax[0].plot(epochs, best_model.history.history['accuracy'], 'go-', label='Training Accuracy')\n",
        "ax[0].plot(epochs, best_model.history.history['val_accuracy'], 'ro-', label='Testing Accuracy')\n",
        "ax[0].set_title('Training & Testing Accuracy')\n",
        "ax[0].legend()\n",
        "ax[0].set_xlabel(\"Epochs\")\n",
        "ax[0].set_ylabel(\"Accuracy\")\n",
        "\n",
        "ax[1].plot(epochs, best_model.history.history['loss'], 'go-', label='Training Loss')\n",
        "ax[1].plot(epochs, best_model.history.history['val_loss'], 'ro-', label='Testing Loss')\n",
        "ax[1].set_title('Training & Testing Loss')\n",
        "ax[1].legend()\n",
        "ax[1].set_xlabel(\"Epochs\")\n",
        "ax[1].set_ylabel(\"Loss\")\n",
        "\n",
        "plt.show()"
      ],
      "metadata": {
        "execution": {
          "iopub.status.busy": "2023-06-01T12:54:35.754238Z",
          "iopub.execute_input": "2023-06-01T12:54:35.754818Z",
          "iopub.status.idle": "2023-06-01T12:54:36.128489Z",
          "shell.execute_reply.started": "2023-06-01T12:54:35.754784Z",
          "shell.execute_reply": "2023-06-01T12:54:36.126738Z"
        },
        "trusted": true,
        "id": "tQxYnQOKd5NY"
      },
      "execution_count": null,
      "outputs": []
    },
    {
      "cell_type": "code",
      "source": [
        "pred = best_model.predict_classes(x_test_padded)\n",
        "pred[:5]\n"
      ],
      "metadata": {
        "execution": {
          "iopub.status.busy": "2023-06-01T02:10:04.861916Z",
          "iopub.status.idle": "2023-06-01T02:10:04.862471Z",
          "shell.execute_reply.started": "2023-06-01T02:10:04.862272Z",
          "shell.execute_reply": "2023-06-01T02:10:04.862293Z"
        },
        "trusted": true,
        "id": "SZriuchMd5NY"
      },
      "execution_count": null,
      "outputs": []
    },
    {
      "cell_type": "code",
      "source": [
        "print(classification_report(y_test, pred, target_names=['Fake', 'True']))\n"
      ],
      "metadata": {
        "execution": {
          "iopub.status.busy": "2023-06-01T02:10:04.863519Z",
          "iopub.status.idle": "2023-06-01T02:10:04.863997Z",
          "shell.execute_reply.started": "2023-06-01T02:10:04.863845Z",
          "shell.execute_reply": "2023-06-01T02:10:04.863860Z"
        },
        "trusted": true,
        "id": "QmRB386Bd5NZ"
      },
      "execution_count": null,
      "outputs": []
    },
    {
      "cell_type": "code",
      "source": [
        "cm = confusion_matrix(y_test, pred)\n",
        "cm = pd.DataFrame(cm, index=['Fake', 'True'], columns=['Fake', 'True'])\n",
        "\n",
        "plt.figure(figsize=(10, 10))\n",
        "sns.heatmap(cm, cmap=\"Blues\", linecolor='black', linewidth=1, annot=True, fmt='',\n",
        "            xticklabels=['Fake', 'Not Fake'], yticklabels=['Fake', 'True'])\n",
        "plt.xlabel(\"Predicted\")\n",
        "plt.ylabel(\"Actual\")\n",
        "plt.show()"
      ],
      "metadata": {
        "execution": {
          "iopub.status.busy": "2023-06-01T02:10:04.864935Z",
          "iopub.status.idle": "2023-06-01T02:10:04.865395Z",
          "shell.execute_reply.started": "2023-06-01T02:10:04.865233Z",
          "shell.execute_reply": "2023-06-01T02:10:04.865248Z"
        },
        "trusted": true,
        "id": "BqDMVTL5d5NZ"
      },
      "execution_count": null,
      "outputs": []
    }
  ]
}