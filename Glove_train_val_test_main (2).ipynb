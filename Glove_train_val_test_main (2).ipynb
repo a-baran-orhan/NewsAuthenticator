{
  "metadata": {
    "kernelspec": {
      "language": "python",
      "display_name": "Python 3",
      "name": "python3"
    },
    "language_info": {
      "name": "python",
      "version": "3.10.10",
      "mimetype": "text/x-python",
      "codemirror_mode": {
        "name": "ipython",
        "version": 3
      },
      "pygments_lexer": "ipython3",
      "nbconvert_exporter": "python",
      "file_extension": ".py"
    },
    "colab": {
      "provenance": [],
      "toc_visible": true
    }
  },
  "nbformat_minor": 0,
  "nbformat": 4,
  "cells": [
    {
      "cell_type": "code",
      "source": [
        "# This Python 3 environment comes with many helpful analytics libraries installed\n",
        "# It is defined by the kaggle/python Docker image: https://github.com/kaggle/docker-python\n",
        "# For example, here's several helpful packages to load\n",
        "\n",
        "import numpy as np # linear algebra\n",
        "import pandas as pd # data processing, CSV file I/O (e.g. pd.read_csv)\n",
        "import seaborn as sns\n",
        "\"\"\"pd.set_option(\"display.max_columns\", None)\n",
        "pd.set_option(\"display.max_rows\", None)\n",
        "pd.set_option(\"display.width\", None)\n",
        "pd.set_option(\"display.max_colwidth\", None)\"\"\"\n",
        "# Input data files are available in the read-only \"../input/\" directory\n",
        "# For example, running this (by clicking run or pressing Shift+Enter) will list all files under the input directory\n",
        "\n",
        "import os\n",
        "for dirname, _, filenames in os.walk('/kaggle/input'):\n",
        "    for filename in filenames:\n",
        "        print(os.path.join(dirname, filename))\n",
        "\n",
        "# You can write up to 20GB to the current directory (/kaggle/working/) that gets preserved as output when you create a version using \"Save & Run All\" \n",
        "# You can also write temporary files to /kaggle/temp/, but they won't be saved outside of the current session"
      ],
      "metadata": {
        "_uuid": "8f2839f25d086af736a60e9eeb907d3b93b6e0e5",
        "_cell_guid": "b1076dfc-b9ad-4769-8c92-a6c4dae69d19",
        "execution": {
          "iopub.status.busy": "2023-06-01T13:19:32.972812Z",
          "iopub.execute_input": "2023-06-01T13:19:32.973296Z",
          "iopub.status.idle": "2023-06-01T13:19:32.992176Z",
          "shell.execute_reply.started": "2023-06-01T13:19:32.973262Z",
          "shell.execute_reply": "2023-06-01T13:19:32.990596Z"
        },
        "trusted": true,
        "id": "-YCzh04UNqKl"
      },
      "execution_count": 111,
      "outputs": []
    },
    {
      "cell_type": "markdown",
      "source": [
        "# Dataset and Details"
      ],
      "metadata": {
        "id": "Loy6VN39NqKo"
      }
    },
    {
      "cell_type": "code",
      "source": [
        "true_news = pd.read_csv('True.csv',error_bad_lines=False)\n",
        "false_news = pd.read_csv('Fake.csv',error_bad_lines=False)"
      ],
      "metadata": {
        "execution": {
          "iopub.status.busy": "2023-06-01T13:19:32.994327Z",
          "iopub.execute_input": "2023-06-01T13:19:32.995911Z",
          "iopub.status.idle": "2023-06-01T13:19:34.843385Z",
          "shell.execute_reply.started": "2023-06-01T13:19:32.995850Z",
          "shell.execute_reply": "2023-06-01T13:19:34.842359Z"
        },
        "trusted": true,
        "colab": {
          "base_uri": "https://localhost:8080/"
        },
        "id": "LL68eLmmNqKp",
        "outputId": "8288b8ca-1877-43cb-f9bb-60e7b3a130bc"
      },
      "execution_count": 112,
      "outputs": [
        {
          "output_type": "stream",
          "name": "stderr",
          "text": [
            "<ipython-input-112-3be844282243>:1: FutureWarning: The error_bad_lines argument has been deprecated and will be removed in a future version. Use on_bad_lines in the future.\n",
            "\n",
            "\n",
            "  true_news = pd.read_csv('True.csv',error_bad_lines=False)\n",
            "<ipython-input-112-3be844282243>:2: FutureWarning: The error_bad_lines argument has been deprecated and will be removed in a future version. Use on_bad_lines in the future.\n",
            "\n",
            "\n",
            "  false_news = pd.read_csv('Fake.csv',error_bad_lines=False)\n"
          ]
        }
      ]
    },
    {
      "cell_type": "code",
      "source": [
        "true_news.head()"
      ],
      "metadata": {
        "execution": {
          "iopub.status.busy": "2023-06-01T13:19:34.845240Z",
          "iopub.execute_input": "2023-06-01T13:19:34.845548Z",
          "iopub.status.idle": "2023-06-01T13:19:34.859186Z",
          "shell.execute_reply.started": "2023-06-01T13:19:34.845522Z",
          "shell.execute_reply": "2023-06-01T13:19:34.857365Z"
        },
        "trusted": true,
        "colab": {
          "base_uri": "https://localhost:8080/",
          "height": 206
        },
        "id": "8xbQLpYhNqKq",
        "outputId": "28325724-f99c-457e-cae0-771fc1bdee71"
      },
      "execution_count": 113,
      "outputs": [
        {
          "output_type": "execute_result",
          "data": {
            "text/plain": [
              "                                               title  \\\n",
              "0  As U.S. budget fight looms, Republicans flip t...   \n",
              "1  U.S. military to accept transgender recruits o...   \n",
              "2  Senior U.S. Republican senator: 'Let Mr. Muell...   \n",
              "3  FBI Russia probe helped by Australian diplomat...   \n",
              "4  Trump wants Postal Service to charge 'much mor...   \n",
              "\n",
              "                                                text       subject  \\\n",
              "0  WASHINGTON (Reuters) - The head of a conservat...  politicsNews   \n",
              "1  WASHINGTON (Reuters) - Transgender people will...  politicsNews   \n",
              "2  WASHINGTON (Reuters) - The special counsel inv...  politicsNews   \n",
              "3  WASHINGTON (Reuters) - Trump campaign adviser ...  politicsNews   \n",
              "4  SEATTLE/WASHINGTON (Reuters) - President Donal...  politicsNews   \n",
              "\n",
              "                 date  \n",
              "0  December 31, 2017   \n",
              "1  December 29, 2017   \n",
              "2  December 31, 2017   \n",
              "3  December 30, 2017   \n",
              "4  December 29, 2017   "
            ],
            "text/html": [
              "\n",
              "  <div id=\"df-c831da82-1cd8-4298-a244-64b8c1b29144\">\n",
              "    <div class=\"colab-df-container\">\n",
              "      <div>\n",
              "<style scoped>\n",
              "    .dataframe tbody tr th:only-of-type {\n",
              "        vertical-align: middle;\n",
              "    }\n",
              "\n",
              "    .dataframe tbody tr th {\n",
              "        vertical-align: top;\n",
              "    }\n",
              "\n",
              "    .dataframe thead th {\n",
              "        text-align: right;\n",
              "    }\n",
              "</style>\n",
              "<table border=\"1\" class=\"dataframe\">\n",
              "  <thead>\n",
              "    <tr style=\"text-align: right;\">\n",
              "      <th></th>\n",
              "      <th>title</th>\n",
              "      <th>text</th>\n",
              "      <th>subject</th>\n",
              "      <th>date</th>\n",
              "    </tr>\n",
              "  </thead>\n",
              "  <tbody>\n",
              "    <tr>\n",
              "      <th>0</th>\n",
              "      <td>As U.S. budget fight looms, Republicans flip t...</td>\n",
              "      <td>WASHINGTON (Reuters) - The head of a conservat...</td>\n",
              "      <td>politicsNews</td>\n",
              "      <td>December 31, 2017</td>\n",
              "    </tr>\n",
              "    <tr>\n",
              "      <th>1</th>\n",
              "      <td>U.S. military to accept transgender recruits o...</td>\n",
              "      <td>WASHINGTON (Reuters) - Transgender people will...</td>\n",
              "      <td>politicsNews</td>\n",
              "      <td>December 29, 2017</td>\n",
              "    </tr>\n",
              "    <tr>\n",
              "      <th>2</th>\n",
              "      <td>Senior U.S. Republican senator: 'Let Mr. Muell...</td>\n",
              "      <td>WASHINGTON (Reuters) - The special counsel inv...</td>\n",
              "      <td>politicsNews</td>\n",
              "      <td>December 31, 2017</td>\n",
              "    </tr>\n",
              "    <tr>\n",
              "      <th>3</th>\n",
              "      <td>FBI Russia probe helped by Australian diplomat...</td>\n",
              "      <td>WASHINGTON (Reuters) - Trump campaign adviser ...</td>\n",
              "      <td>politicsNews</td>\n",
              "      <td>December 30, 2017</td>\n",
              "    </tr>\n",
              "    <tr>\n",
              "      <th>4</th>\n",
              "      <td>Trump wants Postal Service to charge 'much mor...</td>\n",
              "      <td>SEATTLE/WASHINGTON (Reuters) - President Donal...</td>\n",
              "      <td>politicsNews</td>\n",
              "      <td>December 29, 2017</td>\n",
              "    </tr>\n",
              "  </tbody>\n",
              "</table>\n",
              "</div>\n",
              "      <button class=\"colab-df-convert\" onclick=\"convertToInteractive('df-c831da82-1cd8-4298-a244-64b8c1b29144')\"\n",
              "              title=\"Convert this dataframe to an interactive table.\"\n",
              "              style=\"display:none;\">\n",
              "        \n",
              "  <svg xmlns=\"http://www.w3.org/2000/svg\" height=\"24px\"viewBox=\"0 0 24 24\"\n",
              "       width=\"24px\">\n",
              "    <path d=\"M0 0h24v24H0V0z\" fill=\"none\"/>\n",
              "    <path d=\"M18.56 5.44l.94 2.06.94-2.06 2.06-.94-2.06-.94-.94-2.06-.94 2.06-2.06.94zm-11 1L8.5 8.5l.94-2.06 2.06-.94-2.06-.94L8.5 2.5l-.94 2.06-2.06.94zm10 10l.94 2.06.94-2.06 2.06-.94-2.06-.94-.94-2.06-.94 2.06-2.06.94z\"/><path d=\"M17.41 7.96l-1.37-1.37c-.4-.4-.92-.59-1.43-.59-.52 0-1.04.2-1.43.59L10.3 9.45l-7.72 7.72c-.78.78-.78 2.05 0 2.83L4 21.41c.39.39.9.59 1.41.59.51 0 1.02-.2 1.41-.59l7.78-7.78 2.81-2.81c.8-.78.8-2.07 0-2.86zM5.41 20L4 18.59l7.72-7.72 1.47 1.35L5.41 20z\"/>\n",
              "  </svg>\n",
              "      </button>\n",
              "      \n",
              "  <style>\n",
              "    .colab-df-container {\n",
              "      display:flex;\n",
              "      flex-wrap:wrap;\n",
              "      gap: 12px;\n",
              "    }\n",
              "\n",
              "    .colab-df-convert {\n",
              "      background-color: #E8F0FE;\n",
              "      border: none;\n",
              "      border-radius: 50%;\n",
              "      cursor: pointer;\n",
              "      display: none;\n",
              "      fill: #1967D2;\n",
              "      height: 32px;\n",
              "      padding: 0 0 0 0;\n",
              "      width: 32px;\n",
              "    }\n",
              "\n",
              "    .colab-df-convert:hover {\n",
              "      background-color: #E2EBFA;\n",
              "      box-shadow: 0px 1px 2px rgba(60, 64, 67, 0.3), 0px 1px 3px 1px rgba(60, 64, 67, 0.15);\n",
              "      fill: #174EA6;\n",
              "    }\n",
              "\n",
              "    [theme=dark] .colab-df-convert {\n",
              "      background-color: #3B4455;\n",
              "      fill: #D2E3FC;\n",
              "    }\n",
              "\n",
              "    [theme=dark] .colab-df-convert:hover {\n",
              "      background-color: #434B5C;\n",
              "      box-shadow: 0px 1px 3px 1px rgba(0, 0, 0, 0.15);\n",
              "      filter: drop-shadow(0px 1px 2px rgba(0, 0, 0, 0.3));\n",
              "      fill: #FFFFFF;\n",
              "    }\n",
              "  </style>\n",
              "\n",
              "      <script>\n",
              "        const buttonEl =\n",
              "          document.querySelector('#df-c831da82-1cd8-4298-a244-64b8c1b29144 button.colab-df-convert');\n",
              "        buttonEl.style.display =\n",
              "          google.colab.kernel.accessAllowed ? 'block' : 'none';\n",
              "\n",
              "        async function convertToInteractive(key) {\n",
              "          const element = document.querySelector('#df-c831da82-1cd8-4298-a244-64b8c1b29144');\n",
              "          const dataTable =\n",
              "            await google.colab.kernel.invokeFunction('convertToInteractive',\n",
              "                                                     [key], {});\n",
              "          if (!dataTable) return;\n",
              "\n",
              "          const docLinkHtml = 'Like what you see? Visit the ' +\n",
              "            '<a target=\"_blank\" href=https://colab.research.google.com/notebooks/data_table.ipynb>data table notebook</a>'\n",
              "            + ' to learn more about interactive tables.';\n",
              "          element.innerHTML = '';\n",
              "          dataTable['output_type'] = 'display_data';\n",
              "          await google.colab.output.renderOutput(dataTable, element);\n",
              "          const docLink = document.createElement('div');\n",
              "          docLink.innerHTML = docLinkHtml;\n",
              "          element.appendChild(docLink);\n",
              "        }\n",
              "      </script>\n",
              "    </div>\n",
              "  </div>\n",
              "  "
            ]
          },
          "metadata": {},
          "execution_count": 113
        }
      ]
    },
    {
      "cell_type": "code",
      "source": [
        "false_news.head()"
      ],
      "metadata": {
        "execution": {
          "iopub.status.busy": "2023-06-01T13:19:34.860851Z",
          "iopub.execute_input": "2023-06-01T13:19:34.861208Z",
          "iopub.status.idle": "2023-06-01T13:19:34.876968Z",
          "shell.execute_reply.started": "2023-06-01T13:19:34.861179Z",
          "shell.execute_reply": "2023-06-01T13:19:34.875709Z"
        },
        "trusted": true,
        "colab": {
          "base_uri": "https://localhost:8080/",
          "height": 206
        },
        "id": "0vA0zoOJNqKq",
        "outputId": "85b2cd6c-c3c1-459f-d241-bf526cabb990"
      },
      "execution_count": 114,
      "outputs": [
        {
          "output_type": "execute_result",
          "data": {
            "text/plain": [
              "                                               title  \\\n",
              "0   Donald Trump Sends Out Embarrassing New Year’...   \n",
              "1   Drunk Bragging Trump Staffer Started Russian ...   \n",
              "2   Sheriff David Clarke Becomes An Internet Joke...   \n",
              "3   Trump Is So Obsessed He Even Has Obama’s Name...   \n",
              "4   Pope Francis Just Called Out Donald Trump Dur...   \n",
              "\n",
              "                                                text subject  \\\n",
              "0  Donald Trump just couldn t wish all Americans ...    News   \n",
              "1  House Intelligence Committee Chairman Devin Nu...    News   \n",
              "2  On Friday, it was revealed that former Milwauk...    News   \n",
              "3  On Christmas day, Donald Trump announced that ...    News   \n",
              "4  Pope Francis used his annual Christmas Day mes...    News   \n",
              "\n",
              "                date  \n",
              "0  December 31, 2017  \n",
              "1  December 31, 2017  \n",
              "2  December 30, 2017  \n",
              "3  December 29, 2017  \n",
              "4  December 25, 2017  "
            ],
            "text/html": [
              "\n",
              "  <div id=\"df-b50f1c7b-7cb6-498b-a794-2a710bed4cf8\">\n",
              "    <div class=\"colab-df-container\">\n",
              "      <div>\n",
              "<style scoped>\n",
              "    .dataframe tbody tr th:only-of-type {\n",
              "        vertical-align: middle;\n",
              "    }\n",
              "\n",
              "    .dataframe tbody tr th {\n",
              "        vertical-align: top;\n",
              "    }\n",
              "\n",
              "    .dataframe thead th {\n",
              "        text-align: right;\n",
              "    }\n",
              "</style>\n",
              "<table border=\"1\" class=\"dataframe\">\n",
              "  <thead>\n",
              "    <tr style=\"text-align: right;\">\n",
              "      <th></th>\n",
              "      <th>title</th>\n",
              "      <th>text</th>\n",
              "      <th>subject</th>\n",
              "      <th>date</th>\n",
              "    </tr>\n",
              "  </thead>\n",
              "  <tbody>\n",
              "    <tr>\n",
              "      <th>0</th>\n",
              "      <td>Donald Trump Sends Out Embarrassing New Year’...</td>\n",
              "      <td>Donald Trump just couldn t wish all Americans ...</td>\n",
              "      <td>News</td>\n",
              "      <td>December 31, 2017</td>\n",
              "    </tr>\n",
              "    <tr>\n",
              "      <th>1</th>\n",
              "      <td>Drunk Bragging Trump Staffer Started Russian ...</td>\n",
              "      <td>House Intelligence Committee Chairman Devin Nu...</td>\n",
              "      <td>News</td>\n",
              "      <td>December 31, 2017</td>\n",
              "    </tr>\n",
              "    <tr>\n",
              "      <th>2</th>\n",
              "      <td>Sheriff David Clarke Becomes An Internet Joke...</td>\n",
              "      <td>On Friday, it was revealed that former Milwauk...</td>\n",
              "      <td>News</td>\n",
              "      <td>December 30, 2017</td>\n",
              "    </tr>\n",
              "    <tr>\n",
              "      <th>3</th>\n",
              "      <td>Trump Is So Obsessed He Even Has Obama’s Name...</td>\n",
              "      <td>On Christmas day, Donald Trump announced that ...</td>\n",
              "      <td>News</td>\n",
              "      <td>December 29, 2017</td>\n",
              "    </tr>\n",
              "    <tr>\n",
              "      <th>4</th>\n",
              "      <td>Pope Francis Just Called Out Donald Trump Dur...</td>\n",
              "      <td>Pope Francis used his annual Christmas Day mes...</td>\n",
              "      <td>News</td>\n",
              "      <td>December 25, 2017</td>\n",
              "    </tr>\n",
              "  </tbody>\n",
              "</table>\n",
              "</div>\n",
              "      <button class=\"colab-df-convert\" onclick=\"convertToInteractive('df-b50f1c7b-7cb6-498b-a794-2a710bed4cf8')\"\n",
              "              title=\"Convert this dataframe to an interactive table.\"\n",
              "              style=\"display:none;\">\n",
              "        \n",
              "  <svg xmlns=\"http://www.w3.org/2000/svg\" height=\"24px\"viewBox=\"0 0 24 24\"\n",
              "       width=\"24px\">\n",
              "    <path d=\"M0 0h24v24H0V0z\" fill=\"none\"/>\n",
              "    <path d=\"M18.56 5.44l.94 2.06.94-2.06 2.06-.94-2.06-.94-.94-2.06-.94 2.06-2.06.94zm-11 1L8.5 8.5l.94-2.06 2.06-.94-2.06-.94L8.5 2.5l-.94 2.06-2.06.94zm10 10l.94 2.06.94-2.06 2.06-.94-2.06-.94-.94-2.06-.94 2.06-2.06.94z\"/><path d=\"M17.41 7.96l-1.37-1.37c-.4-.4-.92-.59-1.43-.59-.52 0-1.04.2-1.43.59L10.3 9.45l-7.72 7.72c-.78.78-.78 2.05 0 2.83L4 21.41c.39.39.9.59 1.41.59.51 0 1.02-.2 1.41-.59l7.78-7.78 2.81-2.81c.8-.78.8-2.07 0-2.86zM5.41 20L4 18.59l7.72-7.72 1.47 1.35L5.41 20z\"/>\n",
              "  </svg>\n",
              "      </button>\n",
              "      \n",
              "  <style>\n",
              "    .colab-df-container {\n",
              "      display:flex;\n",
              "      flex-wrap:wrap;\n",
              "      gap: 12px;\n",
              "    }\n",
              "\n",
              "    .colab-df-convert {\n",
              "      background-color: #E8F0FE;\n",
              "      border: none;\n",
              "      border-radius: 50%;\n",
              "      cursor: pointer;\n",
              "      display: none;\n",
              "      fill: #1967D2;\n",
              "      height: 32px;\n",
              "      padding: 0 0 0 0;\n",
              "      width: 32px;\n",
              "    }\n",
              "\n",
              "    .colab-df-convert:hover {\n",
              "      background-color: #E2EBFA;\n",
              "      box-shadow: 0px 1px 2px rgba(60, 64, 67, 0.3), 0px 1px 3px 1px rgba(60, 64, 67, 0.15);\n",
              "      fill: #174EA6;\n",
              "    }\n",
              "\n",
              "    [theme=dark] .colab-df-convert {\n",
              "      background-color: #3B4455;\n",
              "      fill: #D2E3FC;\n",
              "    }\n",
              "\n",
              "    [theme=dark] .colab-df-convert:hover {\n",
              "      background-color: #434B5C;\n",
              "      box-shadow: 0px 1px 3px 1px rgba(0, 0, 0, 0.15);\n",
              "      filter: drop-shadow(0px 1px 2px rgba(0, 0, 0, 0.3));\n",
              "      fill: #FFFFFF;\n",
              "    }\n",
              "  </style>\n",
              "\n",
              "      <script>\n",
              "        const buttonEl =\n",
              "          document.querySelector('#df-b50f1c7b-7cb6-498b-a794-2a710bed4cf8 button.colab-df-convert');\n",
              "        buttonEl.style.display =\n",
              "          google.colab.kernel.accessAllowed ? 'block' : 'none';\n",
              "\n",
              "        async function convertToInteractive(key) {\n",
              "          const element = document.querySelector('#df-b50f1c7b-7cb6-498b-a794-2a710bed4cf8');\n",
              "          const dataTable =\n",
              "            await google.colab.kernel.invokeFunction('convertToInteractive',\n",
              "                                                     [key], {});\n",
              "          if (!dataTable) return;\n",
              "\n",
              "          const docLinkHtml = 'Like what you see? Visit the ' +\n",
              "            '<a target=\"_blank\" href=https://colab.research.google.com/notebooks/data_table.ipynb>data table notebook</a>'\n",
              "            + ' to learn more about interactive tables.';\n",
              "          element.innerHTML = '';\n",
              "          dataTable['output_type'] = 'display_data';\n",
              "          await google.colab.output.renderOutput(dataTable, element);\n",
              "          const docLink = document.createElement('div');\n",
              "          docLink.innerHTML = docLinkHtml;\n",
              "          element.appendChild(docLink);\n",
              "        }\n",
              "      </script>\n",
              "    </div>\n",
              "  </div>\n",
              "  "
            ]
          },
          "metadata": {},
          "execution_count": 114
        }
      ]
    },
    {
      "cell_type": "code",
      "source": [
        "true_news['category'] = 1\n",
        "false_news['category'] = 0"
      ],
      "metadata": {
        "execution": {
          "iopub.status.busy": "2023-06-01T13:19:34.879701Z",
          "iopub.execute_input": "2023-06-01T13:19:34.880093Z",
          "iopub.status.idle": "2023-06-01T13:19:34.888810Z",
          "shell.execute_reply.started": "2023-06-01T13:19:34.880063Z",
          "shell.execute_reply": "2023-06-01T13:19:34.887946Z"
        },
        "trusted": true,
        "id": "nwD9XbO7NqKr"
      },
      "execution_count": 115,
      "outputs": []
    },
    {
      "cell_type": "code",
      "source": [
        "all_news = pd.concat([true_news, false_news])\n",
        "all_news.head()"
      ],
      "metadata": {
        "execution": {
          "iopub.status.busy": "2023-06-01T13:19:34.890039Z",
          "iopub.execute_input": "2023-06-01T13:19:34.890561Z",
          "iopub.status.idle": "2023-06-01T13:19:34.918936Z",
          "shell.execute_reply.started": "2023-06-01T13:19:34.890530Z",
          "shell.execute_reply": "2023-06-01T13:19:34.917985Z"
        },
        "trusted": true,
        "colab": {
          "base_uri": "https://localhost:8080/",
          "height": 206
        },
        "id": "2qwPzqQpNqKr",
        "outputId": "6ec9b32d-217c-4ac5-c7a8-d12b428268bf"
      },
      "execution_count": 116,
      "outputs": [
        {
          "output_type": "execute_result",
          "data": {
            "text/plain": [
              "                                               title  \\\n",
              "0  As U.S. budget fight looms, Republicans flip t...   \n",
              "1  U.S. military to accept transgender recruits o...   \n",
              "2  Senior U.S. Republican senator: 'Let Mr. Muell...   \n",
              "3  FBI Russia probe helped by Australian diplomat...   \n",
              "4  Trump wants Postal Service to charge 'much mor...   \n",
              "\n",
              "                                                text       subject  \\\n",
              "0  WASHINGTON (Reuters) - The head of a conservat...  politicsNews   \n",
              "1  WASHINGTON (Reuters) - Transgender people will...  politicsNews   \n",
              "2  WASHINGTON (Reuters) - The special counsel inv...  politicsNews   \n",
              "3  WASHINGTON (Reuters) - Trump campaign adviser ...  politicsNews   \n",
              "4  SEATTLE/WASHINGTON (Reuters) - President Donal...  politicsNews   \n",
              "\n",
              "                 date  category  \n",
              "0  December 31, 2017          1  \n",
              "1  December 29, 2017          1  \n",
              "2  December 31, 2017          1  \n",
              "3  December 30, 2017          1  \n",
              "4  December 29, 2017          1  "
            ],
            "text/html": [
              "\n",
              "  <div id=\"df-795a8b1d-3cb9-4f67-b11e-8489c0c159f5\">\n",
              "    <div class=\"colab-df-container\">\n",
              "      <div>\n",
              "<style scoped>\n",
              "    .dataframe tbody tr th:only-of-type {\n",
              "        vertical-align: middle;\n",
              "    }\n",
              "\n",
              "    .dataframe tbody tr th {\n",
              "        vertical-align: top;\n",
              "    }\n",
              "\n",
              "    .dataframe thead th {\n",
              "        text-align: right;\n",
              "    }\n",
              "</style>\n",
              "<table border=\"1\" class=\"dataframe\">\n",
              "  <thead>\n",
              "    <tr style=\"text-align: right;\">\n",
              "      <th></th>\n",
              "      <th>title</th>\n",
              "      <th>text</th>\n",
              "      <th>subject</th>\n",
              "      <th>date</th>\n",
              "      <th>category</th>\n",
              "    </tr>\n",
              "  </thead>\n",
              "  <tbody>\n",
              "    <tr>\n",
              "      <th>0</th>\n",
              "      <td>As U.S. budget fight looms, Republicans flip t...</td>\n",
              "      <td>WASHINGTON (Reuters) - The head of a conservat...</td>\n",
              "      <td>politicsNews</td>\n",
              "      <td>December 31, 2017</td>\n",
              "      <td>1</td>\n",
              "    </tr>\n",
              "    <tr>\n",
              "      <th>1</th>\n",
              "      <td>U.S. military to accept transgender recruits o...</td>\n",
              "      <td>WASHINGTON (Reuters) - Transgender people will...</td>\n",
              "      <td>politicsNews</td>\n",
              "      <td>December 29, 2017</td>\n",
              "      <td>1</td>\n",
              "    </tr>\n",
              "    <tr>\n",
              "      <th>2</th>\n",
              "      <td>Senior U.S. Republican senator: 'Let Mr. Muell...</td>\n",
              "      <td>WASHINGTON (Reuters) - The special counsel inv...</td>\n",
              "      <td>politicsNews</td>\n",
              "      <td>December 31, 2017</td>\n",
              "      <td>1</td>\n",
              "    </tr>\n",
              "    <tr>\n",
              "      <th>3</th>\n",
              "      <td>FBI Russia probe helped by Australian diplomat...</td>\n",
              "      <td>WASHINGTON (Reuters) - Trump campaign adviser ...</td>\n",
              "      <td>politicsNews</td>\n",
              "      <td>December 30, 2017</td>\n",
              "      <td>1</td>\n",
              "    </tr>\n",
              "    <tr>\n",
              "      <th>4</th>\n",
              "      <td>Trump wants Postal Service to charge 'much mor...</td>\n",
              "      <td>SEATTLE/WASHINGTON (Reuters) - President Donal...</td>\n",
              "      <td>politicsNews</td>\n",
              "      <td>December 29, 2017</td>\n",
              "      <td>1</td>\n",
              "    </tr>\n",
              "  </tbody>\n",
              "</table>\n",
              "</div>\n",
              "      <button class=\"colab-df-convert\" onclick=\"convertToInteractive('df-795a8b1d-3cb9-4f67-b11e-8489c0c159f5')\"\n",
              "              title=\"Convert this dataframe to an interactive table.\"\n",
              "              style=\"display:none;\">\n",
              "        \n",
              "  <svg xmlns=\"http://www.w3.org/2000/svg\" height=\"24px\"viewBox=\"0 0 24 24\"\n",
              "       width=\"24px\">\n",
              "    <path d=\"M0 0h24v24H0V0z\" fill=\"none\"/>\n",
              "    <path d=\"M18.56 5.44l.94 2.06.94-2.06 2.06-.94-2.06-.94-.94-2.06-.94 2.06-2.06.94zm-11 1L8.5 8.5l.94-2.06 2.06-.94-2.06-.94L8.5 2.5l-.94 2.06-2.06.94zm10 10l.94 2.06.94-2.06 2.06-.94-2.06-.94-.94-2.06-.94 2.06-2.06.94z\"/><path d=\"M17.41 7.96l-1.37-1.37c-.4-.4-.92-.59-1.43-.59-.52 0-1.04.2-1.43.59L10.3 9.45l-7.72 7.72c-.78.78-.78 2.05 0 2.83L4 21.41c.39.39.9.59 1.41.59.51 0 1.02-.2 1.41-.59l7.78-7.78 2.81-2.81c.8-.78.8-2.07 0-2.86zM5.41 20L4 18.59l7.72-7.72 1.47 1.35L5.41 20z\"/>\n",
              "  </svg>\n",
              "      </button>\n",
              "      \n",
              "  <style>\n",
              "    .colab-df-container {\n",
              "      display:flex;\n",
              "      flex-wrap:wrap;\n",
              "      gap: 12px;\n",
              "    }\n",
              "\n",
              "    .colab-df-convert {\n",
              "      background-color: #E8F0FE;\n",
              "      border: none;\n",
              "      border-radius: 50%;\n",
              "      cursor: pointer;\n",
              "      display: none;\n",
              "      fill: #1967D2;\n",
              "      height: 32px;\n",
              "      padding: 0 0 0 0;\n",
              "      width: 32px;\n",
              "    }\n",
              "\n",
              "    .colab-df-convert:hover {\n",
              "      background-color: #E2EBFA;\n",
              "      box-shadow: 0px 1px 2px rgba(60, 64, 67, 0.3), 0px 1px 3px 1px rgba(60, 64, 67, 0.15);\n",
              "      fill: #174EA6;\n",
              "    }\n",
              "\n",
              "    [theme=dark] .colab-df-convert {\n",
              "      background-color: #3B4455;\n",
              "      fill: #D2E3FC;\n",
              "    }\n",
              "\n",
              "    [theme=dark] .colab-df-convert:hover {\n",
              "      background-color: #434B5C;\n",
              "      box-shadow: 0px 1px 3px 1px rgba(0, 0, 0, 0.15);\n",
              "      filter: drop-shadow(0px 1px 2px rgba(0, 0, 0, 0.3));\n",
              "      fill: #FFFFFF;\n",
              "    }\n",
              "  </style>\n",
              "\n",
              "      <script>\n",
              "        const buttonEl =\n",
              "          document.querySelector('#df-795a8b1d-3cb9-4f67-b11e-8489c0c159f5 button.colab-df-convert');\n",
              "        buttonEl.style.display =\n",
              "          google.colab.kernel.accessAllowed ? 'block' : 'none';\n",
              "\n",
              "        async function convertToInteractive(key) {\n",
              "          const element = document.querySelector('#df-795a8b1d-3cb9-4f67-b11e-8489c0c159f5');\n",
              "          const dataTable =\n",
              "            await google.colab.kernel.invokeFunction('convertToInteractive',\n",
              "                                                     [key], {});\n",
              "          if (!dataTable) return;\n",
              "\n",
              "          const docLinkHtml = 'Like what you see? Visit the ' +\n",
              "            '<a target=\"_blank\" href=https://colab.research.google.com/notebooks/data_table.ipynb>data table notebook</a>'\n",
              "            + ' to learn more about interactive tables.';\n",
              "          element.innerHTML = '';\n",
              "          dataTable['output_type'] = 'display_data';\n",
              "          await google.colab.output.renderOutput(dataTable, element);\n",
              "          const docLink = document.createElement('div');\n",
              "          docLink.innerHTML = docLinkHtml;\n",
              "          element.appendChild(docLink);\n",
              "        }\n",
              "      </script>\n",
              "    </div>\n",
              "  </div>\n",
              "  "
            ]
          },
          "metadata": {},
          "execution_count": 116
        }
      ]
    },
    {
      "cell_type": "code",
      "source": [
        "true_news.info()"
      ],
      "metadata": {
        "execution": {
          "iopub.status.busy": "2023-06-01T13:19:34.922238Z",
          "iopub.execute_input": "2023-06-01T13:19:34.923179Z",
          "iopub.status.idle": "2023-06-01T13:19:34.954468Z",
          "shell.execute_reply.started": "2023-06-01T13:19:34.923140Z",
          "shell.execute_reply": "2023-06-01T13:19:34.952216Z"
        },
        "trusted": true,
        "colab": {
          "base_uri": "https://localhost:8080/"
        },
        "id": "qAf_3rQaNqKr",
        "outputId": "c2c94e31-db5b-4986-989b-604e81cff1bc"
      },
      "execution_count": 117,
      "outputs": [
        {
          "output_type": "stream",
          "name": "stdout",
          "text": [
            "<class 'pandas.core.frame.DataFrame'>\n",
            "RangeIndex: 21417 entries, 0 to 21416\n",
            "Data columns (total 5 columns):\n",
            " #   Column    Non-Null Count  Dtype \n",
            "---  ------    --------------  ----- \n",
            " 0   title     21417 non-null  object\n",
            " 1   text      21417 non-null  object\n",
            " 2   subject   21417 non-null  object\n",
            " 3   date      21417 non-null  object\n",
            " 4   category  21417 non-null  int64 \n",
            "dtypes: int64(1), object(4)\n",
            "memory usage: 836.7+ KB\n"
          ]
        }
      ]
    },
    {
      "cell_type": "code",
      "source": [
        "true_news.subject.value_counts()"
      ],
      "metadata": {
        "execution": {
          "iopub.status.busy": "2023-06-01T13:19:34.956593Z",
          "iopub.execute_input": "2023-06-01T13:19:34.957182Z",
          "iopub.status.idle": "2023-06-01T13:19:34.968878Z",
          "shell.execute_reply.started": "2023-06-01T13:19:34.957138Z",
          "shell.execute_reply": "2023-06-01T13:19:34.967866Z"
        },
        "trusted": true,
        "colab": {
          "base_uri": "https://localhost:8080/"
        },
        "id": "TsPu0c-_NqKs",
        "outputId": "a22e93b8-e02b-4d07-f395-d82e647a4e8f"
      },
      "execution_count": 118,
      "outputs": [
        {
          "output_type": "execute_result",
          "data": {
            "text/plain": [
              "politicsNews    11272\n",
              "worldnews       10145\n",
              "Name: subject, dtype: int64"
            ]
          },
          "metadata": {},
          "execution_count": 118
        }
      ]
    },
    {
      "cell_type": "code",
      "source": [
        "false_news.info()"
      ],
      "metadata": {
        "execution": {
          "iopub.status.busy": "2023-06-01T13:19:34.970187Z",
          "iopub.execute_input": "2023-06-01T13:19:34.971116Z",
          "iopub.status.idle": "2023-06-01T13:19:35.006503Z",
          "shell.execute_reply.started": "2023-06-01T13:19:34.971072Z",
          "shell.execute_reply": "2023-06-01T13:19:35.005023Z"
        },
        "trusted": true,
        "colab": {
          "base_uri": "https://localhost:8080/"
        },
        "id": "4nkGwGQZNqKs",
        "outputId": "8a7f7469-a97e-4269-e84a-d0ffd06c21d7"
      },
      "execution_count": 119,
      "outputs": [
        {
          "output_type": "stream",
          "name": "stdout",
          "text": [
            "<class 'pandas.core.frame.DataFrame'>\n",
            "RangeIndex: 23481 entries, 0 to 23480\n",
            "Data columns (total 5 columns):\n",
            " #   Column    Non-Null Count  Dtype \n",
            "---  ------    --------------  ----- \n",
            " 0   title     23481 non-null  object\n",
            " 1   text      23481 non-null  object\n",
            " 2   subject   23481 non-null  object\n",
            " 3   date      23481 non-null  object\n",
            " 4   category  23481 non-null  int64 \n",
            "dtypes: int64(1), object(4)\n",
            "memory usage: 917.4+ KB\n"
          ]
        }
      ]
    },
    {
      "cell_type": "code",
      "source": [
        "false_news.subject.value_counts()"
      ],
      "metadata": {
        "execution": {
          "iopub.status.busy": "2023-06-01T13:19:35.007825Z",
          "iopub.execute_input": "2023-06-01T13:19:35.009543Z",
          "iopub.status.idle": "2023-06-01T13:19:35.022181Z",
          "shell.execute_reply.started": "2023-06-01T13:19:35.009495Z",
          "shell.execute_reply": "2023-06-01T13:19:35.020582Z"
        },
        "trusted": true,
        "colab": {
          "base_uri": "https://localhost:8080/"
        },
        "id": "YSqZqIznNqKs",
        "outputId": "c0d6f95f-5f97-474b-9844-19d1e791228f"
      },
      "execution_count": 120,
      "outputs": [
        {
          "output_type": "execute_result",
          "data": {
            "text/plain": [
              "News               9050\n",
              "politics           6841\n",
              "left-news          4459\n",
              "Government News    1570\n",
              "US_News             783\n",
              "Middle-east         778\n",
              "Name: subject, dtype: int64"
            ]
          },
          "metadata": {},
          "execution_count": 120
        }
      ]
    },
    {
      "cell_type": "markdown",
      "source": [
        "Right now this class imbalance is not considered high skewed. After getting the results if I get not accurate results, I will consider some approaches for imbalance."
      ],
      "metadata": {
        "id": "sQn5CMWhNqKt"
      }
    },
    {
      "cell_type": "code",
      "source": [
        "all_news.info()"
      ],
      "metadata": {
        "execution": {
          "iopub.status.busy": "2023-06-01T13:19:35.028595Z",
          "iopub.execute_input": "2023-06-01T13:19:35.029035Z",
          "iopub.status.idle": "2023-06-01T13:19:35.082196Z",
          "shell.execute_reply.started": "2023-06-01T13:19:35.029001Z",
          "shell.execute_reply": "2023-06-01T13:19:35.080387Z"
        },
        "trusted": true,
        "colab": {
          "base_uri": "https://localhost:8080/"
        },
        "id": "HlV-j0ffNqKt",
        "outputId": "fa5029a8-b65a-46d5-c696-2a4b99a079af"
      },
      "execution_count": 121,
      "outputs": [
        {
          "output_type": "stream",
          "name": "stdout",
          "text": [
            "<class 'pandas.core.frame.DataFrame'>\n",
            "Int64Index: 44898 entries, 0 to 23480\n",
            "Data columns (total 5 columns):\n",
            " #   Column    Non-Null Count  Dtype \n",
            "---  ------    --------------  ----- \n",
            " 0   title     44898 non-null  object\n",
            " 1   text      44898 non-null  object\n",
            " 2   subject   44898 non-null  object\n",
            " 3   date      44898 non-null  object\n",
            " 4   category  44898 non-null  int64 \n",
            "dtypes: int64(1), object(4)\n",
            "memory usage: 2.1+ MB\n"
          ]
        }
      ]
    },
    {
      "cell_type": "code",
      "source": [
        "all_news.isna().sum()"
      ],
      "metadata": {
        "execution": {
          "iopub.status.busy": "2023-06-01T13:19:35.083752Z",
          "iopub.execute_input": "2023-06-01T13:19:35.084624Z",
          "iopub.status.idle": "2023-06-01T13:19:35.131119Z",
          "shell.execute_reply.started": "2023-06-01T13:19:35.084590Z",
          "shell.execute_reply": "2023-06-01T13:19:35.129951Z"
        },
        "trusted": true,
        "colab": {
          "base_uri": "https://localhost:8080/"
        },
        "id": "ip1M6Jp-NqKt",
        "outputId": "8b7afce7-57cc-41ff-8116-b51479e82659"
      },
      "execution_count": 122,
      "outputs": [
        {
          "output_type": "execute_result",
          "data": {
            "text/plain": [
              "title       0\n",
              "text        0\n",
              "subject     0\n",
              "date        0\n",
              "category    0\n",
              "dtype: int64"
            ]
          },
          "metadata": {},
          "execution_count": 122
        }
      ]
    },
    {
      "cell_type": "code",
      "source": [
        "all_news.subject.value_counts()"
      ],
      "metadata": {
        "execution": {
          "iopub.status.busy": "2023-06-01T13:19:35.132488Z",
          "iopub.execute_input": "2023-06-01T13:19:35.132855Z",
          "iopub.status.idle": "2023-06-01T13:19:35.145661Z",
          "shell.execute_reply.started": "2023-06-01T13:19:35.132827Z",
          "shell.execute_reply": "2023-06-01T13:19:35.144520Z"
        },
        "trusted": true,
        "colab": {
          "base_uri": "https://localhost:8080/"
        },
        "id": "oCM3rUlvNqKu",
        "outputId": "198d8074-602a-44a1-bf63-5a1d88d80023"
      },
      "execution_count": 123,
      "outputs": [
        {
          "output_type": "execute_result",
          "data": {
            "text/plain": [
              "politicsNews       11272\n",
              "worldnews          10145\n",
              "News                9050\n",
              "politics            6841\n",
              "left-news           4459\n",
              "Government News     1570\n",
              "US_News              783\n",
              "Middle-east          778\n",
              "Name: subject, dtype: int64"
            ]
          },
          "metadata": {},
          "execution_count": 123
        }
      ]
    },
    {
      "cell_type": "code",
      "source": [
        "all_news.head()"
      ],
      "metadata": {
        "execution": {
          "iopub.status.busy": "2023-06-01T13:19:35.147358Z",
          "iopub.execute_input": "2023-06-01T13:19:35.147703Z",
          "iopub.status.idle": "2023-06-01T13:19:35.173087Z",
          "shell.execute_reply.started": "2023-06-01T13:19:35.147673Z",
          "shell.execute_reply": "2023-06-01T13:19:35.171855Z"
        },
        "trusted": true,
        "colab": {
          "base_uri": "https://localhost:8080/",
          "height": 206
        },
        "id": "OPQfvk4BNqKu",
        "outputId": "974fb922-6a1c-43a6-952c-29dbc491e7c4"
      },
      "execution_count": 124,
      "outputs": [
        {
          "output_type": "execute_result",
          "data": {
            "text/plain": [
              "                                               title  \\\n",
              "0  As U.S. budget fight looms, Republicans flip t...   \n",
              "1  U.S. military to accept transgender recruits o...   \n",
              "2  Senior U.S. Republican senator: 'Let Mr. Muell...   \n",
              "3  FBI Russia probe helped by Australian diplomat...   \n",
              "4  Trump wants Postal Service to charge 'much mor...   \n",
              "\n",
              "                                                text       subject  \\\n",
              "0  WASHINGTON (Reuters) - The head of a conservat...  politicsNews   \n",
              "1  WASHINGTON (Reuters) - Transgender people will...  politicsNews   \n",
              "2  WASHINGTON (Reuters) - The special counsel inv...  politicsNews   \n",
              "3  WASHINGTON (Reuters) - Trump campaign adviser ...  politicsNews   \n",
              "4  SEATTLE/WASHINGTON (Reuters) - President Donal...  politicsNews   \n",
              "\n",
              "                 date  category  \n",
              "0  December 31, 2017          1  \n",
              "1  December 29, 2017          1  \n",
              "2  December 31, 2017          1  \n",
              "3  December 30, 2017          1  \n",
              "4  December 29, 2017          1  "
            ],
            "text/html": [
              "\n",
              "  <div id=\"df-3f8997c9-b708-4602-926f-2e78a2ab3dfd\">\n",
              "    <div class=\"colab-df-container\">\n",
              "      <div>\n",
              "<style scoped>\n",
              "    .dataframe tbody tr th:only-of-type {\n",
              "        vertical-align: middle;\n",
              "    }\n",
              "\n",
              "    .dataframe tbody tr th {\n",
              "        vertical-align: top;\n",
              "    }\n",
              "\n",
              "    .dataframe thead th {\n",
              "        text-align: right;\n",
              "    }\n",
              "</style>\n",
              "<table border=\"1\" class=\"dataframe\">\n",
              "  <thead>\n",
              "    <tr style=\"text-align: right;\">\n",
              "      <th></th>\n",
              "      <th>title</th>\n",
              "      <th>text</th>\n",
              "      <th>subject</th>\n",
              "      <th>date</th>\n",
              "      <th>category</th>\n",
              "    </tr>\n",
              "  </thead>\n",
              "  <tbody>\n",
              "    <tr>\n",
              "      <th>0</th>\n",
              "      <td>As U.S. budget fight looms, Republicans flip t...</td>\n",
              "      <td>WASHINGTON (Reuters) - The head of a conservat...</td>\n",
              "      <td>politicsNews</td>\n",
              "      <td>December 31, 2017</td>\n",
              "      <td>1</td>\n",
              "    </tr>\n",
              "    <tr>\n",
              "      <th>1</th>\n",
              "      <td>U.S. military to accept transgender recruits o...</td>\n",
              "      <td>WASHINGTON (Reuters) - Transgender people will...</td>\n",
              "      <td>politicsNews</td>\n",
              "      <td>December 29, 2017</td>\n",
              "      <td>1</td>\n",
              "    </tr>\n",
              "    <tr>\n",
              "      <th>2</th>\n",
              "      <td>Senior U.S. Republican senator: 'Let Mr. Muell...</td>\n",
              "      <td>WASHINGTON (Reuters) - The special counsel inv...</td>\n",
              "      <td>politicsNews</td>\n",
              "      <td>December 31, 2017</td>\n",
              "      <td>1</td>\n",
              "    </tr>\n",
              "    <tr>\n",
              "      <th>3</th>\n",
              "      <td>FBI Russia probe helped by Australian diplomat...</td>\n",
              "      <td>WASHINGTON (Reuters) - Trump campaign adviser ...</td>\n",
              "      <td>politicsNews</td>\n",
              "      <td>December 30, 2017</td>\n",
              "      <td>1</td>\n",
              "    </tr>\n",
              "    <tr>\n",
              "      <th>4</th>\n",
              "      <td>Trump wants Postal Service to charge 'much mor...</td>\n",
              "      <td>SEATTLE/WASHINGTON (Reuters) - President Donal...</td>\n",
              "      <td>politicsNews</td>\n",
              "      <td>December 29, 2017</td>\n",
              "      <td>1</td>\n",
              "    </tr>\n",
              "  </tbody>\n",
              "</table>\n",
              "</div>\n",
              "      <button class=\"colab-df-convert\" onclick=\"convertToInteractive('df-3f8997c9-b708-4602-926f-2e78a2ab3dfd')\"\n",
              "              title=\"Convert this dataframe to an interactive table.\"\n",
              "              style=\"display:none;\">\n",
              "        \n",
              "  <svg xmlns=\"http://www.w3.org/2000/svg\" height=\"24px\"viewBox=\"0 0 24 24\"\n",
              "       width=\"24px\">\n",
              "    <path d=\"M0 0h24v24H0V0z\" fill=\"none\"/>\n",
              "    <path d=\"M18.56 5.44l.94 2.06.94-2.06 2.06-.94-2.06-.94-.94-2.06-.94 2.06-2.06.94zm-11 1L8.5 8.5l.94-2.06 2.06-.94-2.06-.94L8.5 2.5l-.94 2.06-2.06.94zm10 10l.94 2.06.94-2.06 2.06-.94-2.06-.94-.94-2.06-.94 2.06-2.06.94z\"/><path d=\"M17.41 7.96l-1.37-1.37c-.4-.4-.92-.59-1.43-.59-.52 0-1.04.2-1.43.59L10.3 9.45l-7.72 7.72c-.78.78-.78 2.05 0 2.83L4 21.41c.39.39.9.59 1.41.59.51 0 1.02-.2 1.41-.59l7.78-7.78 2.81-2.81c.8-.78.8-2.07 0-2.86zM5.41 20L4 18.59l7.72-7.72 1.47 1.35L5.41 20z\"/>\n",
              "  </svg>\n",
              "      </button>\n",
              "      \n",
              "  <style>\n",
              "    .colab-df-container {\n",
              "      display:flex;\n",
              "      flex-wrap:wrap;\n",
              "      gap: 12px;\n",
              "    }\n",
              "\n",
              "    .colab-df-convert {\n",
              "      background-color: #E8F0FE;\n",
              "      border: none;\n",
              "      border-radius: 50%;\n",
              "      cursor: pointer;\n",
              "      display: none;\n",
              "      fill: #1967D2;\n",
              "      height: 32px;\n",
              "      padding: 0 0 0 0;\n",
              "      width: 32px;\n",
              "    }\n",
              "\n",
              "    .colab-df-convert:hover {\n",
              "      background-color: #E2EBFA;\n",
              "      box-shadow: 0px 1px 2px rgba(60, 64, 67, 0.3), 0px 1px 3px 1px rgba(60, 64, 67, 0.15);\n",
              "      fill: #174EA6;\n",
              "    }\n",
              "\n",
              "    [theme=dark] .colab-df-convert {\n",
              "      background-color: #3B4455;\n",
              "      fill: #D2E3FC;\n",
              "    }\n",
              "\n",
              "    [theme=dark] .colab-df-convert:hover {\n",
              "      background-color: #434B5C;\n",
              "      box-shadow: 0px 1px 3px 1px rgba(0, 0, 0, 0.15);\n",
              "      filter: drop-shadow(0px 1px 2px rgba(0, 0, 0, 0.3));\n",
              "      fill: #FFFFFF;\n",
              "    }\n",
              "  </style>\n",
              "\n",
              "      <script>\n",
              "        const buttonEl =\n",
              "          document.querySelector('#df-3f8997c9-b708-4602-926f-2e78a2ab3dfd button.colab-df-convert');\n",
              "        buttonEl.style.display =\n",
              "          google.colab.kernel.accessAllowed ? 'block' : 'none';\n",
              "\n",
              "        async function convertToInteractive(key) {\n",
              "          const element = document.querySelector('#df-3f8997c9-b708-4602-926f-2e78a2ab3dfd');\n",
              "          const dataTable =\n",
              "            await google.colab.kernel.invokeFunction('convertToInteractive',\n",
              "                                                     [key], {});\n",
              "          if (!dataTable) return;\n",
              "\n",
              "          const docLinkHtml = 'Like what you see? Visit the ' +\n",
              "            '<a target=\"_blank\" href=https://colab.research.google.com/notebooks/data_table.ipynb>data table notebook</a>'\n",
              "            + ' to learn more about interactive tables.';\n",
              "          element.innerHTML = '';\n",
              "          dataTable['output_type'] = 'display_data';\n",
              "          await google.colab.output.renderOutput(dataTable, element);\n",
              "          const docLink = document.createElement('div');\n",
              "          docLink.innerHTML = docLinkHtml;\n",
              "          element.appendChild(docLink);\n",
              "        }\n",
              "      </script>\n",
              "    </div>\n",
              "  </div>\n",
              "  "
            ]
          },
          "metadata": {},
          "execution_count": 124
        }
      ]
    },
    {
      "cell_type": "code",
      "source": [
        "print(all_news.duplicated().sum())\n",
        "all_news.drop_duplicates(inplace = True)"
      ],
      "metadata": {
        "execution": {
          "iopub.status.busy": "2023-06-01T13:19:35.174607Z",
          "iopub.execute_input": "2023-06-01T13:19:35.175317Z",
          "iopub.status.idle": "2023-06-01T13:19:35.856167Z",
          "shell.execute_reply.started": "2023-06-01T13:19:35.175277Z",
          "shell.execute_reply": "2023-06-01T13:19:35.854853Z"
        },
        "trusted": true,
        "colab": {
          "base_uri": "https://localhost:8080/"
        },
        "id": "g4g-4NZ_NqKu",
        "outputId": "4cf9b1c6-88d7-4c0d-d578-0f24e6dc2ae6"
      },
      "execution_count": 125,
      "outputs": [
        {
          "output_type": "stream",
          "name": "stdout",
          "text": [
            "209\n"
          ]
        }
      ]
    },
    {
      "cell_type": "code",
      "source": [
        "import matplotlib.pyplot as plt\n",
        "import seaborn as sns\n",
        "\n",
        "plt.figure(figsize=(12, 8))\n",
        "sns.set(style=\"whitegrid\", font_scale=1.2)\n",
        "chart = sns.countplot(x=\"subject\", hue=\"category\", data=all_news, palette=\"Set2\")\n",
        "chart.set_xticklabels(chart.get_xticklabels(), rotation=45, ha=\"right\")\n",
        "chart.legend(title=\"Category\", loc=\"upper right\")\n",
        "\n",
        "plt.title(\"Distribution of Subjects by Category\")\n",
        "plt.xlabel(\"Subject\")\n",
        "plt.ylabel(\"Count\")\n",
        "\n",
        "sns.despine()\n",
        "\n",
        "plt.tight_layout()\n",
        "plt.show()\n"
      ],
      "metadata": {
        "execution": {
          "iopub.status.busy": "2023-06-01T13:19:35.857376Z",
          "iopub.execute_input": "2023-06-01T13:19:35.858087Z",
          "iopub.status.idle": "2023-06-01T13:19:36.315955Z",
          "shell.execute_reply.started": "2023-06-01T13:19:35.858053Z",
          "shell.execute_reply": "2023-06-01T13:19:36.314957Z"
        },
        "trusted": true,
        "colab": {
          "base_uri": "https://localhost:8080/",
          "height": 793
        },
        "id": "n5SDUHtRNqKu",
        "outputId": "cb225fcf-85e0-460a-8829-d8154d3f40ac"
      },
      "execution_count": 126,
      "outputs": [
        {
          "output_type": "display_data",
          "data": {
            "text/plain": [
              "<Figure size 1200x800 with 1 Axes>"
            ],
            "image/png": "[encoded data removed]"
          },
          "metadata": {}
        }
      ]
    },
    {
      "cell_type": "code",
      "source": [
        "all_news['text'] = all_news['title']+ \"---\" +  all_news['text'] \n",
        "del all_news['title']\n",
        "del all_news['subject']\n",
        "del all_news['date']"
      ],
      "metadata": {
        "execution": {
          "iopub.status.busy": "2023-06-01T13:19:36.317234Z",
          "iopub.execute_input": "2023-06-01T13:19:36.318346Z",
          "iopub.status.idle": "2023-06-01T13:19:36.580164Z",
          "shell.execute_reply.started": "2023-06-01T13:19:36.318298Z",
          "shell.execute_reply": "2023-06-01T13:19:36.579267Z"
        },
        "trusted": true,
        "id": "k6ztauYLNqKv"
      },
      "execution_count": 127,
      "outputs": []
    },
    {
      "cell_type": "code",
      "source": [
        "all_news.head()"
      ],
      "metadata": {
        "execution": {
          "iopub.status.busy": "2023-06-01T13:19:36.581460Z",
          "iopub.execute_input": "2023-06-01T13:19:36.582063Z",
          "iopub.status.idle": "2023-06-01T13:19:36.592674Z",
          "shell.execute_reply.started": "2023-06-01T13:19:36.582028Z",
          "shell.execute_reply": "2023-06-01T13:19:36.591446Z"
        },
        "trusted": true,
        "colab": {
          "base_uri": "https://localhost:8080/",
          "height": 206
        },
        "id": "1gYx7bZ6NqKv",
        "outputId": "c38536a8-da50-4d59-daf2-c9085a0163c4"
      },
      "execution_count": 128,
      "outputs": [
        {
          "output_type": "execute_result",
          "data": {
            "text/plain": [
              "                                                text  category\n",
              "0  As U.S. budget fight looms, Republicans flip t...         1\n",
              "1  U.S. military to accept transgender recruits o...         1\n",
              "2  Senior U.S. Republican senator: 'Let Mr. Muell...         1\n",
              "3  FBI Russia probe helped by Australian diplomat...         1\n",
              "4  Trump wants Postal Service to charge 'much mor...         1"
            ],
            "text/html": [
              "\n",
              "  <div id=\"df-25cee38e-9676-461b-8ab2-4aa97bfed39a\">\n",
              "    <div class=\"colab-df-container\">\n",
              "      <div>\n",
              "<style scoped>\n",
              "    .dataframe tbody tr th:only-of-type {\n",
              "        vertical-align: middle;\n",
              "    }\n",
              "\n",
              "    .dataframe tbody tr th {\n",
              "        vertical-align: top;\n",
              "    }\n",
              "\n",
              "    .dataframe thead th {\n",
              "        text-align: right;\n",
              "    }\n",
              "</style>\n",
              "<table border=\"1\" class=\"dataframe\">\n",
              "  <thead>\n",
              "    <tr style=\"text-align: right;\">\n",
              "      <th></th>\n",
              "      <th>text</th>\n",
              "      <th>category</th>\n",
              "    </tr>\n",
              "  </thead>\n",
              "  <tbody>\n",
              "    <tr>\n",
              "      <th>0</th>\n",
              "      <td>As U.S. budget fight looms, Republicans flip t...</td>\n",
              "      <td>1</td>\n",
              "    </tr>\n",
              "    <tr>\n",
              "      <th>1</th>\n",
              "      <td>U.S. military to accept transgender recruits o...</td>\n",
              "      <td>1</td>\n",
              "    </tr>\n",
              "    <tr>\n",
              "      <th>2</th>\n",
              "      <td>Senior U.S. Republican senator: 'Let Mr. Muell...</td>\n",
              "      <td>1</td>\n",
              "    </tr>\n",
              "    <tr>\n",
              "      <th>3</th>\n",
              "      <td>FBI Russia probe helped by Australian diplomat...</td>\n",
              "      <td>1</td>\n",
              "    </tr>\n",
              "    <tr>\n",
              "      <th>4</th>\n",
              "      <td>Trump wants Postal Service to charge 'much mor...</td>\n",
              "      <td>1</td>\n",
              "    </tr>\n",
              "  </tbody>\n",
              "</table>\n",
              "</div>\n",
              "      <button class=\"colab-df-convert\" onclick=\"convertToInteractive('df-25cee38e-9676-461b-8ab2-4aa97bfed39a')\"\n",
              "              title=\"Convert this dataframe to an interactive table.\"\n",
              "              style=\"display:none;\">\n",
              "        \n",
              "  <svg xmlns=\"http://www.w3.org/2000/svg\" height=\"24px\"viewBox=\"0 0 24 24\"\n",
              "       width=\"24px\">\n",
              "    <path d=\"M0 0h24v24H0V0z\" fill=\"none\"/>\n",
              "    <path d=\"M18.56 5.44l.94 2.06.94-2.06 2.06-.94-2.06-.94-.94-2.06-.94 2.06-2.06.94zm-11 1L8.5 8.5l.94-2.06 2.06-.94-2.06-.94L8.5 2.5l-.94 2.06-2.06.94zm10 10l.94 2.06.94-2.06 2.06-.94-2.06-.94-.94-2.06-.94 2.06-2.06.94z\"/><path d=\"M17.41 7.96l-1.37-1.37c-.4-.4-.92-.59-1.43-.59-.52 0-1.04.2-1.43.59L10.3 9.45l-7.72 7.72c-.78.78-.78 2.05 0 2.83L4 21.41c.39.39.9.59 1.41.59.51 0 1.02-.2 1.41-.59l7.78-7.78 2.81-2.81c.8-.78.8-2.07 0-2.86zM5.41 20L4 18.59l7.72-7.72 1.47 1.35L5.41 20z\"/>\n",
              "  </svg>\n",
              "      </button>\n",
              "      \n",
              "  <style>\n",
              "    .colab-df-container {\n",
              "      display:flex;\n",
              "      flex-wrap:wrap;\n",
              "      gap: 12px;\n",
              "    }\n",
              "\n",
              "    .colab-df-convert {\n",
              "      background-color: #E8F0FE;\n",
              "      border: none;\n",
              "      border-radius: 50%;\n",
              "      cursor: pointer;\n",
              "      display: none;\n",
              "      fill: #1967D2;\n",
              "      height: 32px;\n",
              "      padding: 0 0 0 0;\n",
              "      width: 32px;\n",
              "    }\n",
              "\n",
              "    .colab-df-convert:hover {\n",
              "      background-color: #E2EBFA;\n",
              "      box-shadow: 0px 1px 2px rgba(60, 64, 67, 0.3), 0px 1px 3px 1px rgba(60, 64, 67, 0.15);\n",
              "      fill: #174EA6;\n",
              "    }\n",
              "\n",
              "    [theme=dark] .colab-df-convert {\n",
              "      background-color: #3B4455;\n",
              "      fill: #D2E3FC;\n",
              "    }\n",
              "\n",
              "    [theme=dark] .colab-df-convert:hover {\n",
              "      background-color: #434B5C;\n",
              "      box-shadow: 0px 1px 3px 1px rgba(0, 0, 0, 0.15);\n",
              "      filter: drop-shadow(0px 1px 2px rgba(0, 0, 0, 0.3));\n",
              "      fill: #FFFFFF;\n",
              "    }\n",
              "  </style>\n",
              "\n",
              "      <script>\n",
              "        const buttonEl =\n",
              "          document.querySelector('#df-25cee38e-9676-461b-8ab2-4aa97bfed39a button.colab-df-convert');\n",
              "        buttonEl.style.display =\n",
              "          google.colab.kernel.accessAllowed ? 'block' : 'none';\n",
              "\n",
              "        async function convertToInteractive(key) {\n",
              "          const element = document.querySelector('#df-25cee38e-9676-461b-8ab2-4aa97bfed39a');\n",
              "          const dataTable =\n",
              "            await google.colab.kernel.invokeFunction('convertToInteractive',\n",
              "                                                     [key], {});\n",
              "          if (!dataTable) return;\n",
              "\n",
              "          const docLinkHtml = 'Like what you see? Visit the ' +\n",
              "            '<a target=\"_blank\" href=https://colab.research.google.com/notebooks/data_table.ipynb>data table notebook</a>'\n",
              "            + ' to learn more about interactive tables.';\n",
              "          element.innerHTML = '';\n",
              "          dataTable['output_type'] = 'display_data';\n",
              "          await google.colab.output.renderOutput(dataTable, element);\n",
              "          const docLink = document.createElement('div');\n",
              "          docLink.innerHTML = docLinkHtml;\n",
              "          element.appendChild(docLink);\n",
              "        }\n",
              "      </script>\n",
              "    </div>\n",
              "  </div>\n",
              "  "
            ]
          },
          "metadata": {},
          "execution_count": 128
        }
      ]
    },
    {
      "cell_type": "markdown",
      "source": [
        "#Preprocess"
      ],
      "metadata": {
        "id": "8XZjfBYyNqKv"
      }
    },
    {
      "cell_type": "code",
      "source": [
        "import nltk\n",
        "nltk.download('stopwords')"
      ],
      "metadata": {
        "colab": {
          "base_uri": "https://localhost:8080/"
        },
        "id": "BE_L0s5-c8Eo",
        "outputId": "96115c21-e21a-4e0e-e5b2-b9723d93564f"
      },
      "execution_count": 129,
      "outputs": [
        {
          "output_type": "stream",
          "name": "stderr",
          "text": [
            "[nltk_data] Downloading package stopwords to /root/nltk_data...\n",
            "[nltk_data]   Package stopwords is already up-to-date!\n"
          ]
        },
        {
          "output_type": "execute_result",
          "data": {
            "text/plain": [
              "True"
            ]
          },
          "metadata": {},
          "execution_count": 129
        }
      ]
    },
    {
      "cell_type": "code",
      "source": [
        "import nltk\n",
        "from nltk.corpus import stopwords\n",
        "import string\n",
        "\n",
        "stop = set(stopwords.words('english'))\n",
        "punctuation = list(string.punctuation)\n",
        "stop.update(punctuation)\n",
        "\n"
      ],
      "metadata": {
        "execution": {
          "iopub.status.busy": "2023-06-01T13:19:36.593828Z",
          "iopub.execute_input": "2023-06-01T13:19:36.594171Z",
          "iopub.status.idle": "2023-06-01T13:19:36.606971Z",
          "shell.execute_reply.started": "2023-06-01T13:19:36.594144Z",
          "shell.execute_reply": "2023-06-01T13:19:36.605652Z"
        },
        "trusted": true,
        "id": "6E32Rlc-NqKv"
      },
      "execution_count": 130,
      "outputs": []
    },
    {
      "cell_type": "markdown",
      "source": [
        "Cleaning\n"
      ],
      "metadata": {
        "id": "eO1yZ8K8NqKv"
      }
    },
    {
      "cell_type": "code",
      "source": [
        "import re\n",
        "from bs4 import BeautifulSoup\n",
        "import requests  # Import the requests library\n",
        "import nltk\n",
        "from nltk.corpus import stopwords\n",
        "\n",
        "nltk.download('stopwords')\n",
        "\n",
        "\n",
        "def strip_html(text):\n",
        "    if text.startswith('http://') or text.startswith('https://'):\n",
        "        response = requests.get(text)\n",
        "        soup = BeautifulSoup(response.content, 'html.parser')\n",
        "        return soup.get_text()\n",
        "    else:\n",
        "        soup = BeautifulSoup(text, 'html.parser')\n",
        "        return soup.get_text()\n",
        "\n",
        "#Removing the square brackets\n",
        "def remove_between_square_brackets(text):\n",
        "    return re.sub('\\[[^]]*\\]', '', text)\n",
        "# Removing URL's\n",
        "def remove_url(text):\n",
        "    return re.sub(r'http\\S+', '', text)\n",
        "\n",
        "def remove_stopwords(text):\n",
        "    final_text = []\n",
        "    for word in text.split():\n",
        "        if word.strip().lower() not in stop:\n",
        "            final_text.append(word.strip())\n",
        "    return \" \".join(final_text)\n",
        "\n",
        "def denoise_text(text):\n",
        "    text = strip_html(text)\n",
        "    text = remove_between_square_brackets(text)\n",
        "    text = remove_url(text)\n",
        "    text = remove_stopwords(text)\n",
        "    return text\n",
        "\n",
        "\n",
        "\n",
        "all_news['text'] = all_news['text'].apply(denoise_text)\n"
      ],
      "metadata": {
        "execution": {
          "iopub.status.busy": "2023-06-01T13:19:36.608815Z",
          "iopub.execute_input": "2023-06-01T13:19:36.609191Z",
          "iopub.status.idle": "2023-06-01T13:19:48.784738Z",
          "shell.execute_reply.started": "2023-06-01T13:19:36.609162Z",
          "shell.execute_reply": "2023-06-01T13:19:48.783682Z"
        },
        "trusted": true,
        "colab": {
          "base_uri": "https://localhost:8080/"
        },
        "id": "WYgUZ7O7NqKw",
        "outputId": "94319812-7b54-4d56-e0a8-d546e1a19d39"
      },
      "execution_count": 131,
      "outputs": [
        {
          "output_type": "stream",
          "name": "stderr",
          "text": [
            "[nltk_data] Downloading package stopwords to /root/nltk_data...\n",
            "[nltk_data]   Package stopwords is already up-to-date!\n",
            "<ipython-input-131-398120cadcb1>:16: MarkupResemblesLocatorWarning: The input looks more like a filename than markup. You may want to open this file and pass the filehandle into Beautiful Soup.\n",
            "  soup = BeautifulSoup(text, 'html.parser')\n"
          ]
        }
      ]
    },
    {
      "cell_type": "code",
      "source": [
        "all_news.head()"
      ],
      "metadata": {
        "execution": {
          "iopub.status.busy": "2023-06-01T13:19:48.786182Z",
          "iopub.execute_input": "2023-06-01T13:19:48.786527Z",
          "iopub.status.idle": "2023-06-01T13:19:48.796767Z",
          "shell.execute_reply.started": "2023-06-01T13:19:48.786497Z",
          "shell.execute_reply": "2023-06-01T13:19:48.795612Z"
        },
        "trusted": true,
        "colab": {
          "base_uri": "https://localhost:8080/",
          "height": 206
        },
        "id": "Iob8O3tmNqKw",
        "outputId": "7b7c8920-ab64-4054-8ae7-06c34965096a"
      },
      "execution_count": 132,
      "outputs": [
        {
          "output_type": "execute_result",
          "data": {
            "text/plain": [
              "                                                text  category\n",
              "0  U.S. budget fight looms, Republicans flip fisc...         1\n",
              "1  U.S. military accept transgender recruits Mond...         1\n",
              "2  Senior U.S. Republican senator: 'Let Mr. Muell...         1\n",
              "3  FBI Russia probe helped Australian diplomat ti...         1\n",
              "4  Trump wants Postal Service charge 'much more' ...         1"
            ],
            "text/html": [
              "\n",
              "  <div id=\"df-a991afce-da1f-4cbf-a2cc-b37d5643a179\">\n",
              "    <div class=\"colab-df-container\">\n",
              "      <div>\n",
              "<style scoped>\n",
              "    .dataframe tbody tr th:only-of-type {\n",
              "        vertical-align: middle;\n",
              "    }\n",
              "\n",
              "    .dataframe tbody tr th {\n",
              "        vertical-align: top;\n",
              "    }\n",
              "\n",
              "    .dataframe thead th {\n",
              "        text-align: right;\n",
              "    }\n",
              "</style>\n",
              "<table border=\"1\" class=\"dataframe\">\n",
              "  <thead>\n",
              "    <tr style=\"text-align: right;\">\n",
              "      <th></th>\n",
              "      <th>text</th>\n",
              "      <th>category</th>\n",
              "    </tr>\n",
              "  </thead>\n",
              "  <tbody>\n",
              "    <tr>\n",
              "      <th>0</th>\n",
              "      <td>U.S. budget fight looms, Republicans flip fisc...</td>\n",
              "      <td>1</td>\n",
              "    </tr>\n",
              "    <tr>\n",
              "      <th>1</th>\n",
              "      <td>U.S. military accept transgender recruits Mond...</td>\n",
              "      <td>1</td>\n",
              "    </tr>\n",
              "    <tr>\n",
              "      <th>2</th>\n",
              "      <td>Senior U.S. Republican senator: 'Let Mr. Muell...</td>\n",
              "      <td>1</td>\n",
              "    </tr>\n",
              "    <tr>\n",
              "      <th>3</th>\n",
              "      <td>FBI Russia probe helped Australian diplomat ti...</td>\n",
              "      <td>1</td>\n",
              "    </tr>\n",
              "    <tr>\n",
              "      <th>4</th>\n",
              "      <td>Trump wants Postal Service charge 'much more' ...</td>\n",
              "      <td>1</td>\n",
              "    </tr>\n",
              "  </tbody>\n",
              "</table>\n",
              "</div>\n",
              "      <button class=\"colab-df-convert\" onclick=\"convertToInteractive('df-a991afce-da1f-4cbf-a2cc-b37d5643a179')\"\n",
              "              title=\"Convert this dataframe to an interactive table.\"\n",
              "              style=\"display:none;\">\n",
              "        \n",
              "  <svg xmlns=\"http://www.w3.org/2000/svg\" height=\"24px\"viewBox=\"0 0 24 24\"\n",
              "       width=\"24px\">\n",
              "    <path d=\"M0 0h24v24H0V0z\" fill=\"none\"/>\n",
              "    <path d=\"M18.56 5.44l.94 2.06.94-2.06 2.06-.94-2.06-.94-.94-2.06-.94 2.06-2.06.94zm-11 1L8.5 8.5l.94-2.06 2.06-.94-2.06-.94L8.5 2.5l-.94 2.06-2.06.94zm10 10l.94 2.06.94-2.06 2.06-.94-2.06-.94-.94-2.06-.94 2.06-2.06.94z\"/><path d=\"M17.41 7.96l-1.37-1.37c-.4-.4-.92-.59-1.43-.59-.52 0-1.04.2-1.43.59L10.3 9.45l-7.72 7.72c-.78.78-.78 2.05 0 2.83L4 21.41c.39.39.9.59 1.41.59.51 0 1.02-.2 1.41-.59l7.78-7.78 2.81-2.81c.8-.78.8-2.07 0-2.86zM5.41 20L4 18.59l7.72-7.72 1.47 1.35L5.41 20z\"/>\n",
              "  </svg>\n",
              "      </button>\n",
              "      \n",
              "  <style>\n",
              "    .colab-df-container {\n",
              "      display:flex;\n",
              "      flex-wrap:wrap;\n",
              "      gap: 12px;\n",
              "    }\n",
              "\n",
              "    .colab-df-convert {\n",
              "      background-color: #E8F0FE;\n",
              "      border: none;\n",
              "      border-radius: 50%;\n",
              "      cursor: pointer;\n",
              "      display: none;\n",
              "      fill: #1967D2;\n",
              "      height: 32px;\n",
              "      padding: 0 0 0 0;\n",
              "      width: 32px;\n",
              "    }\n",
              "\n",
              "    .colab-df-convert:hover {\n",
              "      background-color: #E2EBFA;\n",
              "      box-shadow: 0px 1px 2px rgba(60, 64, 67, 0.3), 0px 1px 3px 1px rgba(60, 64, 67, 0.15);\n",
              "      fill: #174EA6;\n",
              "    }\n",
              "\n",
              "    [theme=dark] .colab-df-convert {\n",
              "      background-color: #3B4455;\n",
              "      fill: #D2E3FC;\n",
              "    }\n",
              "\n",
              "    [theme=dark] .colab-df-convert:hover {\n",
              "      background-color: #434B5C;\n",
              "      box-shadow: 0px 1px 3px 1px rgba(0, 0, 0, 0.15);\n",
              "      filter: drop-shadow(0px 1px 2px rgba(0, 0, 0, 0.3));\n",
              "      fill: #FFFFFF;\n",
              "    }\n",
              "  </style>\n",
              "\n",
              "      <script>\n",
              "        const buttonEl =\n",
              "          document.querySelector('#df-a991afce-da1f-4cbf-a2cc-b37d5643a179 button.colab-df-convert');\n",
              "        buttonEl.style.display =\n",
              "          google.colab.kernel.accessAllowed ? 'block' : 'none';\n",
              "\n",
              "        async function convertToInteractive(key) {\n",
              "          const element = document.querySelector('#df-a991afce-da1f-4cbf-a2cc-b37d5643a179');\n",
              "          const dataTable =\n",
              "            await google.colab.kernel.invokeFunction('convertToInteractive',\n",
              "                                                     [key], {});\n",
              "          if (!dataTable) return;\n",
              "\n",
              "          const docLinkHtml = 'Like what you see? Visit the ' +\n",
              "            '<a target=\"_blank\" href=https://colab.research.google.com/notebooks/data_table.ipynb>data table notebook</a>'\n",
              "            + ' to learn more about interactive tables.';\n",
              "          element.innerHTML = '';\n",
              "          dataTable['output_type'] = 'display_data';\n",
              "          await google.colab.output.renderOutput(dataTable, element);\n",
              "          const docLink = document.createElement('div');\n",
              "          docLink.innerHTML = docLinkHtml;\n",
              "          element.appendChild(docLink);\n",
              "        }\n",
              "      </script>\n",
              "    </div>\n",
              "  </div>\n",
              "  "
            ]
          },
          "metadata": {},
          "execution_count": 132
        }
      ]
    },
    {
      "cell_type": "markdown",
      "source": [
        "# Wordcloud"
      ],
      "metadata": {
        "id": "zlOnQRGWNqKw"
      }
    },
    {
      "cell_type": "markdown",
      "source": [
        "True class"
      ],
      "metadata": {
        "id": "0eKUc0cxNqKw"
      }
    },
    {
      "cell_type": "code",
      "source": [
        "from wordcloud import WordCloud, STOPWORDS \n",
        "\n",
        "import matplotlib.pyplot as plt\n",
        "\n",
        "# Filter the DataFrame to select only the texts belonging to the category \"1\"\n",
        "texts = all_news[all_news.category == 1].text\n",
        "\n",
        "# Create the WordCloud object with custom settings\n",
        "wc = WordCloud(\n",
        "    max_words=2000,\n",
        "    width=1600,\n",
        "    height=800,\n",
        "    stopwords=STOPWORDS,  \n",
        "    background_color='white',\n",
        "    colormap='viridis',\n",
        "    random_state=42\n",
        ").generate(\" \".join(texts))\n",
        "\n",
        "fig, ax = plt.subplots(figsize=(12, 8))\n",
        "\n",
        "ax.imshow(wc, interpolation='bilinear')\n",
        "ax.set_axis_off()\n",
        "\n",
        "ax.set_title(\"Word Cloud - Texts Belonging to Category 1\", fontsize=18, fontweight='bold')\n",
        "\n",
        "plt.tight_layout()\n",
        "\n",
        "plt.show()\n"
      ],
      "metadata": {
        "execution": {
          "iopub.status.busy": "2023-06-01T13:19:48.798400Z",
          "iopub.execute_input": "2023-06-01T13:19:48.799110Z",
          "iopub.status.idle": "2023-06-01T13:19:48.812527Z",
          "shell.execute_reply.started": "2023-06-01T13:19:48.799068Z",
          "shell.execute_reply": "2023-06-01T13:19:48.811287Z"
        },
        "trusted": true,
        "id": "gd-acueuNqKw"
      },
      "execution_count": null,
      "outputs": []
    },
    {
      "cell_type": "markdown",
      "source": [
        "Fake news"
      ],
      "metadata": {
        "id": "XY_REpLMYwoc"
      }
    },
    {
      "cell_type": "code",
      "source": [
        "\n",
        "texts = all_news[all_news.category == 0].text\n",
        "\n",
        "wc = WordCloud(\n",
        "    max_words=2000,\n",
        "    width=1600,\n",
        "    height=800,\n",
        "    stopwords=STOPWORDS,  \n",
        "    background_color='white',\n",
        "    colormap='viridis',\n",
        "    random_state=42\n",
        ").generate(\" \".join(texts))\n",
        "\n",
        "fig, ax = plt.subplots(figsize=(12, 8))\n",
        "\n",
        "ax.imshow(wc, interpolation='bilinear')\n",
        "ax.set_axis_off()\n",
        "\n",
        "ax.set_title(\"Word Cloud - Texts Belonging to Category 0\", fontsize=18, fontweight='bold')\n",
        "\n",
        "plt.tight_layout()\n",
        "\n",
        "plt.show()"
      ],
      "metadata": {
        "execution": {
          "iopub.status.busy": "2023-06-01T13:19:48.814117Z",
          "iopub.execute_input": "2023-06-01T13:19:48.814496Z",
          "iopub.status.idle": "2023-06-01T13:19:48.824174Z",
          "shell.execute_reply.started": "2023-06-01T13:19:48.814458Z",
          "shell.execute_reply": "2023-06-01T13:19:48.822973Z"
        },
        "trusted": true,
        "id": "gAa60myeNqKx"
      },
      "execution_count": null,
      "outputs": []
    },
    {
      "cell_type": "markdown",
      "source": [
        "distribution of average word lengths in two categories of text: \"Original text\" and \"Fake text\""
      ],
      "metadata": {
        "id": "wTHNdGbXNqKx"
      }
    },
    {
      "cell_type": "code",
      "source": [
        "import matplotlib.pyplot as plt\n",
        "import seaborn as sns\n",
        "import numpy as np\n",
        "\n",
        "fig, (ax1, ax2) = plt.subplots(1, 2, figsize=(20, 10))\n",
        "\n",
        "word_original = all_news[all_news['category'] == 1]['text'].str.split().apply(lambda x: np.mean([len(i) for i in x]))\n",
        "\n",
        "sns.distplot(word_original, ax=ax1, color='red')\n",
        "ax1.set_title('Original text')\n",
        "\n",
        "# Extract word lengths for \"Fake text\" category\n",
        "word_fake = all_news[all_news['category'] == 0]['text'].str.split().apply(lambda x: np.mean([len(i) for i in x]))\n",
        "\n",
        "sns.distplot(word_fake, ax=ax2, color='green')\n",
        "ax2.set_title('Fake text')\n",
        "\n",
        "fig.suptitle('Average word length in each text')\n",
        "\n",
        "plt.show()\n"
      ],
      "metadata": {
        "execution": {
          "iopub.status.busy": "2023-06-01T13:19:48.825337Z",
          "iopub.execute_input": "2023-06-01T13:19:48.826030Z",
          "iopub.status.idle": "2023-06-01T13:19:55.491500Z",
          "shell.execute_reply.started": "2023-06-01T13:19:48.825998Z",
          "shell.execute_reply": "2023-06-01T13:19:55.486803Z"
        },
        "trusted": true,
        "colab": {
          "base_uri": "https://localhost:8080/",
          "height": 1000
        },
        "id": "D37iKDTLNqKx",
        "outputId": "2364270b-77e0-4aa9-8c33-441e5d44e04b"
      },
      "execution_count": 135,
      "outputs": [
        {
          "output_type": "stream",
          "name": "stderr",
          "text": [
            "<ipython-input-135-751eed9b6f94>:12: UserWarning: \n",
            "\n",
            "`distplot` is a deprecated function and will be removed in seaborn v0.14.0.\n",
            "\n",
            "Please adapt your code to use either `displot` (a figure-level function with\n",
            "similar flexibility) or `histplot` (an axes-level function for histograms).\n",
            "\n",
            "For a guide to updating your code to use the new functions, please see\n",
            "https://gist.github.com/mwaskom/de44147ed2974457ad6372750bbe5751\n",
            "\n",
            "  sns.distplot(word_original, ax=ax1, color='red')\n",
            "<ipython-input-135-751eed9b6f94>:19: UserWarning: \n",
            "\n",
            "`distplot` is a deprecated function and will be removed in seaborn v0.14.0.\n",
            "\n",
            "Please adapt your code to use either `displot` (a figure-level function with\n",
            "similar flexibility) or `histplot` (an axes-level function for histograms).\n",
            "\n",
            "For a guide to updating your code to use the new functions, please see\n",
            "https://gist.github.com/mwaskom/de44147ed2974457ad6372750bbe5751\n",
            "\n",
            "  sns.distplot(word_fake, ax=ax2, color='green')\n"
          ]
        },
        {
          "output_type": "display_data",
          "data": {
            "text/plain": [
              "<Figure size 2000x1000 with 2 Axes>"
            ],
            "image/png": "[encoded data removed]"
          },
          "metadata": {}
        }
      ]
    },
    {
      "cell_type": "code",
      "source": [
        "max_len_original = np.max(word_original)\n",
        "min_len_original = np.min(word_original)\n",
        "\n",
        "max_len_fake = np.max(word_fake)\n",
        "min_len_fake = np.min(word_fake)\n",
        "\n",
        "print(\"Original text - Maximum word length:\", max_len_original)\n",
        "print(\"Original text - Minimum word length:\", min_len_original)\n",
        "\n",
        "print(\"Fake text - Maximum word length:\", max_len_fake)\n",
        "print(\"Fake text - Minimum word length:\", min_len_fake)\n"
      ],
      "metadata": {
        "execution": {
          "iopub.status.busy": "2023-06-01T13:19:55.493112Z",
          "iopub.execute_input": "2023-06-01T13:19:55.493604Z",
          "iopub.status.idle": "2023-06-01T13:19:55.504486Z",
          "shell.execute_reply.started": "2023-06-01T13:19:55.493561Z",
          "shell.execute_reply": "2023-06-01T13:19:55.502970Z"
        },
        "trusted": true,
        "colab": {
          "base_uri": "https://localhost:8080/"
        },
        "id": "dAFabIyJNqKx",
        "outputId": "5ecc5016-04c9-4fa3-d916-05d2b299f5d4"
      },
      "execution_count": 136,
      "outputs": [
        {
          "output_type": "stream",
          "name": "stdout",
          "text": [
            "Original text - Maximum word length: 9.192307692307692\n",
            "Original text - Minimum word length: 4.696153846153846\n",
            "Fake text - Maximum word length: 25.153846153846153\n",
            "Fake text - Minimum word length: 4.22737819025522\n"
          ]
        }
      ]
    },
    {
      "cell_type": "markdown",
      "source": [
        "# Creating Corpus"
      ],
      "metadata": {
        "id": "X4PAIDVHNqKy"
      }
    },
    {
      "cell_type": "code",
      "source": [
        "from collections import Counter\n",
        "\n",
        "corpus = all_news['text'].str.split().explode().tolist()\n",
        "import re\n",
        "\n",
        "pattern = r\"[-]\"\n",
        "\n",
        "# Remove the hyphens from the corpus using regular expressions and filter out empty strings\n",
        "corpus = [re.sub(pattern, \"\", word) for word in corpus if word.strip()]\n",
        "\n",
        "\n",
        "word_counts = Counter(corpus)\n",
        "\n",
        "print(\"First 10 words:\")\n",
        "print(corpus[:10])\n",
        "\n",
        "most_common_words = word_counts.most_common(10)\n",
        "print(\"\\n10 most frequent words with their frequencies:\")\n",
        "for word, frequency in most_common_words:\n",
        "    print(f\"{word}: {frequency}\")\n",
        "\n",
        "least_common_words = word_counts.most_common()[-10:]\n",
        "print(\"\\n10 least frequent words with their frequencies:\")\n",
        "for word, frequency in least_common_words:\n",
        "    print(f\"{word}: {frequency}\")"
      ],
      "metadata": {
        "execution": {
          "iopub.status.busy": "2023-06-01T13:19:55.506787Z",
          "iopub.execute_input": "2023-06-01T13:19:55.507790Z",
          "iopub.status.idle": "2023-06-01T13:20:14.503391Z",
          "shell.execute_reply.started": "2023-06-01T13:19:55.507745Z",
          "shell.execute_reply": "2023-06-01T13:20:14.502120Z"
        },
        "trusted": true,
        "colab": {
          "base_uri": "https://localhost:8080/"
        },
        "id": "309IiLSDNqKy",
        "outputId": "bd9b2ebe-06ea-4e91-9f7d-a0ae96a2d61f"
      },
      "execution_count": 137,
      "outputs": [
        {
          "output_type": "stream",
          "name": "stdout",
          "text": [
            "First 10 words:\n",
            "['U.S.', 'budget', 'fight', 'looms,', 'Republicans', 'flip', 'fiscal', 'scriptWASHINGTON', '(Reuters)', 'head']\n",
            "\n",
            "10 most frequent words with their frequencies:\n",
            "Trump: 110279\n",
            "said: 92292\n",
            "would: 54252\n",
            "U.S.: 49883\n",
            "people: 32958\n",
            "President: 32746\n",
            "also: 30125\n",
            "one: 29248\n",
            "Donald: 26613\n",
            "said.: 25930\n",
            "\n",
            "10 least frequent words with their frequencies:\n",
            "grandmother.Last: 1\n",
            "KEEP:: 1\n",
            "Emanuel.Currently: 1\n",
            "(regardless,: 1\n",
            "scary).: 1\n",
            "DUAL: 1\n",
            "LOYALTIES:: 1\n",
            "Mondoweiss,: 1\n",
            "IDF.: 1\n",
            "overdrive.READ: 1\n"
          ]
        }
      ]
    },
    {
      "cell_type": "markdown",
      "source": [
        "# Bigrams,Trigrams,Fourgrams"
      ],
      "metadata": {
        "id": "-vAdVjzTNqKy"
      }
    },
    {
      "cell_type": "code",
      "source": [
        "import matplotlib.pyplot as plt\n",
        "from collections import Counter\n",
        "\n",
        "def get_top_text_ngrams(corpus, n, g):\n",
        "    all_ngrams = []\n",
        "    for text in corpus:\n",
        "        words = text.split()\n",
        "        for i in range(len(words) - g + 1):\n",
        "            ngram = \" \".join(words[i:i+g])\n",
        "            all_ngrams.append(ngram)\n",
        "    \n",
        "    ngram_counts = Counter(all_ngrams)\n",
        "    top_ngrams = ngram_counts.most_common(n)\n",
        "    \n",
        "    return top_ngrams\n",
        "\n",
        "plt.figure(figsize=(16, 9))\n",
        "\n",
        "# Top 10 Bigrams\n",
        "most_common_bi = get_top_text_ngrams(all_news.text, 10, 2)\n",
        "most_common_bi = dict(most_common_bi)\n",
        "\n",
        "labels = list(most_common_bi.keys())\n",
        "values = list(most_common_bi.values())\n",
        "\n",
        "plt.subplot(1, 3, 1)\n",
        "plt.barh(range(len(labels)), values)\n",
        "plt.yticks(range(len(labels)), labels)\n",
        "plt.xlabel('Frequency')\n",
        "plt.ylabel('Bigram')\n",
        "plt.title('Top 10 Bigrams')\n",
        "\n",
        "# Top 10 Trigrams\n",
        "most_common_tri = get_top_text_ngrams(all_news.text, 10, 3)\n",
        "most_common_tri = dict(most_common_tri)\n",
        "\n",
        "labels_tri = list(most_common_tri.keys())\n",
        "values_tri = list(most_common_tri.values())\n",
        "\n",
        "plt.figure(figsize=(16, 9))\n",
        "plt.subplot(1, 3, 2)\n",
        "plt.barh(range(len(labels_tri)), values_tri)\n",
        "plt.yticks(range(len(labels_tri)), labels_tri)\n",
        "plt.xlabel('Frequency')\n",
        "plt.ylabel('Trigram')\n",
        "plt.title('Top 10 Trigrams')\n",
        "\n",
        "# Top 10 Fourgrams\n",
        "most_common_four = get_top_text_ngrams(all_news.text, 10, 4)\n",
        "most_common_four = dict(most_common_four)\n",
        "\n",
        "labels_four = list(most_common_four.keys())\n",
        "values_four = list(most_common_four.values())\n",
        "\n",
        "plt.figure(figsize=(16, 9))\n",
        "plt.subplot(1, 3, 3)\n",
        "plt.barh(range(len(labels_four)), values_four)\n",
        "plt.yticks(range(len(labels_four)), labels_four)\n",
        "plt.xlabel('Frequency')\n",
        "plt.ylabel('Fourgram')\n",
        "plt.title('Top 10 Fourgrams')\n",
        "\n",
        "plt.tight_layout()\n",
        "plt.show()\n"
      ],
      "metadata": {
        "execution": {
          "iopub.status.busy": "2023-06-01T13:20:14.505927Z",
          "iopub.execute_input": "2023-06-01T13:20:14.506417Z",
          "iopub.status.idle": "2023-06-01T13:20:14.517798Z",
          "shell.execute_reply.started": "2023-06-01T13:20:14.506378Z",
          "shell.execute_reply": "2023-06-01T13:20:14.516595Z"
        },
        "trusted": true,
        "id": "GbZXa51eNqKy"
      },
      "execution_count": null,
      "outputs": []
    },
    {
      "cell_type": "markdown",
      "source": [
        "# Train-Val-Test Split"
      ],
      "metadata": {
        "id": "aucM96oENqKz"
      }
    },
    {
      "cell_type": "code",
      "source": [
        "from sklearn.model_selection import train_test_split\n",
        "x_train, x_test, y_train, y_test = train_test_split(all_news.text, all_news.category, test_size=0.2, random_state=42)\n",
        "x_train, x_val, y_train, y_val = train_test_split(x_train, y_train, test_size=0.2, random_state=42)\n",
        "\n"
      ],
      "metadata": {
        "execution": {
          "iopub.status.busy": "2023-06-01T13:20:44.990662Z",
          "iopub.execute_input": "2023-06-01T13:20:44.991210Z",
          "iopub.status.idle": "2023-06-01T13:20:45.022593Z",
          "shell.execute_reply.started": "2023-06-01T13:20:44.991167Z",
          "shell.execute_reply": "2023-06-01T13:20:45.021525Z"
        },
        "trusted": true,
        "id": "DrWX0pmzNqKz"
      },
      "execution_count": 139,
      "outputs": []
    },
    {
      "cell_type": "code",
      "source": [
        "x_train"
      ],
      "metadata": {
        "execution": {
          "iopub.status.busy": "2023-06-01T13:20:47.491921Z",
          "iopub.execute_input": "2023-06-01T13:20:47.492291Z",
          "iopub.status.idle": "2023-06-01T13:20:47.505452Z",
          "shell.execute_reply.started": "2023-06-01T13:20:47.492264Z",
          "shell.execute_reply": "2023-06-01T13:20:47.504416Z"
        },
        "trusted": true,
        "colab": {
          "base_uri": "https://localhost:8080/"
        },
        "id": "4iINiwk6NqLA",
        "outputId": "4bb1a4e3-0e2b-4c91-ee94-7342ae726120"
      },
      "execution_count": 140,
      "outputs": [
        {
          "output_type": "execute_result",
          "data": {
            "text/plain": [
              "12516    BLACK AMERICAN Became Republican: “If You’re V...\n",
              "3747     State Department reminds staff ethics posts Tr...\n",
              "9944     DC Park Police Raid Tear ‘Anti-Trump’ Camp Occ...\n",
              "15779    Iraqi forces retake border crossing Syria Isla...\n",
              "7228     Trust Fund Frat Bro Explodes Uber Driver Foul-...\n",
              "                               ...                        \n",
              "22040    Trump Thanks Putin Slashing US Embassy Staff: ...\n",
              "8228     Biden asks U.S. Congress allow unencumbered Zi...\n",
              "9196     SENATOR REVEALS Shocking FBI Corruption “Water...\n",
              "14467    Hariri says clarify position Lebanese crisis r...\n",
              "17218    “EVERYDAY AMERICAN”? U.S. TAXPAYERS PICK HUGE ...\n",
              "Name: text, Length: 28600, dtype: object"
            ]
          },
          "metadata": {},
          "execution_count": 140
        }
      ]
    },
    {
      "cell_type": "code",
      "source": [
        "x_val"
      ],
      "metadata": {
        "execution": {
          "iopub.status.busy": "2023-06-01T13:20:54.611107Z",
          "iopub.execute_input": "2023-06-01T13:20:54.611509Z",
          "iopub.status.idle": "2023-06-01T13:20:54.620646Z",
          "shell.execute_reply.started": "2023-06-01T13:20:54.611478Z",
          "shell.execute_reply": "2023-06-01T13:20:54.619367Z"
        },
        "trusted": true,
        "colab": {
          "base_uri": "https://localhost:8080/"
        },
        "id": "5tJJSlwdNqLB",
        "outputId": "db461715-831c-44b6-8b88-cdc2c65381ad"
      },
      "execution_count": 141,
      "outputs": [
        {
          "output_type": "execute_result",
          "data": {
            "text/plain": [
              "20070    OFFENDING GLOBALISTS: Teen Kicked UN Building ...\n",
              "19020    Trump says Puerto Rico trouble hurricane, debt...\n",
              "7451     Report: Obama Says It’s Bernie, Time Unite Beh...\n",
              "17411    LOW FLUSH TOILETS, DELTA SMELT, PAYOFFS, NEIGH...\n",
              "19762    “I’m Her” REALLY Means Hillary Supporters ---*...\n",
              "                               ...                        \n",
              "11508    South Sudan rebels say army attacked signing c...\n",
              "548      Trump meet congressional leaders next week leg...\n",
              "4998     Obama lawyers move fast join fight Trump---WAS...\n",
              "20960    EU executive raise pressure Poland Wednesday: ...\n",
              "14208    NATIONAL ENQUIRER ENDORSED TRUMP…Then Dropped ...\n",
              "Name: text, Length: 7151, dtype: object"
            ]
          },
          "metadata": {},
          "execution_count": 141
        }
      ]
    },
    {
      "cell_type": "code",
      "source": [
        "x_test"
      ],
      "metadata": {
        "execution": {
          "iopub.status.busy": "2023-06-01T13:20:49.819337Z",
          "iopub.execute_input": "2023-06-01T13:20:49.819706Z",
          "iopub.status.idle": "2023-06-01T13:20:49.831405Z",
          "shell.execute_reply.started": "2023-06-01T13:20:49.819679Z",
          "shell.execute_reply": "2023-06-01T13:20:49.829599Z"
        },
        "trusted": true,
        "colab": {
          "base_uri": "https://localhost:8080/"
        },
        "id": "x9ok9A1rNqLB",
        "outputId": "b1090f16-ec67-4471-aa4a-6ee396b9bef1"
      },
      "execution_count": 142,
      "outputs": [
        {
          "output_type": "execute_result",
          "data": {
            "text/plain": [
              "18085    Merkel, Juncker discuss Catalan crisis: EU off...\n",
              "18274    LIBERAL HACK KATIE COURIC Says Fake News “Tear...\n",
              "15065    TRUMP RIGHT! Audit Reveals State Dept. Cyberse...\n",
              "550      Clay Aiken Says ‘F*****g Dumbass’ Thinking Tru...\n",
              "7599     U.S. militia girds trouble presidential electi...\n",
              "                               ...                        \n",
              "16475    U.S. lost trust South Sudan, Trump envoy tells...\n",
              "6694     Ted Cruz Doesn’t Want Transgender People Pee U...\n",
              "13802    Turkey says U.S. wants use gold trader case im...\n",
              "11926    OBAMA PUNISHING Fiat-Chrysler 2,000 US Jobs, $...\n",
              "9325     IN: Anchor #MattLauer Fired Decades NBC ---NBC...\n",
              "Name: text, Length: 8938, dtype: object"
            ]
          },
          "metadata": {},
          "execution_count": 142
        }
      ]
    },
    {
      "cell_type": "code",
      "source": [
        "print(\"Train set shape:\", x_train.shape)\n",
        "print(\"Validation set shape:\", x_val.shape)\n",
        "print(\"Test set shape:\", x_test.shape)\n"
      ],
      "metadata": {
        "execution": {
          "iopub.status.busy": "2023-06-01T13:21:49.784973Z",
          "iopub.execute_input": "2023-06-01T13:21:49.785358Z",
          "iopub.status.idle": "2023-06-01T13:21:49.791647Z",
          "shell.execute_reply.started": "2023-06-01T13:21:49.785330Z",
          "shell.execute_reply": "2023-06-01T13:21:49.790265Z"
        },
        "trusted": true,
        "colab": {
          "base_uri": "https://localhost:8080/"
        },
        "id": "e4mx2DRmNqLB",
        "outputId": "4b2620c7-1ebe-49de-fc04-e89923caab66"
      },
      "execution_count": 143,
      "outputs": [
        {
          "output_type": "stream",
          "name": "stdout",
          "text": [
            "Train set shape: (28600,)\n",
            "Validation set shape: (7151,)\n",
            "Test set shape: (8938,)\n"
          ]
        }
      ]
    },
    {
      "cell_type": "code",
      "source": [
        "from tensorflow.keras.preprocessing.text import Tokenizer\n",
        "from tensorflow.keras.preprocessing.sequence import pad_sequences\n",
        "import matplotlib.pyplot as plt\n",
        "\n",
        "tokenizer = Tokenizer(num_words=None)\n",
        "tokenizer.fit_on_texts(x_train)\n",
        "tokenized_train = tokenizer.texts_to_sequences(x_train)\n",
        "\n",
        "num_unique_tokens = len(tokenizer.word_index)\n",
        "print(f\"Number of unique tokens: {num_unique_tokens}\")\n",
        "\n",
        "\n",
        "sequence_lengths = [len(seq) for seq in tokenized_train]\n",
        "\n",
        "plt.figure(figsize=(10,6)) \n",
        "plt.hist(sequence_lengths, bins=100, range=(0,1000)) \n",
        "plt.xlabel('Sequence Length')\n",
        "plt.ylabel('Frequency')\n",
        "plt.title('Histogram of Sequence Lengths')\n",
        "\n",
        "plt.xlim(0, 1000)\n",
        "\n",
        "\n",
        "start, end = plt.xlim()\n",
        "plt.xticks(np.arange(start, end, step=50)) \n",
        "\n",
        "plt.show()\n",
        "\n",
        "\n",
        "# Based on the histogram, I choosed a maxlen value that covers most of the samples.\n"
      ],
      "metadata": {
        "execution": {
          "iopub.status.busy": "2023-06-01T13:11:22.379609Z",
          "iopub.execute_input": "2023-06-01T13:11:22.380051Z",
          "iopub.status.idle": "2023-06-01T13:11:55.306996Z",
          "shell.execute_reply.started": "2023-06-01T13:11:22.380016Z",
          "shell.execute_reply": "2023-06-01T13:11:55.305473Z"
        },
        "trusted": true,
        "colab": {
          "base_uri": "https://localhost:8080/",
          "height": 596
        },
        "id": "fIPF7I3dNqLC",
        "outputId": "dea57163-56c8-477e-b168-a5488a11308b"
      },
      "execution_count": 144,
      "outputs": [
        {
          "output_type": "stream",
          "name": "stdout",
          "text": [
            "Number of unique tokens: 116982\n"
          ]
        },
        {
          "output_type": "display_data",
          "data": {
            "text/plain": [
              "<Figure size 1000x600 with 1 Axes>"
            ],
            "image/png": "[encoded data removed]"
          },
          "metadata": {}
        }
      ]
    },
    {
      "cell_type": "code",
      "source": [
        "maxlen = 200"
      ],
      "metadata": {
        "execution": {
          "iopub.status.busy": "2023-06-01T13:11:55.308981Z",
          "iopub.execute_input": "2023-06-01T13:11:55.309938Z",
          "iopub.status.idle": "2023-06-01T13:11:55.315445Z",
          "shell.execute_reply.started": "2023-06-01T13:11:55.309866Z",
          "shell.execute_reply": "2023-06-01T13:11:55.314143Z"
        },
        "trusted": true,
        "id": "m6FhDTCfNqLC"
      },
      "execution_count": 145,
      "outputs": []
    },
    {
      "cell_type": "markdown",
      "source": [
        "Selecting max_features is a bit more nuanced. In general, the max_features parameter in the tokenizer refers to the maximum number of words to keep, based on the frequency of words. Only the most common max_features words will be kept."
      ],
      "metadata": {
        "id": "3U2_ChL4NqLC"
      }
    },
    {
      "cell_type": "code",
      "source": [
        "num_unique_tokens = len(tokenizer.word_index)\n",
        "print(f\"Number of unique tokens: {num_unique_tokens}\")\n"
      ],
      "metadata": {
        "execution": {
          "iopub.status.busy": "2023-06-01T13:11:55.317479Z",
          "iopub.execute_input": "2023-06-01T13:11:55.317842Z",
          "iopub.status.idle": "2023-06-01T13:11:55.327369Z",
          "shell.execute_reply.started": "2023-06-01T13:11:55.317813Z",
          "shell.execute_reply": "2023-06-01T13:11:55.326164Z"
        },
        "trusted": true,
        "colab": {
          "base_uri": "https://localhost:8080/"
        },
        "id": "yHeAD_8fNqLC",
        "outputId": "7d29e957-f325-48a2-ce64-c6a5d6554ab3"
      },
      "execution_count": 146,
      "outputs": [
        {
          "output_type": "stream",
          "name": "stdout",
          "text": [
            "Number of unique tokens: 116982\n"
          ]
        }
      ]
    },
    {
      "cell_type": "markdown",
      "source": [
        " set max_features equal to num_unique_tokens, it means using all the words in your corpus to train your model.\n",
        " However, not all words are equally important. Some words might appear only a few times, and they might not contribute much to understanding the general sentiment of a text \n",
        " \n",
        " "
      ],
      "metadata": {
        "id": "j6YFpZitNqLD"
      }
    },
    {
      "cell_type": "markdown",
      "source": [
        "**For selecting max features**"
      ],
      "metadata": {
        "id": "uhILI1ChZi_C"
      }
    },
    {
      "cell_type": "code",
      "source": [
        "from tensorflow.keras.models import Sequential\n",
        "from tensorflow.keras.layers import Embedding, LSTM, Dense\n",
        "from tensorflow.keras.preprocessing.text import Tokenizer\n",
        "from tensorflow.keras.preprocessing.sequence import pad_sequences\n",
        "\n",
        "\n",
        "def create_model():\n",
        "    model = Sequential()\n",
        "    model.add(Embedding(max_features, 128))\n",
        "    model.add(LSTM(128, dropout=0.2, recurrent_dropout=0.2))\n",
        "    model.add(Dense(1, activation='sigmoid'))\n",
        "    model.compile(loss='binary_crossentropy', optimizer='adam', metrics=['accuracy'])\n",
        "    return model\n",
        "\n",
        "\n",
        "max_features_options = [15000, 20000,25000]\n",
        "\n",
        "for max_features in max_features_options:\n",
        "    tokenizer = Tokenizer(num_words=max_features)\n",
        "    tokenizer.fit_on_texts(x_train)\n",
        "    tokenized_train = tokenizer.texts_to_sequences(x_train)\n",
        "    X_train = pad_sequences(tokenized_train, maxlen=maxlen)\n",
        "    tokenized_test = tokenizer.texts_to_sequences(x_test)\n",
        "    X_test = pad_sequences(tokenized_test, maxlen=maxlen)\n",
        "\n",
        "    # Model creation\n",
        "    model = create_model()\n",
        "\n",
        "    # Model training\n",
        "    model.fit(X_train, y_train, batch_size=32, epochs=5, validation_data=(X_test, y_test))\n",
        "\n",
        "    # Model evaluation\n",
        "    score, acc = model.evaluate(X_test, y_test, batch_size=32)\n",
        "    print(f'Test score for max_features={max_features}: {score}')\n",
        "    print(f'Test accuracy for max_features={max_features}: {acc}')\n"
      ],
      "metadata": {
        "execution": {
          "iopub.status.busy": "2023-06-01T13:11:55.328623Z",
          "iopub.execute_input": "2023-06-01T13:11:55.329017Z",
          "iopub.status.idle": "2023-06-01T13:11:55.341834Z",
          "shell.execute_reply.started": "2023-06-01T13:11:55.328982Z",
          "shell.execute_reply": "2023-06-01T13:11:55.340725Z"
        },
        "trusted": true,
        "colab": {
          "base_uri": "https://localhost:8080/",
          "height": 110
        },
        "id": "hSsF8b_sNqLD",
        "outputId": "65a3580b-1616-4c02-f53d-3045dca9465a"
      },
      "execution_count": 147,
      "outputs": [
        {
          "output_type": "execute_result",
          "data": {
            "text/plain": [
              "\"from tensorflow.keras.models import Sequential\\nfrom tensorflow.keras.layers import Embedding, LSTM, Dense\\nfrom tensorflow.keras.preprocessing.text import Tokenizer\\nfrom tensorflow.keras.preprocessing.sequence import pad_sequences\\n\\n# Define your model architecture (This should be your model)\\ndef create_model():\\n    model = Sequential()\\n    model.add(Embedding(max_features, 128))\\n    model.add(LSTM(128, dropout=0.2, recurrent_dropout=0.2))\\n    model.add(Dense(1, activation='sigmoid'))\\n    model.compile(loss='binary_crossentropy', optimizer='adam', metrics=['accuracy'])\\n    return model\\n\\n# Define a list of max_features to try\\nmax_features_options = [15000, 20000,25000]\\n\\n# Loop over max_features_options\\nfor max_features in max_features_options:\\n    # Tokenization and sequence padding\\n    tokenizer = Tokenizer(num_words=max_features)\\n    tokenizer.fit_on_texts(x_train)\\n    tokenized_train = tokenizer.texts_to_sequences(x_train)\\n    X_train = pad_sequences(tokenized_train, maxlen=maxlen)\\n    tokenized_test = tokenizer.texts_to_sequences(x_test)\\n    X_test = pad_sequences(tokenized_test, maxlen=maxlen)\\n\\n    # Model creation\\n    model = create_model()\\n\\n    # Model training\\n    model.fit(X_train, y_train, batch_size=32, epochs=5, validation_data=(X_test, y_test))\\n\\n    # Model evaluation\\n    score, acc = model.evaluate(X_test, y_test, batch_size=32)\\n    print(f'Test score for max_features={max_features}: {score}')\\n    print(f'Test accuracy for max_features={max_features}: {acc}')\\n\""
            ],
            "application/vnd.google.colaboratory.intrinsic+json": {
              "type": "string"
            }
          },
          "metadata": {},
          "execution_count": 147
        }
      ]
    },
    {
      "cell_type": "code",
      "source": [
        "max_features = 25000"
      ],
      "metadata": {
        "execution": {
          "iopub.status.busy": "2023-06-01T13:11:55.343147Z",
          "iopub.execute_input": "2023-06-01T13:11:55.343454Z",
          "iopub.status.idle": "2023-06-01T13:11:55.356211Z",
          "shell.execute_reply.started": "2023-06-01T13:11:55.343430Z",
          "shell.execute_reply": "2023-06-01T13:11:55.355294Z"
        },
        "trusted": true,
        "id": "QM8C0pULNqLD"
      },
      "execution_count": 148,
      "outputs": []
    },
    {
      "cell_type": "markdown",
      "source": [
        "# Tokenizing"
      ],
      "metadata": {
        "id": "iHcH8xy_NqLD"
      }
    },
    {
      "cell_type": "code",
      "source": [
        "from tensorflow.keras.preprocessing.sequence import pad_sequences"
      ],
      "metadata": {
        "execution": {
          "iopub.status.busy": "2023-06-01T13:25:25.588296Z",
          "iopub.execute_input": "2023-06-01T13:25:25.588714Z",
          "iopub.status.idle": "2023-06-01T13:25:25.594591Z",
          "shell.execute_reply.started": "2023-06-01T13:25:25.588686Z",
          "shell.execute_reply": "2023-06-01T13:25:25.593197Z"
        },
        "trusted": true,
        "id": "93bDwB6BNqLD"
      },
      "execution_count": 149,
      "outputs": []
    },
    {
      "cell_type": "code",
      "source": [
        "# Tokenize and pad the training data\n",
        "x_train_tokenized = tokenizer.texts_to_sequences(x_train)\n",
        "x_train_padded = pad_sequences(x_train_tokenized, maxlen=maxlen)\n",
        "x_train_padded = np.clip(x_train_padded, 0, max_features - 1)\n",
        "\n",
        "# Tokenize and pad the validation data\n",
        "x_val_tokenized = tokenizer.texts_to_sequences(x_val)\n",
        "x_val_padded = pad_sequences(x_val_tokenized, maxlen=maxlen)\n",
        "x_val_padded = np.clip(x_val_padded, 0, max_features - 1)\n",
        "# Tokenize and pad the test data\n",
        "x_test_tokenized = tokenizer.texts_to_sequences(x_test)\n",
        "x_test_padded = pad_sequences(x_test_tokenized, maxlen=maxlen)\n",
        "x_test_padded = np.clip(x_test_padded, 0, max_features - 1)"
      ],
      "metadata": {
        "execution": {
          "iopub.status.busy": "2023-06-01T13:26:23.593287Z",
          "iopub.execute_input": "2023-06-01T13:26:23.593769Z",
          "iopub.status.idle": "2023-06-01T13:26:37.448121Z",
          "shell.execute_reply.started": "2023-06-01T13:26:23.593728Z",
          "shell.execute_reply": "2023-06-01T13:26:37.447014Z"
        },
        "trusted": true,
        "id": "De2V2mMoNqLD"
      },
      "execution_count": 150,
      "outputs": []
    },
    {
      "cell_type": "markdown",
      "source": [
        "# Glove\n",
        "GloVe (Global Vectors for Word Representation) is an unsupervised learning algorithm for obtaining vector representations of words. It is a popular word embedding technique that captures semantic relationships between words by training on large-scale textual data. The GloVe algorithm combines the advantages of global matrix factorization and local context window methods to create word embeddings that represent the meaning and relationships of words in a vector space.\n",
        "\n",
        "The key idea behind GloVe is to create a word-word co-occurrence matrix based on the statistics of word co-occurrences within a given corpus. The matrix represents the frequency of word pairs occurring together in a specific context window. GloVe then factorizes this co-occurrence matrix to obtain word embeddings that capture the statistical relationships between words.\n",
        "\n",
        "During training, the GloVe algorithm iteratively updates the word vectors to minimize a loss function that measures the discrepancy between the dot products of word vectors and the logarithm of their co-occurrence probabilities. This optimization process results in word vectors that encode both global semantic information and local contextual information.\n",
        "\n",
        "The trained GloVe word vectors can be used in various natural language processing tasks, such as text classification, sentiment analysis, machine translation, and information retrieval. By leveraging the semantic relationships captured in the vector space, GloVe embeddings can help improve the performance of these tasks by enabling models to understand and generalize word meanings based on their contextual usage.\n",
        "\n",
        "GloVe embeddings are typically pre-trained on large text corpora, such as Wikipedia or Common Crawl, and are available in different dimensions (e.g., 50, 100, 200, 300). Researchers and practitioners can use pre-trained GloVe embeddings or fine-tune them on their specific tasks to leverage the semantic knowledge encoded in these word vectors."
      ],
      "metadata": {
        "id": "-pvBBu0INqLE"
      }
    },
    {
      "cell_type": "markdown",
      "source": [
        "The choice of which GloVe embedding file to use depends on the specific requirements of your task and the trade-off between embedding dimensionality and computational resources. Here's an overview of the different GloVe embedding files you have:"
      ],
      "metadata": {
        "id": "1YJteHUzNqLE"
      }
    },
    {
      "cell_type": "markdown",
      "source": [
        "glove.twitter.27B.25d.txt: This file contains GloVe embeddings with a dimensionality of 25. Embeddings with lower dimensions are computationally less expensive and have fewer parameters, but they may capture less semantic information and may not perform as well on tasks that require fine-grained representation.\n",
        "\n",
        "glove.twitter.27B.50d.txt: This file contains GloVe embeddings with a dimensionality of 50. This dimensionality strikes a balance between capturing more semantic information than lower dimensions while still being relatively lightweight compared to higher dimensions.\n",
        "\n",
        "glove.twitter.27B.100d.txt: This file contains GloVe embeddings with a dimensionality of 100. Embeddings with 100 dimensions are commonly used and provide a good balance between capturing semantic information and computational efficiency.\n",
        "\n",
        "glove.twitter.27B.200d.txt: This file contains GloVe embeddings with a dimensionality of 200. Higher-dimensional embeddings have the potential to capture more fine-grained semantic information but come at the cost of increased computational requirements."
      ],
      "metadata": {
        "id": "wVjD-mHlNqLE"
      }
    },
    {
      "cell_type": "markdown",
      "source": [
        "I am choosing the 50d because strikes a balance between capturing more semantic information than lower dimensions while still being relatively lightweight compared to higher dimensions."
      ],
      "metadata": {
        "id": "QinvDNTbNqLE"
      }
    },
    {
      "cell_type": "code",
      "source": [
        "glove_emb_file = '/content/glove.twitter.27B.50d.txt'\n"
      ],
      "metadata": {
        "execution": {
          "iopub.status.busy": "2023-06-01T13:26:46.502043Z",
          "iopub.execute_input": "2023-06-01T13:26:46.502434Z",
          "iopub.status.idle": "2023-06-01T13:26:46.511597Z",
          "shell.execute_reply.started": "2023-06-01T13:26:46.502406Z",
          "shell.execute_reply": "2023-06-01T13:26:46.509996Z"
        },
        "trusted": true,
        "id": "3854Yhn8NqLE"
      },
      "execution_count": 151,
      "outputs": []
    },
    {
      "cell_type": "markdown",
      "source": [
        "This code follows a similar approach as the original code, but with a few modifications:\n",
        "\n",
        "The get_coefs function is updated to split each line based on spaces and extract the word and embedding vector separately.\n",
        "\n",
        "The GloVe embeddings are loaded into the embeddings_index dictionary using a with statement to open the embedding file.\n",
        "\n",
        "The all_embs array is created by converting the values of embeddings_index into a NumPy array.\n",
        "\n",
        "The emb_mean and emb_std are computed using the mean and std methods on all_embs.\n",
        "\n",
        "The embed_size is obtained from the shape of all_embs.\n",
        "\n",
        "The embedding matrix embedding_matrix is initialized using np.random.normal with the calculated mean and standard deviation.\n",
        "\n",
        "The code iterates over the word_index to populate the embedding matrix with the GloVe embeddings, similar to the original code."
      ],
      "metadata": {
        "id": "nFZV7tMINqLF"
      }
    },
    {
      "cell_type": "markdown",
      "source": [
        "The emb_mean and emb_std are computed using the mean and standard deviation methods (mean and std) on the all_embs array, which contains all the embedding vectors from the pre-trained GloVe embeddings.\n",
        "\n",
        "Calculating the mean and standard deviation of the embedding vectors allows us to understand the distribution of the embeddings in terms of their values and variations. These statistics provide insight into the typical range and spread of the embedding values, which can be useful for initializing the embedding matrix."
      ],
      "metadata": {
        "id": "chvaY7YgNqLF"
      }
    },
    {
      "cell_type": "code",
      "source": [
        "# Function to extract word and embedding vector from a line in the embedding file\n",
        "def get_coefs(line):\n",
        "    parts = line.rstrip().split(' ')\n",
        "    word = parts[0]\n",
        "    vector = np.asarray(parts[1:], dtype='float32')\n",
        "    return word, vector\n",
        "\n",
        "# Load the GloVe embeddings into a dictionary\n",
        "embeddings_index = {}\n",
        "with open(glove_emb_file, 'r') as file:\n",
        "    for line in file:\n",
        "        word, vector = get_coefs(line)\n",
        "        embeddings_index[word] = vector\n",
        "\n",
        "# Compute mean and standard deviation of the embedding vectors\n",
        "all_embs = np.array(list(embeddings_index.values()))\n",
        "emb_mean, emb_std = all_embs.mean(), all_embs.std()\n",
        "\n",
        "# Get the embedding size\n",
        "embed_size = all_embs.shape[1]\n",
        "\n",
        "# Create the embedding matrix\n",
        "word_index = tokenizer.word_index\n",
        "nb_words = min(max_features, len(word_index))\n",
        "embedding_matrix = np.random.normal(emb_mean, emb_std, (nb_words, embed_size))\n",
        "\n",
        "# Populate the embedding matrix with GloVe embeddings\n",
        "for word, i in word_index.items():\n",
        "    if i >= max_features:\n",
        "        continue\n",
        "    embedding_vector = embeddings_index.get(word)\n",
        "    if embedding_vector is not None:\n",
        "        embedding_matrix[i] = embedding_vector"
      ],
      "metadata": {
        "execution": {
          "iopub.status.busy": "2023-06-01T13:26:48.998433Z",
          "iopub.execute_input": "2023-06-01T13:26:48.998818Z",
          "iopub.status.idle": "2023-06-01T13:27:07.967212Z",
          "shell.execute_reply.started": "2023-06-01T13:26:48.998788Z",
          "shell.execute_reply": "2023-06-01T13:27:07.965935Z"
        },
        "trusted": true,
        "id": "eQNNipIgNqLF"
      },
      "execution_count": 152,
      "outputs": []
    },
    {
      "cell_type": "code",
      "source": [
        "!pip install keras-tuner --upgrade"
      ],
      "metadata": {
        "colab": {
          "base_uri": "https://localhost:8080/"
        },
        "id": "NiX0FvAkd-Zc",
        "outputId": "fce4b3d1-e6e9-47bf-dc3a-b386662eed59"
      },
      "execution_count": 108,
      "outputs": [
        {
          "output_type": "stream",
          "name": "stdout",
          "text": [
            "Looking in indexes: https://pypi.org/simple, https://us-python.pkg.dev/colab-wheels/public/simple/\n",
            "Requirement already satisfied: keras-tuner in /usr/local/lib/python3.10/dist-packages (1.3.5)\n",
            "Requirement already satisfied: packaging in /usr/local/lib/python3.10/dist-packages (from keras-tuner) (23.1)\n",
            "Requirement already satisfied: requests in /usr/local/lib/python3.10/dist-packages (from keras-tuner) (2.27.1)\n",
            "Requirement already satisfied: kt-legacy in /usr/local/lib/python3.10/dist-packages (from keras-tuner) (1.0.5)\n",
            "Requirement already satisfied: urllib3<1.27,>=1.21.1 in /usr/local/lib/python3.10/dist-packages (from requests->keras-tuner) (1.26.15)\n",
            "Requirement already satisfied: certifi>=2017.4.17 in /usr/local/lib/python3.10/dist-packages (from requests->keras-tuner) (2022.12.7)\n",
            "Requirement already satisfied: charset-normalizer~=2.0.0 in /usr/local/lib/python3.10/dist-packages (from requests->keras-tuner) (2.0.12)\n",
            "Requirement already satisfied: idna<4,>=2.5 in /usr/local/lib/python3.10/dist-packages (from requests->keras-tuner) (3.4)\n"
          ]
        }
      ]
    },
    {
      "cell_type": "code",
      "source": [
        "import numpy as np\n",
        "import tensorflow as tf\n",
        "from tensorflow import keras\n",
        "from tensorflow.keras.models import Sequential\n",
        "from tensorflow.keras.layers import Embedding, LSTM, Dense\n",
        "from tensorflow.keras.preprocessing import sequence, text\n",
        "from tensorflow.keras.callbacks import ReduceLROnPlateau\n",
        "from kerastuner import RandomSearch\n",
        "from kerastuner.engine.hyperparameters import HyperParameters\n",
        "from sklearn.metrics import classification_report, confusion_matrix\n",
        "from keras_tuner import RandomSearch\n",
        "import tensorflow.keras.optimizers as keras_optimizers\n",
        "\n",
        "import seaborn as sns\n",
        "import matplotlib.pyplot as plt"
      ],
      "metadata": {
        "execution": {
          "iopub.status.busy": "2023-06-01T13:29:23.088720Z",
          "iopub.execute_input": "2023-06-01T13:29:23.089139Z",
          "iopub.status.idle": "2023-06-01T13:29:23.099396Z",
          "shell.execute_reply.started": "2023-06-01T13:29:23.089107Z",
          "shell.execute_reply": "2023-06-01T13:29:23.097514Z"
        },
        "trusted": true,
        "id": "8O0sPMHINqLF"
      },
      "execution_count": 153,
      "outputs": []
    },
    {
      "cell_type": "markdown",
      "source": [
        "# Model for different batch sizes,units,layers."
      ],
      "metadata": {
        "id": "xFeJFbh3Z4ar"
      }
    },
    {
      "cell_type": "code",
      "source": [
        "batch_sizes = [128, 64, 32]\n",
        "units_list = [64, 128, 256]\n",
        "layers_list = [1, 2, 3]\n",
        "\n",
        "for batch_size in batch_sizes:\n",
        "    for units in units_list:\n",
        "        for layers in layers_list:\n",
        "            print(f\"Training model with batch_size={batch_size}, units={units}, layers={layers}\")\n",
        "            \n",
        "            # Build the model\n",
        "            model = Sequential()\n",
        "            model.add(Embedding(max_features, output_dim=embed_size, weights=[embedding_matrix],\n",
        "                                input_length=maxlen, trainable=False))\n",
        "            \n",
        "            # Add LSTM layers based on the specified number of layers\n",
        "            for _ in range(layers):\n",
        "                model.add(LSTM(units=units, return_sequences=True, recurrent_dropout=0.25, dropout=0.25))\n",
        "            model.add(LSTM(units=units, recurrent_dropout=0.1, dropout=0.1))\n",
        "            \n",
        "            model.add(Dense(units=32, activation='relu'))\n",
        "            model.add(Dense(1, activation='sigmoid'))\n",
        "            \n",
        "            model.compile(optimizer=tf.keras.optimizers.Adam(learning_rate=0.01),\n",
        "                          loss='binary_crossentropy', metrics=['accuracy'])\n",
        "            \n",
        "            model.summary()\n",
        "            \n",
        "            # Train the model on the training set and evaluate on the validation set\n",
        "            history = model.fit(x_train_padded, y_train, validation_data=(x_val_padded, y_val),\n",
        "                                epochs=10, batch_size=batch_size)\n",
        "            \n",
        "            # Evaluate the model on the test set\n",
        "            loss, accuracy = model.evaluate(x_test_padded, y_test)\n",
        "            print(f\"Test loss: {loss}\")\n",
        "            print(f\"Test accuracy: {accuracy}\")\n",
        "            \n",
        "            print(\"------------------------------------------------------------\")\n"
      ],
      "metadata": {
        "colab": {
          "base_uri": "https://localhost:8080/"
        },
        "id": "dxN2cqAR-aRJ",
        "outputId": "6490e06e-d039-481a-d5ac-8755e410f27e"
      },
      "execution_count": null,
      "outputs": [
        {
          "output_type": "stream",
          "name": "stdout",
          "text": [
            "Training model with batch_size=128, units=64, layers=1\n",
            "Model: \"sequential_9\"\n",
            "_________________________________________________________________\n",
            " Layer (type)                Output Shape              Param #   \n",
            "=================================================================\n",
            " embedding_8 (Embedding)     (None, 200, 50)           1250000   \n",
            "                                                                 \n",
            " lstm_16 (LSTM)              (None, 200, 64)           29440     \n",
            "                                                                 \n",
            " lstm_17 (LSTM)              (None, 64)                33024     \n",
            "                                                                 \n",
            " dense_16 (Dense)            (None, 32)                2080      \n",
            "                                                                 \n",
            " dense_17 (Dense)            (None, 1)                 33        \n",
            "                                                                 \n",
            "=================================================================\n",
            "Total params: 1,314,577\n",
            "Trainable params: 64,577\n",
            "Non-trainable params: 1,250,000\n",
            "_________________________________________________________________\n",
            "Epoch 1/10\n",
            "224/224 [==============================] - 247s 1s/step - loss: 0.2130 - accuracy: 0.9174 - val_loss: 0.0972 - val_accuracy: 0.9649\n",
            "Epoch 2/10\n",
            "224/224 [==============================] - 233s 1s/step - loss: 0.0873 - accuracy: 0.9683 - val_loss: 0.0514 - val_accuracy: 0.9815\n",
            "Epoch 3/10\n",
            "224/224 [==============================] - 237s 1s/step - loss: 0.0541 - accuracy: 0.9801 - val_loss: 0.0351 - val_accuracy: 0.9888\n",
            "Epoch 4/10\n",
            "224/224 [==============================] - 239s 1s/step - loss: 0.0491 - accuracy: 0.9823 - val_loss: 0.0321 - val_accuracy: 0.9898\n",
            "Epoch 5/10\n",
            "224/224 [==============================] - 240s 1s/step - loss: 0.0342 - accuracy: 0.9876 - val_loss: 0.0258 - val_accuracy: 0.9923\n",
            "Epoch 6/10\n",
            "224/224 [==============================] - 248s 1s/step - loss: 0.0306 - accuracy: 0.9896 - val_loss: 0.0196 - val_accuracy: 0.9926\n",
            "Epoch 7/10\n",
            "224/224 [==============================] - 240s 1s/step - loss: 0.0206 - accuracy: 0.9927 - val_loss: 0.0201 - val_accuracy: 0.9948\n",
            "Epoch 8/10\n",
            "224/224 [==============================] - 233s 1s/step - loss: 0.0201 - accuracy: 0.9929 - val_loss: 0.0251 - val_accuracy: 0.9924\n",
            "Epoch 9/10\n",
            "224/224 [==============================] - 240s 1s/step - loss: 0.0162 - accuracy: 0.9937 - val_loss: 0.0241 - val_accuracy: 0.9941\n",
            "Epoch 10/10\n",
            "224/224 [==============================] - 240s 1s/step - loss: 0.0161 - accuracy: 0.9945 - val_loss: 0.0239 - val_accuracy: 0.9937\n",
            "280/280 [==============================] - 24s 87ms/step - loss: 0.0196 - accuracy: 0.9943\n",
            "Test loss: 0.019573643803596497\n",
            "Test accuracy: 0.9942940473556519\n",
            "------------------------------------------------------------\n",
            "Training model with batch_size=128, units=64, layers=2\n",
            "Model: \"sequential_10\"\n",
            "_________________________________________________________________\n",
            " Layer (type)                Output Shape              Param #   \n",
            "=================================================================\n",
            " embedding_9 (Embedding)     (None, 200, 50)           1250000   \n",
            "                                                                 \n",
            " lstm_18 (LSTM)              (None, 200, 64)           29440     \n",
            "                                                                 \n",
            " lstm_19 (LSTM)              (None, 200, 64)           33024     \n",
            "                                                                 \n",
            " lstm_20 (LSTM)              (None, 64)                33024     \n",
            "                                                                 \n",
            " dense_18 (Dense)            (None, 32)                2080      \n",
            "                                                                 \n",
            " dense_19 (Dense)            (None, 1)                 33        \n",
            "                                                                 \n",
            "=================================================================\n",
            "Total params: 1,347,601\n",
            "Trainable params: 97,601\n",
            "Non-trainable params: 1,250,000\n",
            "_________________________________________________________________\n",
            "Epoch 1/10\n",
            "224/224 [==============================] - 389s 2s/step - loss: 0.2396 - accuracy: 0.9032 - val_loss: 0.1214 - val_accuracy: 0.9664\n",
            "Epoch 2/10\n",
            "224/224 [==============================] - 379s 2s/step - loss: 0.0927 - accuracy: 0.9701 - val_loss: 0.0521 - val_accuracy: 0.9834\n",
            "Epoch 3/10\n",
            "224/224 [==============================] - 377s 2s/step - loss: 0.0555 - accuracy: 0.9806 - val_loss: 0.0363 - val_accuracy: 0.9891\n",
            "Epoch 4/10\n",
            "224/224 [==============================] - 382s 2s/step - loss: 0.0401 - accuracy: 0.9861 - val_loss: 0.0272 - val_accuracy: 0.9920\n",
            "Epoch 5/10\n",
            "224/224 [==============================] - 382s 2s/step - loss: 0.0353 - accuracy: 0.9871 - val_loss: 0.0345 - val_accuracy: 0.9913\n",
            "Epoch 6/10\n",
            "224/224 [==============================] - 384s 2s/step - loss: 0.0312 - accuracy: 0.9891 - val_loss: 0.0230 - val_accuracy: 0.9930\n",
            "Epoch 7/10\n",
            "224/224 [==============================] - 382s 2s/step - loss: 0.0303 - accuracy: 0.9896 - val_loss: 0.0325 - val_accuracy: 0.9902\n",
            "Epoch 8/10\n",
            "224/224 [==============================] - 380s 2s/step - loss: 0.0251 - accuracy: 0.9915 - val_loss: 0.0209 - val_accuracy: 0.9947\n",
            "Epoch 9/10\n",
            "224/224 [==============================] - 383s 2s/step - loss: 0.0203 - accuracy: 0.9928 - val_loss: 0.0245 - val_accuracy: 0.9938\n",
            "Epoch 10/10\n",
            "224/224 [==============================] - 388s 2s/step - loss: 0.0222 - accuracy: 0.9923 - val_loss: 0.0194 - val_accuracy: 0.9940\n",
            "280/280 [==============================] - 36s 127ms/step - loss: 0.0178 - accuracy: 0.9944\n",
            "Test loss: 0.017780378460884094\n",
            "Test accuracy: 0.9944059252738953\n",
            "------------------------------------------------------------\n",
            "Training model with batch_size=128, units=64, layers=3\n",
            "Model: \"sequential_11\"\n",
            "_________________________________________________________________\n",
            " Layer (type)                Output Shape              Param #   \n",
            "=================================================================\n",
            " embedding_10 (Embedding)    (None, 200, 50)           1250000   \n",
            "                                                                 \n",
            " lstm_21 (LSTM)              (None, 200, 64)           29440     \n",
            "                                                                 \n",
            " lstm_22 (LSTM)              (None, 200, 64)           33024     \n",
            "                                                                 \n",
            " lstm_23 (LSTM)              (None, 200, 64)           33024     \n",
            "                                                                 \n",
            " lstm_24 (LSTM)              (None, 64)                33024     \n",
            "                                                                 \n",
            " dense_20 (Dense)            (None, 32)                2080      \n",
            "                                                                 \n",
            " dense_21 (Dense)            (None, 1)                 33        \n",
            "                                                                 \n",
            "=================================================================\n",
            "Total params: 1,380,625\n",
            "Trainable params: 130,625\n",
            "Non-trainable params: 1,250,000\n",
            "_________________________________________________________________\n",
            "Epoch 1/10\n",
            "224/224 [==============================] - 530s 2s/step - loss: 0.3268 - accuracy: 0.8612 - val_loss: 0.1144 - val_accuracy: 0.9573\n",
            "Epoch 2/10\n",
            "224/224 [==============================] - 512s 2s/step - loss: 0.1337 - accuracy: 0.9528 - val_loss: 0.0723 - val_accuracy: 0.9762\n",
            "Epoch 3/10\n",
            "224/224 [==============================] - 529s 2s/step - loss: 0.0760 - accuracy: 0.9733 - val_loss: 0.0444 - val_accuracy: 0.9849\n",
            "Epoch 4/10\n",
            "224/224 [==============================] - 508s 2s/step - loss: 0.1759 - accuracy: 0.9030 - val_loss: 0.6742 - val_accuracy: 0.5208\n",
            "Epoch 5/10\n",
            "224/224 [==============================] - 505s 2s/step - loss: 0.1985 - accuracy: 0.9113 - val_loss: 0.1025 - val_accuracy: 0.9684\n",
            "Epoch 6/10\n",
            "224/224 [==============================] - 533s 2s/step - loss: 0.0674 - accuracy: 0.9757 - val_loss: 0.0468 - val_accuracy: 0.9846\n",
            "Epoch 7/10\n",
            "224/224 [==============================] - 507s 2s/step - loss: 0.0451 - accuracy: 0.9839 - val_loss: 0.0302 - val_accuracy: 0.9898\n",
            "Epoch 8/10\n",
            "224/224 [==============================] - 523s 2s/step - loss: 0.0340 - accuracy: 0.9879 - val_loss: 0.0245 - val_accuracy: 0.9920\n",
            "Epoch 9/10\n",
            "224/224 [==============================] - 500s 2s/step - loss: 0.0280 - accuracy: 0.9903 - val_loss: 0.0252 - val_accuracy: 0.9919\n",
            "Epoch 10/10\n",
            "224/224 [==============================] - 511s 2s/step - loss: 0.0255 - accuracy: 0.9908 - val_loss: 0.0248 - val_accuracy: 0.9934\n",
            "280/280 [==============================] - 51s 182ms/step - loss: 0.0215 - accuracy: 0.9935\n",
            "Test loss: 0.021483423188328743\n",
            "Test accuracy: 0.9935108423233032\n",
            "------------------------------------------------------------\n",
            "Training model with batch_size=128, units=128, layers=1\n",
            "Model: \"sequential_12\"\n",
            "_________________________________________________________________\n",
            " Layer (type)                Output Shape              Param #   \n",
            "=================================================================\n",
            " embedding_11 (Embedding)    (None, 200, 50)           1250000   \n",
            "                                                                 \n",
            " lstm_25 (LSTM)              (None, 200, 128)          91648     \n",
            "                                                                 \n",
            " lstm_26 (LSTM)              (None, 128)               131584    \n",
            "                                                                 \n",
            " dense_22 (Dense)            (None, 32)                4128      \n",
            "                                                                 \n",
            " dense_23 (Dense)            (None, 1)                 33        \n",
            "                                                                 \n",
            "=================================================================\n",
            "Total params: 1,477,393\n",
            "Trainable params: 227,393\n",
            "Non-trainable params: 1,250,000\n",
            "_________________________________________________________________\n",
            "Epoch 1/10\n",
            "224/224 [==============================] - 691s 3s/step - loss: 0.3183 - accuracy: 0.8664 - val_loss: 0.1804 - val_accuracy: 0.9333\n",
            "Epoch 2/10\n",
            "224/224 [==============================] - 695s 3s/step - loss: 0.1242 - accuracy: 0.9563 - val_loss: 0.0773 - val_accuracy: 0.9738\n",
            "Epoch 3/10\n",
            "224/224 [==============================] - 695s 3s/step - loss: 0.0795 - accuracy: 0.9714 - val_loss: 0.0702 - val_accuracy: 0.9751\n",
            "Epoch 4/10\n",
            "224/224 [==============================] - 696s 3s/step - loss: 0.0547 - accuracy: 0.9806 - val_loss: 0.0315 - val_accuracy: 0.9899\n",
            "Epoch 5/10\n",
            "224/224 [==============================] - 689s 3s/step - loss: 0.0425 - accuracy: 0.9853 - val_loss: 0.0414 - val_accuracy: 0.9825\n",
            "Epoch 6/10\n",
            "224/224 [==============================] - 699s 3s/step - loss: 0.0372 - accuracy: 0.9868 - val_loss: 0.0243 - val_accuracy: 0.9919\n",
            "Epoch 7/10\n",
            "224/224 [==============================] - 679s 3s/step - loss: 0.0326 - accuracy: 0.9880 - val_loss: 0.0254 - val_accuracy: 0.9919\n",
            "Epoch 8/10\n",
            "224/224 [==============================] - 681s 3s/step - loss: 0.0243 - accuracy: 0.9911 - val_loss: 0.0285 - val_accuracy: 0.9919\n",
            "Epoch 9/10\n",
            "224/224 [==============================] - 719s 3s/step - loss: 0.0257 - accuracy: 0.9906 - val_loss: 0.0228 - val_accuracy: 0.9931\n",
            "Epoch 10/10\n",
            "224/224 [==============================] - 688s 3s/step - loss: 0.0248 - accuracy: 0.9915 - val_loss: 0.0230 - val_accuracy: 0.9934\n",
            "280/280 [==============================] - 44s 158ms/step - loss: 0.0227 - accuracy: 0.9930\n",
            "Test loss: 0.02267272397875786\n",
            "Test accuracy: 0.9929514527320862\n",
            "------------------------------------------------------------\n",
            "Training model with batch_size=128, units=128, layers=2\n",
            "Model: \"sequential_13\"\n",
            "_________________________________________________________________\n",
            " Layer (type)                Output Shape              Param #   \n",
            "=================================================================\n",
            " embedding_12 (Embedding)    (None, 200, 50)           1250000   \n",
            "                                                                 \n",
            " lstm_27 (LSTM)              (None, 200, 128)          91648     \n",
            "                                                                 \n",
            " lstm_28 (LSTM)              (None, 200, 128)          131584    \n",
            "                                                                 \n",
            " lstm_29 (LSTM)              (None, 128)               131584    \n",
            "                                                                 \n",
            " dense_24 (Dense)            (None, 32)                4128      \n",
            "                                                                 \n",
            " dense_25 (Dense)            (None, 1)                 33        \n",
            "                                                                 \n",
            "=================================================================\n",
            "Total params: 1,608,977\n",
            "Trainable params: 358,977\n",
            "Non-trainable params: 1,250,000\n",
            "_________________________________________________________________\n",
            "Epoch 1/10\n",
            "224/224 [==============================] - 1088s 5s/step - loss: 0.2926 - accuracy: 0.8692 - val_loss: 0.0846 - val_accuracy: 0.9726\n",
            "Epoch 2/10\n",
            "224/224 [==============================] - 1089s 5s/step - loss: 0.1070 - accuracy: 0.9621 - val_loss: 0.0670 - val_accuracy: 0.9772\n",
            "Epoch 3/10\n",
            "224/224 [==============================] - 1111s 5s/step - loss: 0.0782 - accuracy: 0.9714 - val_loss: 0.0442 - val_accuracy: 0.9855\n",
            "Epoch 4/10\n",
            "224/224 [==============================] - 1115s 5s/step - loss: 0.0508 - accuracy: 0.9819 - val_loss: 0.0300 - val_accuracy: 0.9912\n",
            "Epoch 5/10\n",
            "224/224 [==============================] - 1271s 6s/step - loss: 0.0380 - accuracy: 0.9867 - val_loss: 0.0271 - val_accuracy: 0.9920\n",
            "Epoch 6/10\n",
            "224/224 [==============================] - 1115s 5s/step - loss: 0.0372 - accuracy: 0.9876 - val_loss: 0.0284 - val_accuracy: 0.9930\n",
            "Epoch 7/10\n",
            "224/224 [==============================] - 1138s 5s/step - loss: 0.0308 - accuracy: 0.9894 - val_loss: 0.0292 - val_accuracy: 0.9924\n",
            "Epoch 8/10\n",
            "224/224 [==============================] - 1111s 5s/step - loss: 0.0291 - accuracy: 0.9900 - val_loss: 0.0370 - val_accuracy: 0.9894\n",
            "Epoch 9/10\n",
            "224/224 [==============================] - 1117s 5s/step - loss: 0.0290 - accuracy: 0.9892 - val_loss: 0.0324 - val_accuracy: 0.9904\n",
            "Epoch 10/10\n",
            "224/224 [==============================] - 1129s 5s/step - loss: 0.0255 - accuracy: 0.9911 - val_loss: 0.0249 - val_accuracy: 0.9922\n",
            "  1/280 [..............................] - ETA: 1:05 - loss: 0.0170 - accuracy: 1.0000"
          ]
        }
      ]
    },
    {
      "cell_type": "markdown",
      "source": [
        "## For trying basic LSTM Model\n",
        "You can adjust this model according to above results."
      ],
      "metadata": {
        "id": "9uGCkC-FaAzD"
      }
    },
    {
      "cell_type": "code",
      "source": [
        "model = Sequential()\n",
        "model.add(Embedding(max_features, output_dim=embed_size, weights=[embedding_matrix],\n",
        "                    input_length=maxlen, trainable=False))\n",
        "model.add(LSTM(units=128, return_sequences=True, recurrent_dropout=0.25, dropout=0.25))\n",
        "model.add(LSTM(units=64, recurrent_dropout=0.1, dropout=0.1))\n",
        "model.add(Dense(units=32, activation='relu'))\n",
        "model.add(Dense(1, activation='sigmoid'))\n",
        "model.compile(optimizer=keras_optimizers.Adam(lr=0.01),\n",
        "              loss='binary_crossentropy', metrics=['accuracy'])\n",
        "model.summary()"
      ],
      "metadata": {
        "execution": {
          "iopub.status.busy": "2023-06-01T13:29:24.915075Z",
          "iopub.execute_input": "2023-06-01T13:29:24.918620Z",
          "iopub.status.idle": "2023-06-01T13:29:25.354404Z",
          "shell.execute_reply.started": "2023-06-01T13:29:24.916242Z",
          "shell.execute_reply": "2023-06-01T13:29:25.352987Z"
        },
        "trusted": true,
        "colab": {
          "base_uri": "https://localhost:8080/"
        },
        "id": "zIeeGLEWNqLG",
        "outputId": "7e683b64-a650-41ce-aba5-83e608cc6cc5"
      },
      "execution_count": 154,
      "outputs": [
        {
          "output_type": "stream",
          "name": "stderr",
          "text": [
            "WARNING:absl:`lr` is deprecated in Keras optimizer, please use `learning_rate` or use the legacy optimizer, e.g.,tf.keras.optimizers.legacy.Adam.\n"
          ]
        },
        {
          "output_type": "stream",
          "name": "stdout",
          "text": [
            "Model: \"sequential_4\"\n",
            "_________________________________________________________________\n",
            " Layer (type)                Output Shape              Param #   \n",
            "=================================================================\n",
            " embedding_3 (Embedding)     (None, 200, 50)           1250000   \n",
            "                                                                 \n",
            " lstm_6 (LSTM)               (None, 200, 128)          91648     \n",
            "                                                                 \n",
            " lstm_7 (LSTM)               (None, 64)                49408     \n",
            "                                                                 \n",
            " dense_6 (Dense)             (None, 32)                2080      \n",
            "                                                                 \n",
            " dense_7 (Dense)             (None, 1)                 33        \n",
            "                                                                 \n",
            "=================================================================\n",
            "Total params: 1,393,169\n",
            "Trainable params: 143,169\n",
            "Non-trainable params: 1,250,000\n",
            "_________________________________________________________________\n"
          ]
        }
      ]
    },
    {
      "cell_type": "code",
      "source": [
        "# Train the model on the training set and evaluate on the validation set\n",
        "history = model.fit(x_train_padded, y_train, validation_data=(x_val_padded, y_val),\n",
        "                    epochs=10, batch_size=256)"
      ],
      "metadata": {
        "execution": {
          "iopub.status.busy": "2023-06-01T13:29:41.030452Z",
          "iopub.execute_input": "2023-06-01T13:29:41.030878Z",
          "iopub.status.idle": "2023-06-01T13:46:34.992016Z",
          "shell.execute_reply.started": "2023-06-01T13:29:41.030846Z",
          "shell.execute_reply": "2023-06-01T13:46:34.990256Z"
        },
        "trusted": true,
        "colab": {
          "base_uri": "https://localhost:8080/"
        },
        "id": "gQrYvm_vNqLG",
        "outputId": "41659ca6-03fe-4aba-d4ae-d7d342ab1fef"
      },
      "execution_count": 155,
      "outputs": [
        {
          "output_type": "stream",
          "name": "stdout",
          "text": [
            "Epoch 1/10\n",
            "112/112 [==============================] - 421s 4s/step - loss: 0.3062 - accuracy: 0.8712 - val_loss: 0.1947 - val_accuracy: 0.9234\n",
            "Epoch 2/10\n",
            "112/112 [==============================] - 405s 4s/step - loss: 0.1676 - accuracy: 0.9355 - val_loss: 0.2558 - val_accuracy: 0.9116\n",
            "Epoch 3/10\n",
            "112/112 [==============================] - 398s 4s/step - loss: 0.1554 - accuracy: 0.9397 - val_loss: 0.1000 - val_accuracy: 0.9610\n",
            "Epoch 4/10\n",
            "112/112 [==============================] - 393s 3s/step - loss: 0.1196 - accuracy: 0.9565 - val_loss: 0.1005 - val_accuracy: 0.9650\n",
            "Epoch 5/10\n",
            "112/112 [==============================] - 396s 4s/step - loss: 0.0922 - accuracy: 0.9676 - val_loss: 0.0735 - val_accuracy: 0.9745\n",
            "Epoch 6/10\n",
            "112/112 [==============================] - 397s 4s/step - loss: 0.0646 - accuracy: 0.9765 - val_loss: 0.0493 - val_accuracy: 0.9827\n",
            "Epoch 7/10\n",
            "112/112 [==============================] - 392s 4s/step - loss: 0.0628 - accuracy: 0.9770 - val_loss: 0.0437 - val_accuracy: 0.9849\n",
            "Epoch 8/10\n",
            "112/112 [==============================] - 406s 4s/step - loss: 0.0642 - accuracy: 0.9773 - val_loss: 0.0523 - val_accuracy: 0.9811\n",
            "Epoch 9/10\n",
            "112/112 [==============================] - 409s 4s/step - loss: 0.0614 - accuracy: 0.9775 - val_loss: 0.0779 - val_accuracy: 0.9690\n",
            "Epoch 10/10\n",
            "112/112 [==============================] - 408s 4s/step - loss: 0.0627 - accuracy: 0.9777 - val_loss: 0.0529 - val_accuracy: 0.9797\n"
          ]
        }
      ]
    },
    {
      "cell_type": "markdown",
      "source": [
        "# Results"
      ],
      "metadata": {
        "id": "aTOuVQRsaasb"
      }
    },
    {
      "cell_type": "code",
      "source": [
        "# Evaluate the model on the test set\n",
        "loss, accuracy = model.evaluate(x_test_padded, y_test)\n",
        "print(\"Test loss:\", loss)\n",
        "print(\"Test accuracy:\", accuracy)"
      ],
      "metadata": {
        "colab": {
          "base_uri": "https://localhost:8080/"
        },
        "id": "ZMfk1W3MNqLG",
        "outputId": "f7303aea-8ae9-4721-d722-57f62c686e1f"
      },
      "execution_count": 156,
      "outputs": [
        {
          "output_type": "stream",
          "name": "stdout",
          "text": [
            "280/280 [==============================] - 37s 131ms/step - loss: 0.0562 - accuracy: 0.9780\n",
            "Test loss: 0.05619237944483757\n",
            "Test accuracy: 0.9779592752456665\n"
          ]
        }
      ]
    },
    {
      "cell_type": "code",
      "source": [
        "# Plot training and validation metrics\n",
        "epochs = range(1, 11)\n",
        "fig, ax = plt.subplots(1, 2, figsize=(20, 10))\n",
        "ax[0].plot(epochs, history.history['accuracy'], 'go-', label='Training Accuracy')\n",
        "ax[0].plot(epochs, history.history['val_accuracy'], 'ro-', label='Validation Accuracy')\n",
        "ax[0].set_title('Training & Validation Accuracy')\n",
        "ax[0].legend()\n",
        "ax[0].set_xlabel(\"Epochs\")\n",
        "ax[0].set_ylabel(\"Accuracy\")\n",
        "\n",
        "ax[1].plot(epochs, history.history['loss'], 'go-', label='Training Loss')\n",
        "ax[1].plot(epochs, history.history['val_loss'], 'ro-', label='Validation Loss')\n",
        "ax[1].set_title('Training & Validation Loss')\n",
        "ax[1].legend()\n",
        "ax[1].set_xlabel(\"Epochs\")\n",
        "ax[1].set_ylabel(\"Loss\")\n",
        "\n",
        "plt.show()"
      ],
      "metadata": {
        "colab": {
          "base_uri": "https://localhost:8080/",
          "height": 886
        },
        "id": "BeSAFdN5NqLG",
        "outputId": "675762e0-c333-4d04-ed3a-7d5abcdf626c"
      },
      "execution_count": 157,
      "outputs": [
        {
          "output_type": "display_data",
          "data": {
            "text/plain": [
              "<Figure size 2000x1000 with 2 Axes>"
            ],
            "image/png": "[encoded data removed]"
          },
          "metadata": {}
        }
      ]
    },
    {
      "cell_type": "code",
      "source": [
        "pred_probabilities = model.predict(x_test_padded)\n",
        "pred = (pred_probabilities > 0.5).astype(int)\n",
        "\n",
        "print(classification_report(y_test, pred, target_names=['Fake', 'True']))\n"
      ],
      "metadata": {
        "colab": {
          "base_uri": "https://localhost:8080/"
        },
        "id": "68kNTb6NNqLH",
        "outputId": "bf73e774-5209-4916-8cb4-89c821d25882"
      },
      "execution_count": 159,
      "outputs": [
        {
          "output_type": "stream",
          "name": "stdout",
          "text": [
            "280/280 [==============================] - 37s 125ms/step\n",
            "              precision    recall  f1-score   support\n",
            "\n",
            "        Fake       0.97      0.99      0.98      4648\n",
            "        True       0.99      0.96      0.98      4290\n",
            "\n",
            "    accuracy                           0.98      8938\n",
            "   macro avg       0.98      0.98      0.98      8938\n",
            "weighted avg       0.98      0.98      0.98      8938\n",
            "\n"
          ]
        }
      ]
    },
    {
      "cell_type": "code",
      "source": [
        "cm = confusion_matrix(y_test, pred)\n",
        "cm = pd.DataFrame(cm, index=['Fake', 'True'], columns=['Fake', 'True'])\n",
        "\n",
        "plt.figure(figsize=(10, 10))\n",
        "sns.heatmap(cm, cmap=\"Blues\", linecolor='black', linewidth=1, annot=True, fmt='',\n",
        "            xticklabels=['Fake', 'True'], yticklabels=['Fake', 'True'])\n",
        "plt.xlabel(\"Predicted\")\n",
        "plt.ylabel(\"Actual\")\n",
        "plt.show()"
      ],
      "metadata": {
        "colab": {
          "base_uri": "https://localhost:8080/",
          "height": 862
        },
        "id": "NCzvFUU7kJbo",
        "outputId": "34a34100-603f-4a40-e48a-391811216b06"
      },
      "execution_count": 160,
      "outputs": [
        {
          "output_type": "display_data",
          "data": {
            "text/plain": [
              "<Figure size 1000x1000 with 2 Axes>"
            ],
            "image/png": "[encoded data removed]"
          },
          "metadata": {}
        }
      ]
    }
  ]
}